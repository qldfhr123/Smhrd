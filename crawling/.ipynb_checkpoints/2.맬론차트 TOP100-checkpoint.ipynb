{
 "cells": [
  {
   "cell_type": "code",
   "execution_count": 3,
   "id": "cb1cb1cb-0243-40d4-91f7-86c9d60f1eb2",
   "metadata": {},
   "outputs": [],
   "source": [
    "import requests as req\n",
    "from bs4 import BeautifulSoup as bs"
   ]
  },
  {
   "cell_type": "code",
   "execution_count": 4,
   "id": "a815f123-3c40-49aa-8425-98c82cf9fa4b",
   "metadata": {},
   "outputs": [],
   "source": [
    "head = {\"user-agent\": \"Mozilla/5.0 (Windows NT 10.0; Win64; x64) AppleWebKit/537.36 (KHTML, like Gecko) Chrome/135.0.0.0 Safari/537.36\"}\n",
    "res = req.get(\"https://www.melon.com/chart/index.htm\", headers=head)"
   ]
  },
  {
   "cell_type": "code",
   "execution_count": 5,
   "id": "825295d4-e85c-4058-a01f-2960fd0211cd",
   "metadata": {},
   "outputs": [],
   "source": [
    "soup = bs(res.text,\"lxml\")"
   ]
  },
  {
   "cell_type": "code",
   "execution_count": 6,
   "id": "e406dc6e-7c4b-443e-bc9f-a7c616848b5d",
   "metadata": {},
   "outputs": [],
   "source": [
    "# 클래스명을 여러개 가지고 있을 경우에는 공백 지우고 .으로 이어준다\n",
    "singer = soup.select(\"div.ellipsis.rank02 > a\")"
   ]
  },
  {
   "cell_type": "code",
   "execution_count": 7,
   "id": "f8dfc931-de10-46ba-b106-0446bb200eac",
   "metadata": {
    "scrolled": true
   },
   "outputs": [
    {
     "data": {
      "text/plain": [
       "106"
      ]
     },
     "execution_count": 7,
     "metadata": {},
     "output_type": "execute_result"
    }
   ],
   "source": [
    "len(singer)"
   ]
  },
  {
   "cell_type": "code",
   "execution_count": 8,
   "id": "a085ccce-5087-497b-aa29-0a450fe7ba04",
   "metadata": {},
   "outputs": [],
   "source": [
    "# 부정확한 데이터가 수집되면 반드시 HTML 코드 정보 다시 확인\n",
    "# select_one >> 데이터 복수시 첫번째 데이터만 가져온다\n",
    "# singer = soup.select_one(\"div.ellipsis.rank02 > span.checkEllipsis\")"
   ]
  },
  {
   "cell_type": "code",
   "execution_count": 9,
   "id": "1ca940c6-c549-49b1-b9a6-3cb65d81aa95",
   "metadata": {},
   "outputs": [],
   "source": [
    "singer = soup.select(\"div.ellipsis.rank02 > span\")\n",
    "song = soup.select(\"div.ellipsis.rank01 > span > a\")"
   ]
  },
  {
   "cell_type": "code",
   "execution_count": 10,
   "id": "d819c7b6-9f2e-485f-b431-f107d0c5d2ba",
   "metadata": {},
   "outputs": [
    {
     "data": {
      "text/plain": [
       "'TOO BAD (feat. Anderson .Paak)'"
      ]
     },
     "execution_count": 10,
     "metadata": {},
     "output_type": "execute_result"
    }
   ],
   "source": [
    "song[0].text"
   ]
  },
  {
   "cell_type": "code",
   "execution_count": 12,
   "id": "17f20e40-a331-40c2-be59-fd122836c9f2",
   "metadata": {},
   "outputs": [],
   "source": [
    "singer_list = []\n",
    "song_list = []\n",
    "for i in range(len(singer)):\n",
    "    singer_list.append(singer[i].text)\n",
    "    song_list.append(song[i].text)"
   ]
  },
  {
   "cell_type": "code",
   "execution_count": null,
   "id": "90d80fe2-527f-4825-9cb3-e51af06cf880",
   "metadata": {
    "scrolled": true
   },
   "outputs": [],
   "source": [
    "singer_list"
   ]
  },
  {
   "cell_type": "code",
   "execution_count": 43,
   "id": "f6c8a9e0-08c4-419f-8d54-01cb9fae5384",
   "metadata": {
    "scrolled": true
   },
   "outputs": [
    {
     "data": {
      "text/plain": [
       "['G-DRAGON',\n",
       " '조째즈',\n",
       " 'WOODZ',\n",
       " '제니 (JENNIE)',\n",
       " 'G-DRAGON',\n",
       " '황가람',\n",
       " 'IVE (아이브)',\n",
       " 'aespa',\n",
       " 'BOYNEXTDOOR',\n",
       " '로제 (ROSÉ)',\n",
       " 'Bruno Mars',\n",
       " 'LE SSERAFIM (르세라핌)',\n",
       " '오반(OVAN)',\n",
       " 'DAY6 (데이식스)',\n",
       " 'IVE (아이브)',\n",
       " '로제 (ROSÉ)',\n",
       " '로이킴',\n",
       " '이클립스 (ECLIPSE)',\n",
       " 'KiiiKiii (키키)',\n",
       " 'G-DRAGON',\n",
       " '황가람',\n",
       " 'G-DRAGON',\n",
       " '이창섭',\n",
       " 'DAY6 (데이식스)',\n",
       " 'DAY6 (데이식스)',\n",
       " '임영웅',\n",
       " 'aespa',\n",
       " 'Lady Gaga',\n",
       " 'Bruno Mars',\n",
       " 'AKMU (악뮤)',\n",
       " 'DAY6 (데이식스)',\n",
       " '이무진',\n",
       " 'BABYMONSTER',\n",
       " 'PLAVE',\n",
       " '순순희(지환)',\n",
       " '아이유',\n",
       " '이예은',\n",
       " '아샤트리',\n",
       " '전건호',\n",
       " '임영웅',\n",
       " '너드커넥션 (Nerd Connection)',\n",
       " 'aespa',\n",
       " '임영웅',\n",
       " '이무진',\n",
       " 'QWER',\n",
       " '성시경',\n",
       " 'G-DRAGON',\n",
       " '멜로망스',\n",
       " 'Hearts2Hearts (하츠투하츠)',\n",
       " 'QWER',\n",
       " '임영웅',\n",
       " '임재현',\n",
       " 'TWS (투어스)',\n",
       " 'PLAVE',\n",
       " '임영웅',\n",
       " '폴킴',\n",
       " 'PLAVE',\n",
       " '잔나비',\n",
       " '임영웅',\n",
       " '이무진',\n",
       " '아일릿(ILLIT)',\n",
       " 'NewJeans',\n",
       " '임영웅',\n",
       " '경서예지',\n",
       " '전건호',\n",
       " 'PLAVE',\n",
       " '(여자)아이들',\n",
       " '박재정',\n",
       " '방탄소년단',\n",
       " 'BOYNEXTDOOR',\n",
       " 'PLAVE',\n",
       " '제니 (JENNIE)',\n",
       " '프로미스나인',\n",
       " 'IVE (아이브)',\n",
       " '우디 (Woody)',\n",
       " '범진',\n",
       " '재쓰비 (JAESSBEE)',\n",
       " '정국',\n",
       " '이영지',\n",
       " 'Crush',\n",
       " '10CM',\n",
       " 'NewJeans',\n",
       " '임영웅',\n",
       " '김민석',\n",
       " '임영웅',\n",
       " '임영웅',\n",
       " '임영웅',\n",
       " '임영웅',\n",
       " '우디 (Woody)',\n",
       " 'NewJeans',\n",
       " '송필근',\n",
       " 'j-hope',\n",
       " 'Miguel',\n",
       " 'aespa',\n",
       " '순순희',\n",
       " 'KISS OF LIFE',\n",
       " 'DAY6 (데이식스)',\n",
       " 'IVE (아이브)',\n",
       " 'G-DRAGON',\n",
       " '임영웅',\n",
       " 'NewJeans',\n",
       " '로제 (ROSÉ)',\n",
       " '지수 (JISOO)',\n",
       " 'KISS OF LIFE',\n",
       " '태연 (TAEYEON)',\n",
       " '임영웅']"
      ]
     },
     "execution_count": 43,
     "metadata": {},
     "output_type": "execute_result"
    }
   ],
   "source": [
    "song_list"
   ]
  },
  {
   "cell_type": "code",
   "execution_count": 25,
   "id": "712104b7-2e9d-4883-901a-2073c53d64c8",
   "metadata": {},
   "outputs": [],
   "source": [
    "import pandas as pd"
   ]
  },
  {
   "cell_type": "code",
   "execution_count": 44,
   "id": "3e72186c-1421-4656-a746-bffefebc533a",
   "metadata": {},
   "outputs": [],
   "source": [
    "data1 = pd.DataFrame(singer_list, columns=[\"가수 이름\"])\n",
    "data2 = pd.DataFrame(song_list, columns=[\"노래 제목\"])"
   ]
  },
  {
   "cell_type": "code",
   "execution_count": 45,
   "id": "440025aa-5546-4a5d-9bb8-1c8ade631411",
   "metadata": {},
   "outputs": [
    {
     "data": {
      "text/html": [
       "<div>\n",
       "<style scoped>\n",
       "    .dataframe tbody tr th:only-of-type {\n",
       "        vertical-align: middle;\n",
       "    }\n",
       "\n",
       "    .dataframe tbody tr th {\n",
       "        vertical-align: top;\n",
       "    }\n",
       "\n",
       "    .dataframe thead th {\n",
       "        text-align: right;\n",
       "    }\n",
       "</style>\n",
       "<table border=\"1\" class=\"dataframe\">\n",
       "  <thead>\n",
       "    <tr style=\"text-align: right;\">\n",
       "      <th></th>\n",
       "      <th>가수 이름</th>\n",
       "    </tr>\n",
       "  </thead>\n",
       "  <tbody>\n",
       "    <tr>\n",
       "      <th>0</th>\n",
       "      <td>G-DRAGON</td>\n",
       "    </tr>\n",
       "    <tr>\n",
       "      <th>1</th>\n",
       "      <td>조째즈</td>\n",
       "    </tr>\n",
       "    <tr>\n",
       "      <th>2</th>\n",
       "      <td>WOODZ</td>\n",
       "    </tr>\n",
       "    <tr>\n",
       "      <th>3</th>\n",
       "      <td>제니 (JENNIE)</td>\n",
       "    </tr>\n",
       "    <tr>\n",
       "      <th>4</th>\n",
       "      <td>G-DRAGON</td>\n",
       "    </tr>\n",
       "    <tr>\n",
       "      <th>...</th>\n",
       "      <td>...</td>\n",
       "    </tr>\n",
       "    <tr>\n",
       "      <th>101</th>\n",
       "      <td>로제 (ROSÉ)</td>\n",
       "    </tr>\n",
       "    <tr>\n",
       "      <th>102</th>\n",
       "      <td>지수 (JISOO)</td>\n",
       "    </tr>\n",
       "    <tr>\n",
       "      <th>103</th>\n",
       "      <td>KISS OF LIFE</td>\n",
       "    </tr>\n",
       "    <tr>\n",
       "      <th>104</th>\n",
       "      <td>태연 (TAEYEON)</td>\n",
       "    </tr>\n",
       "    <tr>\n",
       "      <th>105</th>\n",
       "      <td>임영웅</td>\n",
       "    </tr>\n",
       "  </tbody>\n",
       "</table>\n",
       "<p>106 rows × 1 columns</p>\n",
       "</div>"
      ],
      "text/plain": [
       "            가수 이름\n",
       "0        G-DRAGON\n",
       "1             조째즈\n",
       "2           WOODZ\n",
       "3     제니 (JENNIE)\n",
       "4        G-DRAGON\n",
       "..            ...\n",
       "101     로제 (ROSÉ)\n",
       "102    지수 (JISOO)\n",
       "103  KISS OF LIFE\n",
       "104  태연 (TAEYEON)\n",
       "105           임영웅\n",
       "\n",
       "[106 rows x 1 columns]"
      ]
     },
     "execution_count": 45,
     "metadata": {},
     "output_type": "execute_result"
    }
   ],
   "source": [
    "data1"
   ]
  },
  {
   "cell_type": "code",
   "execution_count": 46,
   "id": "1e833e1c-dee0-41c6-b066-11a363504741",
   "metadata": {},
   "outputs": [
    {
     "data": {
      "text/html": [
       "<div>\n",
       "<style scoped>\n",
       "    .dataframe tbody tr th:only-of-type {\n",
       "        vertical-align: middle;\n",
       "    }\n",
       "\n",
       "    .dataframe tbody tr th {\n",
       "        vertical-align: top;\n",
       "    }\n",
       "\n",
       "    .dataframe thead th {\n",
       "        text-align: right;\n",
       "    }\n",
       "</style>\n",
       "<table border=\"1\" class=\"dataframe\">\n",
       "  <thead>\n",
       "    <tr style=\"text-align: right;\">\n",
       "      <th></th>\n",
       "      <th>노래 제목</th>\n",
       "    </tr>\n",
       "  </thead>\n",
       "  <tbody>\n",
       "    <tr>\n",
       "      <th>0</th>\n",
       "      <td>G-DRAGON</td>\n",
       "    </tr>\n",
       "    <tr>\n",
       "      <th>1</th>\n",
       "      <td>조째즈</td>\n",
       "    </tr>\n",
       "    <tr>\n",
       "      <th>2</th>\n",
       "      <td>WOODZ</td>\n",
       "    </tr>\n",
       "    <tr>\n",
       "      <th>3</th>\n",
       "      <td>제니 (JENNIE)</td>\n",
       "    </tr>\n",
       "    <tr>\n",
       "      <th>4</th>\n",
       "      <td>G-DRAGON</td>\n",
       "    </tr>\n",
       "    <tr>\n",
       "      <th>...</th>\n",
       "      <td>...</td>\n",
       "    </tr>\n",
       "    <tr>\n",
       "      <th>101</th>\n",
       "      <td>로제 (ROSÉ)</td>\n",
       "    </tr>\n",
       "    <tr>\n",
       "      <th>102</th>\n",
       "      <td>지수 (JISOO)</td>\n",
       "    </tr>\n",
       "    <tr>\n",
       "      <th>103</th>\n",
       "      <td>KISS OF LIFE</td>\n",
       "    </tr>\n",
       "    <tr>\n",
       "      <th>104</th>\n",
       "      <td>태연 (TAEYEON)</td>\n",
       "    </tr>\n",
       "    <tr>\n",
       "      <th>105</th>\n",
       "      <td>임영웅</td>\n",
       "    </tr>\n",
       "  </tbody>\n",
       "</table>\n",
       "<p>106 rows × 1 columns</p>\n",
       "</div>"
      ],
      "text/plain": [
       "            노래 제목\n",
       "0        G-DRAGON\n",
       "1             조째즈\n",
       "2           WOODZ\n",
       "3     제니 (JENNIE)\n",
       "4        G-DRAGON\n",
       "..            ...\n",
       "101     로제 (ROSÉ)\n",
       "102    지수 (JISOO)\n",
       "103  KISS OF LIFE\n",
       "104  태연 (TAEYEON)\n",
       "105           임영웅\n",
       "\n",
       "[106 rows x 1 columns]"
      ]
     },
     "execution_count": 46,
     "metadata": {},
     "output_type": "execute_result"
    }
   ],
   "source": [
    "data2"
   ]
  },
  {
   "cell_type": "code",
   "execution_count": 47,
   "id": "26440b7c-f7ad-4a01-803c-60b4c12104af",
   "metadata": {},
   "outputs": [],
   "source": [
    "dic = {\"가수 이름\" : singer_list, \"노래 제목\" : song_list}\n",
    "melon = pd.DataFrame(dic)\n",
    "melon.to_csv(\"멜론차트.csv\")"
   ]
  },
  {
   "cell_type": "code",
   "execution_count": null,
   "id": "b039102e-c3ac-4f23-bcbb-c0ec80c20527",
   "metadata": {},
   "outputs": [],
   "source": []
  }
 ],
 "metadata": {
  "kernelspec": {
   "display_name": "Python 3 (ipykernel)",
   "language": "python",
   "name": "python3"
  },
  "language_info": {
   "codemirror_mode": {
    "name": "ipython",
    "version": 3
   },
   "file_extension": ".py",
   "mimetype": "text/x-python",
   "name": "python",
   "nbconvert_exporter": "python",
   "pygments_lexer": "ipython3",
   "version": "3.12.7"
  }
 },
 "nbformat": 4,
 "nbformat_minor": 5
}
