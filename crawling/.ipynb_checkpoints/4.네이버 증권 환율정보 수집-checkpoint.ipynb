{
 "cells": [
  {
   "cell_type": "code",
   "execution_count": 1,
   "id": "ef20e578-8020-4d68-8f92-04e8dbd9fc78",
   "metadata": {},
   "outputs": [],
   "source": [
    "import requests as req\n",
    "from bs4 import BeautifulSoup as bs\n",
    "import pandas as pd"
   ]
  },
  {
   "cell_type": "code",
   "execution_count": 10,
   "id": "faa8f963-3789-4f6a-90fe-ee98f729e954",
   "metadata": {},
   "outputs": [
    {
     "data": {
      "text/plain": [
       "0"
      ]
     },
     "execution_count": 10,
     "metadata": {},
     "output_type": "execute_result"
    }
   ],
   "source": [
    "res = req.get(\"https://finance.naver.com/marketindex/exchangeList.naver\")\n",
    "soup = bs(res.text,\"lxml\")\n",
    "# iframe은 조회불가능\n",
    "title = soup.select(\"tbl_exchange > tbody > tr > td.tit > a\") \n",
    "len(title)"
   ]
  },
  {
   "cell_type": "markdown",
   "id": "358a1d15-0717-4358-ad2b-133eddc0af9c",
   "metadata": {},
   "source": [
    "### iframe 데이터 처리\n",
    "- iframe 데이터는 화면상에 정보는 보이지만, 실제 데이터는 다른 공간에있다"
   ]
  },
  {
   "cell_type": "code",
   "execution_count": null,
   "id": "dfc10832-6d2f-4b50-bcff-be0a706d2388",
   "metadata": {},
   "outputs": [],
   "source": [
    "# 다른공간에 존재하는 iframe데이터를 가지고 오려면 >>>> 실제 데이터가 존재하는 공간 url로 요청\n",
    "# 대부분 경로는 상대경로 >> 상대경로 + 절대경로 합쳐서 요청할 url 만들기"
   ]
  },
  {
   "cell_type": "code",
   "execution_count": 18,
   "id": "74efe976-105f-44f8-af6d-add31980ec0c",
   "metadata": {},
   "outputs": [
    {
     "data": {
      "text/plain": [
       "58"
      ]
     },
     "execution_count": 18,
     "metadata": {},
     "output_type": "execute_result"
    }
   ],
   "source": [
    "res = req.get(\"https://finance.naver.com/marketindex/exchangeList.naver\")\n",
    "soup = bs(res.text,\"lxml\")\n",
    "title = soup.select(\"td.tit > a\")\n",
    "len(title)"
   ]
  },
  {
   "cell_type": "code",
   "execution_count": 23,
   "id": "7beea329-a9f0-4371-b319-76dd3aec0f87",
   "metadata": {},
   "outputs": [],
   "source": [
    "title_list = []\n",
    "for i  in title:\n",
    "    title_list.append(i.text.strip()) # >> strip() 은 공백 개행 문자를 지움"
   ]
  },
  {
   "cell_type": "code",
   "execution_count": 24,
   "id": "2988bbdd-82ce-48e3-bad1-a6ade240cc25",
   "metadata": {
    "scrolled": true
   },
   "outputs": [
    {
     "data": {
      "text/plain": [
       "['미국 USD',\n",
       " '유럽연합 EUR',\n",
       " '일본 JPY (100엔)',\n",
       " '중국 CNY',\n",
       " '홍콩 HKD',\n",
       " '대만 TWD',\n",
       " '영국 GBP',\n",
       " '오만 OMR',\n",
       " '캐나다 CAD',\n",
       " '스위스 CHF',\n",
       " '스웨덴 SEK',\n",
       " '호주 AUD',\n",
       " '뉴질랜드 NZD',\n",
       " '체코 CZK',\n",
       " '칠레 CLP',\n",
       " '튀르키예 TRY',\n",
       " '몽골 MNT',\n",
       " '이스라엘 ILS',\n",
       " '덴마크 DKK',\n",
       " '노르웨이 NOK',\n",
       " '사우디아라비아 SAR',\n",
       " '쿠웨이트 KWD',\n",
       " '바레인 BHD',\n",
       " '아랍에미리트 AED',\n",
       " '요르단 JOD',\n",
       " '이집트 EGP',\n",
       " '태국 THB',\n",
       " '싱가포르 SGD',\n",
       " '말레이시아 MYR',\n",
       " '인도네시아 IDR 100',\n",
       " '카타르 QAR',\n",
       " '카자흐스탄 KZT',\n",
       " '브루나이 BND',\n",
       " '인도 INR',\n",
       " '파키스탄 PKR',\n",
       " '방글라데시 BDT',\n",
       " '필리핀 PHP',\n",
       " '멕시코 MXN',\n",
       " '브라질 BRL',\n",
       " '베트남 VND 100',\n",
       " '남아프리카 공화국 ZAR',\n",
       " '러시아 RUB',\n",
       " '헝가리 HUF',\n",
       " '폴란드 PLN',\n",
       " '스리랑카 LKR',\n",
       " '알제리 DZD',\n",
       " '케냐 KES',\n",
       " '콜롬비아 COP',\n",
       " '탄자니아 TZS',\n",
       " '네팔 NPR',\n",
       " '루마니아 RON',\n",
       " '리비아 LYD',\n",
       " '마카오 MOP',\n",
       " '미얀마 MMK',\n",
       " '에티오피아 ETB',\n",
       " '우즈베키스탄 UZS',\n",
       " '캄보디아 KHR',\n",
       " '피지 FJD']"
      ]
     },
     "execution_count": 24,
     "metadata": {},
     "output_type": "execute_result"
    }
   ],
   "source": [
    "title_list"
   ]
  },
  {
   "cell_type": "code",
   "execution_count": null,
   "id": "5c157aa9-817c-4246-82ab-9eed8ace7927",
   "metadata": {},
   "outputs": [],
   "source": []
  },
  {
   "cell_type": "code",
   "execution_count": null,
   "id": "7c1dfbb7-3cc8-4d5c-8420-9d90b88aec20",
   "metadata": {},
   "outputs": [],
   "source": []
  },
  {
   "cell_type": "code",
   "execution_count": null,
   "id": "aa1aa3e3-ab81-4381-8389-d16a39f27b4e",
   "metadata": {},
   "outputs": [],
   "source": []
  },
  {
   "cell_type": "code",
   "execution_count": null,
   "id": "69785665-cfc9-4337-a80f-6aebc2152487",
   "metadata": {},
   "outputs": [],
   "source": []
  },
  {
   "cell_type": "code",
   "execution_count": null,
   "id": "9faed630-e605-453f-a0a2-b98fc3c1b3fb",
   "metadata": {},
   "outputs": [],
   "source": []
  },
  {
   "cell_type": "code",
   "execution_count": null,
   "id": "c6df4c9c-b4a5-4f42-af2e-91e38fbc2692",
   "metadata": {},
   "outputs": [],
   "source": []
  },
  {
   "cell_type": "code",
   "execution_count": null,
   "id": "4a78d3f1-8b31-4bb9-aa3a-cbb3a5fac953",
   "metadata": {},
   "outputs": [],
   "source": []
  }
 ],
 "metadata": {
  "kernelspec": {
   "display_name": "Python 3 (ipykernel)",
   "language": "python",
   "name": "python3"
  },
  "language_info": {
   "codemirror_mode": {
    "name": "ipython",
    "version": 3
   },
   "file_extension": ".py",
   "mimetype": "text/x-python",
   "name": "python",
   "nbconvert_exporter": "python",
   "pygments_lexer": "ipython3",
   "version": "3.12.7"
  }
 },
 "nbformat": 4,
 "nbformat_minor": 5
}
