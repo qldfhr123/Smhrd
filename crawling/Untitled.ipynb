{
 "cells": [
  {
   "cell_type": "code",
   "execution_count": 1,
   "id": "680c87fe-b676-4bb9-b45a-01a8d4ca4fa3",
   "metadata": {},
   "outputs": [
    {
     "name": "stdout",
     "output_type": "stream",
     "text": [
      "3\n"
     ]
    }
   ],
   "source": [
    "def func(lst):\n",
    "  for i in range(len(lst) //2): # 3번 반복\n",
    "    lst[i], lst[-i-1] = lst[-i-1], lst[i] # 가져온 인덱스의 요소 와 뒤에 요소는 같다\n",
    " \n",
    "lst = [1,2,3,4,5,6] \n",
    "func(lst)\n",
    "\n",
    "# 인덱스는 0 1 2\n",
    "# 1 2 3 있는데\n",
    "\n",
    "# 1. 처음부터 끝까지 2씩 커진다 >> 2번째 인덱스 3\n",
    "# 2. 1부터 끝까지 2씩 커진다 >> 3번째 인덱스 없으니까 0\n",
    "# 3...?\n",
    "\n",
    "\n",
    "\n",
    "print(sum(lst[::2]) - sum(lst[1::2]))"
   ]
  }
 ],
 "metadata": {
  "kernelspec": {
   "display_name": "Python 3 (ipykernel)",
   "language": "python",
   "name": "python3"
  },
  "language_info": {
   "codemirror_mode": {
    "name": "ipython",
    "version": 3
   },
   "file_extension": ".py",
   "mimetype": "text/x-python",
   "name": "python",
   "nbconvert_exporter": "python",
   "pygments_lexer": "ipython3",
   "version": "3.12.7"
  }
 },
 "nbformat": 4,
 "nbformat_minor": 5
}
