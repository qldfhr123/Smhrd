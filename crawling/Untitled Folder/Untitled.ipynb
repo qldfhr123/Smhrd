{
 "cells": [
  {
   "cell_type": "code",
   "execution_count": 1,
   "id": "a9f130c0-26f1-4de7-8149-67b25f2a7bfd",
   "metadata": {},
   "outputs": [
    {
     "name": "stdout",
     "output_type": "stream",
     "text": [
      "Collecting python-pptxNote: you may need to restart the kernel to use updated packages.\n",
      "\n",
      "  Downloading python_pptx-1.0.2-py3-none-any.whl.metadata (2.5 kB)\n",
      "Requirement already satisfied: Pillow>=3.3.2 in c:\\users\\smhrd\\anaconda3\\lib\\site-packages (from python-pptx) (10.4.0)\n",
      "Collecting XlsxWriter>=0.5.7 (from python-pptx)\n",
      "  Downloading XlsxWriter-3.2.3-py3-none-any.whl.metadata (2.7 kB)\n",
      "Requirement already satisfied: lxml>=3.1.0 in c:\\users\\smhrd\\anaconda3\\lib\\site-packages (from python-pptx) (5.2.1)\n",
      "Requirement already satisfied: typing-extensions>=4.9.0 in c:\\users\\smhrd\\anaconda3\\lib\\site-packages (from python-pptx) (4.11.0)\n",
      "Downloading python_pptx-1.0.2-py3-none-any.whl (472 kB)\n",
      "Downloading XlsxWriter-3.2.3-py3-none-any.whl (169 kB)\n",
      "Installing collected packages: XlsxWriter, python-pptx\n",
      "Successfully installed XlsxWriter-3.2.3 python-pptx-1.0.2\n"
     ]
    }
   ],
   "source": [
    "pip install python-pptx"
   ]
  },
  {
   "cell_type": "code",
   "execution_count": 3,
   "id": "b72107f2-8feb-48d0-b3de-da25c054bdeb",
   "metadata": {},
   "outputs": [
    {
     "name": "stdout",
     "output_type": "stream",
     "text": [
      "📂 'persona_table.pptx' 파일이 생성되었습니다! (한쇼에서 열 수 있음)\n"
     ]
    }
   ],
   "source": [
    "from pptx import Presentation\n",
    "from pptx.util import Inches, Pt\n",
    "from pptx.enum.text import PP_ALIGN\n",
    "from pptx.dml.color import RGBColor\n",
    "\n",
    "# 프레젠테이션 생성\n",
    "prs = Presentation()\n",
    "\n",
    "# 슬라이드 추가 (빈 레이아웃 사용)\n",
    "slide_layout = prs.slide_layouts[5]\n",
    "slide = prs.slides.add_slide(slide_layout)\n",
    "\n",
    "# 제목 추가\n",
    "title_shape = slide.shapes.title\n",
    "if not title_shape:\n",
    "    title_shape = slide.shapes.add_textbox(Inches(0.5), Inches(0.2), Inches(9), Inches(0.5))\n",
    "    title_frame = title_shape.text_frame\n",
    "    p = title_frame.paragraphs[0]\n",
    "    run = p.add_run()\n",
    "    run.text = \"# 대표 페르소나 정의\"\n",
    "    run.font.size = Pt(24)\n",
    "    run.font.bold = True\n",
    "\n",
    "# 페르소나 항목 정의 (표로 넣을 내용)\n",
    "persona_data = [\n",
    "    [\"😀 기본 정보\", \"\"],\n",
    "    [\"이름\", \"\"],\n",
    "    [\"HASH TAG\", \"\"],\n",
    "    [\"이 페르소나가 해결하고자 하는 문제\", \"\"],\n",
    "    [\"이 페르소나 군에 집중해야 하는 이유\", \"\"],\n",
    "    [\"디지털 환경 (Artifacts)\", \"\"],\n",
    "    [\"📊 인구통계학적 (Static Persona)\", \"\"],\n",
    "    [\"성별\", \"\"],\n",
    "    [\"나이\", \"\"],\n",
    "    [\"직업\", \"\"],\n",
    "    [\"가족 상황\", \"\"],\n",
    "    [\"기술 수준\", \"\"],\n",
    "    [\"특징\", \"\"],\n",
    "    [\"📈 상황 맥락적 (Dynamic Persona)\", \"\"],\n",
    "    [\"주된 상황\", \"\"],\n",
    "    [\"주요 패턴\", \"\"],\n",
    "    [\"행동 변화\", \"\"],\n",
    "    [\"❤️‍🔥 심층적 (Meta Persona)\", \"\"],\n",
    "    [\"주요 요구\", \"\"],\n",
    "    [\"감정적 동기\", \"\"],\n",
    "    [\"가치관\", \"\"],\n",
    "    [\"🔎 추가 분석 포인트\", \"\"],\n",
    "    [\"기대효과 관련\", \"\"],\n",
    "]\n",
    "\n",
    "# 표 생성 위치 및 크기\n",
    "rows = len(persona_data)\n",
    "cols = 2\n",
    "left = Inches(0.5)\n",
    "top = Inches(1)\n",
    "width = Inches(9)\n",
    "height = Inches(0.8 + 0.3 * rows)\n",
    "\n",
    "# 표 추가\n",
    "table = slide.shapes.add_table(rows, cols, left, top, width, height).table\n",
    "\n",
    "# 열 너비 설정\n",
    "table.columns[0].width = Inches(3.5)\n",
    "table.columns[1].width = Inches(5.0)\n",
    "\n",
    "# 데이터 입력\n",
    "for i, (item, value) in enumerate(persona_data):\n",
    "    cell_0 = table.cell(i, 0)\n",
    "    cell_1 = table.cell(i, 1)\n",
    "\n",
    "    # 항목\n",
    "    cell_0.text = item\n",
    "    cell_0.text_frame.paragraphs[0].font.size = Pt(12)\n",
    "    cell_0.text_frame.paragraphs[0].font.bold = True\n",
    "\n",
    "    # 내용칸\n",
    "    cell_1.text = value\n",
    "    cell_1.text_frame.paragraphs[0].font.size = Pt(12)\n",
    "\n",
    "# 파일 저장\n",
    "prs.save(\"persona_table.pptx\")\n",
    "print(\"📂 'persona_table.pptx' 파일이 생성되었습니다! (한쇼에서 열 수 있음)\")\n"
   ]
  }
 ],
 "metadata": {
  "kernelspec": {
   "display_name": "Python 3 (ipykernel)",
   "language": "python",
   "name": "python3"
  },
  "language_info": {
   "codemirror_mode": {
    "name": "ipython",
    "version": 3
   },
   "file_extension": ".py",
   "mimetype": "text/x-python",
   "name": "python",
   "nbconvert_exporter": "python",
   "pygments_lexer": "ipython3",
   "version": "3.12.7"
  }
 },
 "nbformat": 4,
 "nbformat_minor": 5
}
