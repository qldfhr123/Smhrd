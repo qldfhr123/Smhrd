{
 "cells": [
  {
   "cell_type": "markdown",
   "id": "7c562efb-694f-4087-ab0c-6a7dc7789b43",
   "metadata": {},
   "source": [
    "1. 필요한 라이브러리 import\n",
    "2. 특정 웹페이지의 정보를 가져오라고 요청\n",
    "3. 응답된 데이터가 많아요 -> html내용만 필요하다\n",
    "4. 받아온 html은 거대한 String... -> 파싱\n",
    "5. 많은 태그들을 가지고 있는 상태\n",
    "6. 특정 선택자에 해당하는 요소들만 빼서 리스트화\n",
    "7. 리스트 안에 들어있는건... \"요소\" 우리가 필요한건,,, \"content\"  -> 가공"
   ]
  },
  {
   "cell_type": "markdown",
   "id": "9f738b24-60cd-4806-87ae-c623b32db4a9",
   "metadata": {},
   "source": [
    "# 네이버 증권 시가총액 데이터 수집\n",
    "종목명만 리스트"
   ]
  },
  {
   "cell_type": "code",
   "execution_count": 1,
   "id": "a1fd4249-64ee-44f3-b0c9-a00227cbe327",
   "metadata": {},
   "outputs": [],
   "source": [
    "import requests as req\n",
    "from bs4 import BeautifulSoup as bs"
   ]
  },
  {
   "cell_type": "code",
   "execution_count": 37,
   "id": "b17f0e60-058b-469d-9cbc-2249df61d7f8",
   "metadata": {},
   "outputs": [],
   "source": [
    "res = req.get(\"https://finance.naver.com/sise/sise_market_sum.naver\")\n",
    "soup = bs(res.text,\"lxml\")\n",
    "title = soup.select(\"div.box_type_l > table > tbody > tr > td > a.tltle\") \n",
    "# a.title 가능\n",
    "price = soup.select(\"div.box_type_l > table > tbody > tr > td:nth-child(3)\") \n",
    "# table.type2 ~~\n",
    "\n",
    "len(price)\n",
    "\n",
    "title_list = []\n",
    "price_list = []\n",
    "for i in range(len(title)):\n",
    "    title_list.append(title[i].text)\n",
    "    price_list.append(price[i].text)"
   ]
  },
  {
   "cell_type": "code",
   "execution_count": 28,
   "id": "fafef38b-29a7-4116-923f-24fe1521f643",
   "metadata": {
    "scrolled": true
   },
   "outputs": [
    {
     "data": {
      "text/plain": [
       "['삼성전자',\n",
       " 'SK하이닉스',\n",
       " 'LG에너지솔루션',\n",
       " '삼성바이오로직스',\n",
       " '현대차',\n",
       " '삼성전자우',\n",
       " '한화에어로스페이스',\n",
       " '셀트리온',\n",
       " '기아',\n",
       " 'HD현대중공업',\n",
       " 'KB금융',\n",
       " 'NAVER',\n",
       " '한화오션',\n",
       " '신한지주',\n",
       " '현대모비스',\n",
       " '메리츠금융지주',\n",
       " 'POSCO홀딩스',\n",
       " '삼성물산',\n",
       " '크래프톤',\n",
       " '카카오',\n",
       " 'HMM',\n",
       " '삼성화재',\n",
       " '하나금융지주',\n",
       " 'HD한국조선해양',\n",
       " 'LG화학',\n",
       " '삼성생명',\n",
       " '한국전력',\n",
       " '두산에너빌리티',\n",
       " 'SK이노베이션',\n",
       " '고려아연',\n",
       " 'KT&G',\n",
       " '삼성중공업',\n",
       " '삼성SDI',\n",
       " 'SK텔레콤',\n",
       " '우리금융지주',\n",
       " 'KT',\n",
       " 'LG전자',\n",
       " '현대로템',\n",
       " '기업은행',\n",
       " 'HD현대일렉트릭',\n",
       " 'SK스퀘어',\n",
       " '포스코퓨처엠',\n",
       " '카카오뱅크',\n",
       " 'LG',\n",
       " '포스코인터내셔널',\n",
       " '하이브',\n",
       " '유한양행',\n",
       " '삼성전기',\n",
       " '삼성에스디에스',\n",
       " 'SK']"
      ]
     },
     "execution_count": 28,
     "metadata": {},
     "output_type": "execute_result"
    }
   ],
   "source": [
    "title_list"
   ]
  },
  {
   "cell_type": "code",
   "execution_count": 43,
   "id": "5c5f7884-f36b-418f-b126-d69fbd21343a",
   "metadata": {},
   "outputs": [],
   "source": [
    "import pandas as pd"
   ]
  },
  {
   "cell_type": "code",
   "execution_count": 45,
   "id": "620bdcfe-3cca-4719-8f81-49e74c24e27a",
   "metadata": {},
   "outputs": [],
   "source": [
    "dic = {\"종목명\" : title_list, \"현재가\" : price_list}\n",
    "siga = pd.DataFrame(dic)\n",
    "siga.to_csv(\"시가총액.csv\",encoding=\"euc-kr\")"
   ]
  },
  {
   "cell_type": "code",
   "execution_count": null,
   "id": "c1cab9bc-d83b-4417-b5b0-eae617cb7d40",
   "metadata": {},
   "outputs": [],
   "source": []
  },
  {
   "cell_type": "code",
   "execution_count": null,
   "id": "24eddf46-c34b-46e2-910d-35b7f36a0a7d",
   "metadata": {},
   "outputs": [],
   "source": []
  },
  {
   "cell_type": "code",
   "execution_count": null,
   "id": "312c3ddf-d5a9-466e-a531-765865b36896",
   "metadata": {},
   "outputs": [],
   "source": []
  },
  {
   "cell_type": "code",
   "execution_count": null,
   "id": "13ffbcad-6fdf-45e3-b081-c07a46302cc5",
   "metadata": {},
   "outputs": [],
   "source": []
  },
  {
   "cell_type": "code",
   "execution_count": null,
   "id": "5294ee33-d7bb-4095-a6ee-73f58c5543fc",
   "metadata": {},
   "outputs": [],
   "source": []
  }
 ],
 "metadata": {
  "kernelspec": {
   "display_name": "Python 3 (ipykernel)",
   "language": "python",
   "name": "python3"
  },
  "language_info": {
   "codemirror_mode": {
    "name": "ipython",
    "version": 3
   },
   "file_extension": ".py",
   "mimetype": "text/x-python",
   "name": "python",
   "nbconvert_exporter": "python",
   "pygments_lexer": "ipython3",
   "version": "3.12.7"
  }
 },
 "nbformat": 4,
 "nbformat_minor": 5
}
