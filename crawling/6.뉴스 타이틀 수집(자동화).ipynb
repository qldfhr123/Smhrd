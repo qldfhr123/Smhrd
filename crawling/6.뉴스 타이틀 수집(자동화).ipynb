{
 "cells": [
  {
   "cell_type": "code",
   "execution_count": 1,
   "id": "38711e75-7d67-416f-8156-8702976f40a1",
   "metadata": {},
   "outputs": [],
   "source": [
    "from selenium import webdriver as wb\n",
    "from selenium.webdriver.common.keys import Keys\n",
    "from selenium.webdriver.common.by import By\n",
    "\n",
    "import requests as req\n",
    "from bs4 import BeautifulSoup as bs\n",
    "import pandas as pd\n",
    "\n",
    "import time"
   ]
  },
  {
   "cell_type": "code",
   "execution_count": 2,
   "id": "b933a42d-a885-4557-ab38-b5bc5bc5fe95",
   "metadata": {},
   "outputs": [],
   "source": [
    "driver = wb.Chrome()\n",
    "driver.get(\"https://www.naver.com/\")\n",
    "\n",
    "search = driver.find_element(By.ID, \"query\")\n",
    "# search = driver.find_element(By.CSS_SELECTOR, \"#query\")\n",
    "search.send_keys(\"롯데월드\")\n",
    "search.send_keys(Keys.ENTER)"
   ]
  },
  {
   "cell_type": "code",
   "execution_count": 4,
   "id": "b46f5e42-bb92-4301-b693-0f3dfe993a77",
   "metadata": {},
   "outputs": [],
   "source": [
    "# news_btn = driver.find_element(By.XPATH, \"/html/body/div[3]/div[1]/div/div[2]/div[1]/div/div[1]/div/div[1]/div[8]/a\") \n",
    "tab = driver.find_element(By.CSS_SELECTOR, \"#lnb > div.lnb_group > div > div.lnb_nav_area._nav_area_root > div > div.api_flicking_wrap._conveyer_root > div:nth-child(8) > a\") \n",
    "\n",
    "# news_btn.click()\n",
    "tab.click()"
   ]
  },
  {
   "cell_type": "code",
   "execution_count": 10,
   "id": "4e580bd2-cb46-4a22-b623-3400895f3008",
   "metadata": {},
   "outputs": [],
   "source": [
    "body = driver.find_element(By.TAG_NAME,\"body\")\n",
    "body.send_keys(Keys.END)\n",
    "for i in range(5):\n",
    "    body.send_keys(Keys.ENTER)\n",
    "    time.sleep(1)"
   ]
  },
  {
   "cell_type": "code",
   "execution_count": 15,
   "id": "210a3b7c-17f5-4f66-aaaf-a8cb22929793",
   "metadata": {},
   "outputs": [],
   "source": [
    "# 뉴스 타이틀 수집 (요소여러개)\n",
    "news = driver.find_elements(By.CSS_SELECTOR, \"a.news_tit\")"
   ]
  },
  {
   "cell_type": "code",
   "execution_count": 17,
   "id": "271d4a41-afef-41c0-802c-ef31e7dd010e",
   "metadata": {},
   "outputs": [],
   "source": [
    "news_list=[]\n",
    "for i in news:\n",
    "    news_list.append(i.text)\n",
    "\n",
    "# for i in range(len(news)):\n",
    "#     news_list.append(i.text)"
   ]
  },
  {
   "cell_type": "code",
   "execution_count": 18,
   "id": "b80b6ed1-9934-4468-9510-36166a9cdb78",
   "metadata": {
    "scrolled": true
   },
   "outputs": [
    {
     "data": {
      "text/plain": [
       "['롯데월드에서 만나는 bhc 콜팝의 이야기…산호세점 정식 오픈',\n",
       " \"롯데월드 아쿠아리움, '보노보노 친구들과 아쿠아리움 나들이' 진행\",\n",
       " '“아들아 좋아? 아빠도 좋아”...초대박 행진에 발 디딜 틈 없다는 롯데...',\n",
       " '롯데월드, ‘포켓몬’ 효과에 3월 매출 10% 늘어',\n",
       " '\"롯데월드타워 정상까지 도전\"… 롯데, \\'패밀리 스카이런\\' 개최',\n",
       " \"bhc, 롯데월드에 '콜팝' 테마 체험형 매장 오픈... 브랜드 공간 혁신 시...\",\n",
       " 'SL&C, 롯데월드몰·현대百 판교점에 ‘이타마에 스시’ 동시 오픈',\n",
       " '\"귀여움 폭발\"…보노보노, 롯데월드 아쿠아리움에 떴다',\n",
       " '이타마에 스시, 롯데월드몰·현대백화점 판교점 오픈',\n",
       " '\"아기 해달, 잠실에 뜬다\" 롯데월드 아쿠아리움x보노보노',\n",
       " '롯데월드타워 4배 높이…사우디, 2㎞ 마천루 건설 계획',\n",
       " '롯데월드 샤롯데 봉사단 나무 심기 봉사',\n",
       " '‘찰떡 컬래버’ 롯데월드 아쿠아리움에서 만나는 보노보노 세상',\n",
       " '“롯데월드타워 123층 오르기 도전”',\n",
       " \"롯데그룹 노사 함께 '롯데월드타워' 오른다\",\n",
       " \"'1천만 러너의 성지' 롯데 잠실월드몰에 '디스턴스' 팝업\",\n",
       " '롯데월드 어드벤처와 즐기는 벚꽃놀이',\n",
       " '화순군청소년수련관, 롯데월드 문화체험',\n",
       " \"bhc, 콜팝 담은 브랜드 매장 'bhc pop' 롯데월드서 첫 선\",\n",
       " \"롯데월드 아쿠아리움, '보노보노 친구들과 아쿠아리움 나들이' 진행\"]"
      ]
     },
     "execution_count": 18,
     "metadata": {},
     "output_type": "execute_result"
    }
   ],
   "source": [
    "news_list"
   ]
  },
  {
   "cell_type": "code",
   "execution_count": null,
   "id": "7861efea-6244-4941-888e-b84bb660c871",
   "metadata": {},
   "outputs": [],
   "source": []
  },
  {
   "cell_type": "code",
   "execution_count": null,
   "id": "57641fbe-097f-4f0f-94b3-094fc45b129d",
   "metadata": {},
   "outputs": [],
   "source": []
  },
  {
   "cell_type": "code",
   "execution_count": null,
   "id": "faf6e664-be30-45fa-966e-87de08a10990",
   "metadata": {},
   "outputs": [],
   "source": []
  },
  {
   "cell_type": "code",
   "execution_count": null,
   "id": "742a036a-35ad-485f-86bf-447931dc4abb",
   "metadata": {},
   "outputs": [],
   "source": []
  },
  {
   "cell_type": "code",
   "execution_count": null,
   "id": "68b2e71a-d438-4245-95fe-7d412a641205",
   "metadata": {},
   "outputs": [],
   "source": []
  },
  {
   "cell_type": "code",
   "execution_count": null,
   "id": "664ed62d-428b-4cac-980d-66d2dffff166",
   "metadata": {},
   "outputs": [],
   "source": []
  },
  {
   "cell_type": "code",
   "execution_count": null,
   "id": "22314ded-d792-4e61-bc27-3f88e7b23a75",
   "metadata": {},
   "outputs": [],
   "source": []
  },
  {
   "cell_type": "code",
   "execution_count": null,
   "id": "46cef76e-34e6-4007-94e9-a8a891516715",
   "metadata": {},
   "outputs": [],
   "source": []
  },
  {
   "cell_type": "code",
   "execution_count": null,
   "id": "64ae94fb-c680-4ffc-b7b4-b065e530672f",
   "metadata": {},
   "outputs": [],
   "source": []
  },
  {
   "cell_type": "code",
   "execution_count": null,
   "id": "8240a2e9-52dc-4320-8d05-a19bc4e092a7",
   "metadata": {},
   "outputs": [],
   "source": []
  },
  {
   "cell_type": "code",
   "execution_count": null,
   "id": "602616cf-61ee-4658-850e-47ed4b005e98",
   "metadata": {},
   "outputs": [],
   "source": []
  },
  {
   "cell_type": "code",
   "execution_count": null,
   "id": "5223cb40-e614-4def-b234-c389dd060c8b",
   "metadata": {},
   "outputs": [],
   "source": []
  },
  {
   "cell_type": "code",
   "execution_count": null,
   "id": "be5e9854-001f-4159-bfdf-b905544dc877",
   "metadata": {},
   "outputs": [],
   "source": []
  },
  {
   "cell_type": "code",
   "execution_count": null,
   "id": "56a013e3-8629-462a-b9d8-b52e39b3f18a",
   "metadata": {},
   "outputs": [],
   "source": []
  }
 ],
 "metadata": {
  "kernelspec": {
   "display_name": "Python 3 (ipykernel)",
   "language": "python",
   "name": "python3"
  },
  "language_info": {
   "codemirror_mode": {
    "name": "ipython",
    "version": 3
   },
   "file_extension": ".py",
   "mimetype": "text/x-python",
   "name": "python",
   "nbconvert_exporter": "python",
   "pygments_lexer": "ipython3",
   "version": "3.12.7"
  }
 },
 "nbformat": 4,
 "nbformat_minor": 5
}
