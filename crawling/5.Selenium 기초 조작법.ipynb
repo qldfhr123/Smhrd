{
 "cells": [
  {
   "cell_type": "code",
   "execution_count": 1,
   "id": "5870721d-d0a1-4274-917e-9032dcdb4301",
   "metadata": {
    "scrolled": true
   },
   "outputs": [
    {
     "name": "stdout",
     "output_type": "stream",
     "text": [
      "Collecting selenium\n",
      "  Downloading selenium-4.31.0-py3-none-any.whl.metadata (7.5 kB)\n",
      "Requirement already satisfied: urllib3<3,>=1.26 in c:\\users\\smhrd\\anaconda3\\lib\\site-packages (from urllib3[socks]<3,>=1.26->selenium) (2.2.3)\n",
      "Collecting trio~=0.17 (from selenium)\n",
      "  Downloading trio-0.29.0-py3-none-any.whl.metadata (8.5 kB)\n",
      "Collecting trio-websocket~=0.9 (from selenium)\n",
      "  Downloading trio_websocket-0.12.2-py3-none-any.whl.metadata (5.1 kB)\n",
      "Requirement already satisfied: certifi>=2021.10.8 in c:\\users\\smhrd\\anaconda3\\lib\\site-packages (from selenium) (2024.8.30)\n",
      "Requirement already satisfied: typing_extensions~=4.9 in c:\\users\\smhrd\\anaconda3\\lib\\site-packages (from selenium) (4.11.0)\n",
      "Requirement already satisfied: websocket-client~=1.8 in c:\\users\\smhrd\\anaconda3\\lib\\site-packages (from selenium) (1.8.0)\n",
      "Collecting attrs>=23.2.0 (from trio~=0.17->selenium)\n",
      "  Downloading attrs-25.3.0-py3-none-any.whl.metadata (10 kB)\n",
      "Requirement already satisfied: sortedcontainers in c:\\users\\smhrd\\anaconda3\\lib\\site-packages (from trio~=0.17->selenium) (2.4.0)\n",
      "Requirement already satisfied: idna in c:\\users\\smhrd\\anaconda3\\lib\\site-packages (from trio~=0.17->selenium) (3.7)\n",
      "Collecting outcome (from trio~=0.17->selenium)\n",
      "  Downloading outcome-1.3.0.post0-py2.py3-none-any.whl.metadata (2.6 kB)\n",
      "Requirement already satisfied: sniffio>=1.3.0 in c:\\users\\smhrd\\anaconda3\\lib\\site-packages (from trio~=0.17->selenium) (1.3.0)\n",
      "Requirement already satisfied: cffi>=1.14 in c:\\users\\smhrd\\anaconda3\\lib\\site-packages (from trio~=0.17->selenium) (1.17.1)\n",
      "Collecting wsproto>=0.14 (from trio-websocket~=0.9->selenium)\n",
      "  Downloading wsproto-1.2.0-py3-none-any.whl.metadata (5.6 kB)\n",
      "Requirement already satisfied: pysocks!=1.5.7,<2.0,>=1.5.6 in c:\\users\\smhrd\\anaconda3\\lib\\site-packages (from urllib3[socks]<3,>=1.26->selenium) (1.7.1)\n",
      "Requirement already satisfied: pycparser in c:\\users\\smhrd\\anaconda3\\lib\\site-packages (from cffi>=1.14->trio~=0.17->selenium) (2.21)\n",
      "Requirement already satisfied: h11<1,>=0.9.0 in c:\\users\\smhrd\\anaconda3\\lib\\site-packages (from wsproto>=0.14->trio-websocket~=0.9->selenium) (0.14.0)\n",
      "Downloading selenium-4.31.0-py3-none-any.whl (9.4 MB)\n",
      "   ---------------------------------------- 0.0/9.4 MB ? eta -:--:--\n",
      "   ----------------------------------- ---- 8.4/9.4 MB 43.2 MB/s eta 0:00:01\n",
      "   ---------------------------------------- 9.4/9.4 MB 41.5 MB/s eta 0:00:00\n",
      "Downloading trio-0.29.0-py3-none-any.whl (492 kB)\n",
      "Downloading trio_websocket-0.12.2-py3-none-any.whl (21 kB)\n",
      "Downloading attrs-25.3.0-py3-none-any.whl (63 kB)\n",
      "Downloading outcome-1.3.0.post0-py2.py3-none-any.whl (10 kB)\n",
      "Downloading wsproto-1.2.0-py3-none-any.whl (24 kB)\n",
      "Installing collected packages: wsproto, attrs, outcome, trio, trio-websocket, selenium\n",
      "  Attempting uninstall: attrs\n",
      "    Found existing installation: attrs 23.1.0\n",
      "    Uninstalling attrs-23.1.0:\n",
      "      Successfully uninstalled attrs-23.1.0\n",
      "Successfully installed attrs-25.3.0 outcome-1.3.0.post0 selenium-4.31.0 trio-0.29.0 trio-websocket-0.12.2 wsproto-1.2.0\n"
     ]
    }
   ],
   "source": [
    "# selenium 라이브러리 설치\n",
    "!pip install selenium"
   ]
  },
  {
   "cell_type": "code",
   "execution_count": 3,
   "id": "806b7ff6-c699-4cfb-aa15-af05781a558a",
   "metadata": {},
   "outputs": [],
   "source": [
    "# 라이브러리 호출\n",
    "# webdriver >> 크롬 창 역할\n",
    "from selenium import webdriver as wb\n",
    "# 키보드 라이브러리\n",
    "from selenium.webdriver.common.keys import Keys\n",
    "# 선택자 라이브러리\n",
    "from selenium.webdriver.common.by import By"
   ]
  },
  {
   "cell_type": "code",
   "execution_count": 9,
   "id": "dfbe791b-8778-4199-81dd-ddee35891bb2",
   "metadata": {},
   "outputs": [],
   "source": [
    "# 크롬창에 대한 역할\n",
    "driver = wb.Chrome()\n",
    "# 이동\n",
    "driver.get(\"https://www.naver.com/\")\n",
    "\n",
    "# 검색\n",
    "# .find_element() >> 필요한 요소를 찾는명령    ~s  여러개 가져온다\n",
    "search = driver.find_element(By.ID, \"query\")\n",
    "\n",
    "# 원하는 정보(특정 값)를 보낼수있다\n",
    "search.send_keys(\"4월\")\n",
    "\n",
    "# 엔터 입력\n",
    "search.send_keys(Keys.ENTER)"
   ]
  },
  {
   "cell_type": "code",
   "execution_count": null,
   "id": "40bf437e-f845-4107-90c6-119117304d79",
   "metadata": {},
   "outputs": [],
   "source": [
    "# 스크롤\n",
    "body = driver.find_element(By.TAG_NAME, \"body\")\n",
    "body.send_keys(Keys.END)\n",
    "\n",
    "# 뒤로가기  \n",
    "drvier.back()\n",
    "\n",
    "# 화면 전환시 요소를 지워진다"
   ]
  },
  {
   "cell_type": "code",
   "execution_count": 15,
   "id": "99dd8c36-7252-4b85-b5c2-02d5316241ac",
   "metadata": {},
   "outputs": [],
   "source": [
    "# 클릭 하기\n",
    "driver = wb.Chrome()\n",
    "driver.get(\"https://www.naver.com/\")\n",
    "search = driver.find_element(By.ID, \"query\")\n",
    "search.send_keys(\"정보처리기사\")\n",
    "\n",
    "search_btn = driver.find_element(By.CLASS_NAME, \"btn_search\")\n",
    "search_btn.click()"
   ]
  },
  {
   "cell_type": "code",
   "execution_count": 16,
   "id": "5fb78523-f834-45c4-b495-ba59386890cc",
   "metadata": {},
   "outputs": [],
   "source": [
    "# 크롬 창 종료\n",
    "driver.quit()"
   ]
  }
 ],
 "metadata": {
  "kernelspec": {
   "display_name": "Python 3 (ipykernel)",
   "language": "python",
   "name": "python3"
  },
  "language_info": {
   "codemirror_mode": {
    "name": "ipython",
    "version": 3
   },
   "file_extension": ".py",
   "mimetype": "text/x-python",
   "name": "python",
   "nbconvert_exporter": "python",
   "pygments_lexer": "ipython3",
   "version": "3.12.7"
  }
 },
 "nbformat": 4,
 "nbformat_minor": 5
}
