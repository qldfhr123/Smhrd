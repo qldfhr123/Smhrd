{
 "cells": [
  {
   "cell_type": "markdown",
   "id": "6634e42e-a1e6-485f-8bd1-5740a79f5520",
   "metadata": {},
   "source": [
    "### 목표\n",
    "- 타이타닉 데이터를 모델에 학습시켜서 생존/사망 예측해보자!\n",
    "- 머신러닝의 전체 과정을 진행 해보자!"
   ]
  },
  {
   "cell_type": "markdown",
   "id": "cab23ef6-47b3-4dae-be7d-a5be7423ac46",
   "metadata": {},
   "source": [
    "#### 1. 문제 정의\n",
    "- Kaggle 에서 제공하는 titanic 데이터를 사용해 승객의 생존 여부를 예측\n",
    "- 지도 학습\n",
    "- Survived 컬럼은 데이터 값은 수치형이지만 0,1 로 생존 여부만 구분하고 있기 때문에 우선순위는 없음\n",
    "- 분류"
   ]
  },
  {
   "cell_type": "code",
   "execution_count": 1,
   "id": "2f364480-36b3-4158-99b0-7b8640fad503",
   "metadata": {},
   "outputs": [],
   "source": [
    "import numpy as np\n",
    "import pandas as pd\n",
    "import matplotlib.pyplot as plt\n",
    "\n",
    "# 시각화 도구\n",
    "import seaborn as sns"
   ]
  },
  {
   "cell_type": "markdown",
   "id": "4ac564b1-ea87-47b5-b030-b0e5ffb54cd1",
   "metadata": {},
   "source": [
    "#### 2. 데이터 수집\n",
    "- 타이타닉 train 데이터와 test 데이터를 변수 train, test 에 저장"
   ]
  },
  {
   "cell_type": "code",
   "execution_count": 2,
   "id": "eb6efe05-40e0-4f70-be0d-5e85b4fbb617",
   "metadata": {},
   "outputs": [
    {
     "data": {
      "text/html": [
       "<div>\n",
       "<style scoped>\n",
       "    .dataframe tbody tr th:only-of-type {\n",
       "        vertical-align: middle;\n",
       "    }\n",
       "\n",
       "    .dataframe tbody tr th {\n",
       "        vertical-align: top;\n",
       "    }\n",
       "\n",
       "    .dataframe thead th {\n",
       "        text-align: right;\n",
       "    }\n",
       "</style>\n",
       "<table border=\"1\" class=\"dataframe\">\n",
       "  <thead>\n",
       "    <tr style=\"text-align: right;\">\n",
       "      <th></th>\n",
       "      <th>Survived</th>\n",
       "      <th>Pclass</th>\n",
       "      <th>Name</th>\n",
       "      <th>Sex</th>\n",
       "      <th>Age</th>\n",
       "      <th>SibSp</th>\n",
       "      <th>Parch</th>\n",
       "      <th>Ticket</th>\n",
       "      <th>Fare</th>\n",
       "      <th>Cabin</th>\n",
       "      <th>Embarked</th>\n",
       "    </tr>\n",
       "    <tr>\n",
       "      <th>PassengerId</th>\n",
       "      <th></th>\n",
       "      <th></th>\n",
       "      <th></th>\n",
       "      <th></th>\n",
       "      <th></th>\n",
       "      <th></th>\n",
       "      <th></th>\n",
       "      <th></th>\n",
       "      <th></th>\n",
       "      <th></th>\n",
       "      <th></th>\n",
       "    </tr>\n",
       "  </thead>\n",
       "  <tbody>\n",
       "    <tr>\n",
       "      <th>1</th>\n",
       "      <td>0</td>\n",
       "      <td>3</td>\n",
       "      <td>Braund, Mr. Owen Harris</td>\n",
       "      <td>male</td>\n",
       "      <td>22.0</td>\n",
       "      <td>1</td>\n",
       "      <td>0</td>\n",
       "      <td>A/5 21171</td>\n",
       "      <td>7.2500</td>\n",
       "      <td>NaN</td>\n",
       "      <td>S</td>\n",
       "    </tr>\n",
       "    <tr>\n",
       "      <th>2</th>\n",
       "      <td>1</td>\n",
       "      <td>1</td>\n",
       "      <td>Cumings, Mrs. John Bradley (Florence Briggs Th...</td>\n",
       "      <td>female</td>\n",
       "      <td>38.0</td>\n",
       "      <td>1</td>\n",
       "      <td>0</td>\n",
       "      <td>PC 17599</td>\n",
       "      <td>71.2833</td>\n",
       "      <td>C85</td>\n",
       "      <td>C</td>\n",
       "    </tr>\n",
       "    <tr>\n",
       "      <th>3</th>\n",
       "      <td>1</td>\n",
       "      <td>3</td>\n",
       "      <td>Heikkinen, Miss. Laina</td>\n",
       "      <td>female</td>\n",
       "      <td>26.0</td>\n",
       "      <td>0</td>\n",
       "      <td>0</td>\n",
       "      <td>STON/O2. 3101282</td>\n",
       "      <td>7.9250</td>\n",
       "      <td>NaN</td>\n",
       "      <td>S</td>\n",
       "    </tr>\n",
       "    <tr>\n",
       "      <th>4</th>\n",
       "      <td>1</td>\n",
       "      <td>1</td>\n",
       "      <td>Futrelle, Mrs. Jacques Heath (Lily May Peel)</td>\n",
       "      <td>female</td>\n",
       "      <td>35.0</td>\n",
       "      <td>1</td>\n",
       "      <td>0</td>\n",
       "      <td>113803</td>\n",
       "      <td>53.1000</td>\n",
       "      <td>C123</td>\n",
       "      <td>S</td>\n",
       "    </tr>\n",
       "    <tr>\n",
       "      <th>5</th>\n",
       "      <td>0</td>\n",
       "      <td>3</td>\n",
       "      <td>Allen, Mr. William Henry</td>\n",
       "      <td>male</td>\n",
       "      <td>35.0</td>\n",
       "      <td>0</td>\n",
       "      <td>0</td>\n",
       "      <td>373450</td>\n",
       "      <td>8.0500</td>\n",
       "      <td>NaN</td>\n",
       "      <td>S</td>\n",
       "    </tr>\n",
       "  </tbody>\n",
       "</table>\n",
       "</div>"
      ],
      "text/plain": [
       "             Survived  Pclass  \\\n",
       "PassengerId                     \n",
       "1                   0       3   \n",
       "2                   1       1   \n",
       "3                   1       3   \n",
       "4                   1       1   \n",
       "5                   0       3   \n",
       "\n",
       "                                                          Name     Sex   Age  \\\n",
       "PassengerId                                                                    \n",
       "1                                      Braund, Mr. Owen Harris    male  22.0   \n",
       "2            Cumings, Mrs. John Bradley (Florence Briggs Th...  female  38.0   \n",
       "3                                       Heikkinen, Miss. Laina  female  26.0   \n",
       "4                 Futrelle, Mrs. Jacques Heath (Lily May Peel)  female  35.0   \n",
       "5                                     Allen, Mr. William Henry    male  35.0   \n",
       "\n",
       "             SibSp  Parch            Ticket     Fare Cabin Embarked  \n",
       "PassengerId                                                          \n",
       "1                1      0         A/5 21171   7.2500   NaN        S  \n",
       "2                1      0          PC 17599  71.2833   C85        C  \n",
       "3                0      0  STON/O2. 3101282   7.9250   NaN        S  \n",
       "4                1      0            113803  53.1000  C123        S  \n",
       "5                0      0            373450   8.0500   NaN        S  "
      ]
     },
     "execution_count": 2,
     "metadata": {},
     "output_type": "execute_result"
    }
   ],
   "source": [
    "train = pd.read_csv('./data/train.csv', index_col = 'PassengerId')\n",
    "test = pd.read_csv('./data/test.csv', index_col = 'PassengerId')\n",
    "\n",
    "train.head()"
   ]
  },
  {
   "cell_type": "code",
   "execution_count": 3,
   "id": "844f8fe5-bf27-43f9-ade7-98b408add0b8",
   "metadata": {},
   "outputs": [
    {
     "name": "stdout",
     "output_type": "stream",
     "text": [
      "(891, 11)\n",
      "(418, 10)\n"
     ]
    }
   ],
   "source": [
    "# 크기 확인\n",
    "print(train.shape)\n",
    "print(test.shape)"
   ]
  },
  {
   "cell_type": "markdown",
   "id": "651fb843-b944-4993-bab5-b23c80310d69",
   "metadata": {},
   "source": [
    "#### 3. 데이터 전처리 및 데이터 탐색"
   ]
  },
  {
   "cell_type": "code",
   "execution_count": 4,
   "id": "860d7426-410f-47fd-ad13-d3dc74c412d7",
   "metadata": {},
   "outputs": [
    {
     "name": "stdout",
     "output_type": "stream",
     "text": [
      "<class 'pandas.core.frame.DataFrame'>\n",
      "Index: 891 entries, 1 to 891\n",
      "Data columns (total 11 columns):\n",
      " #   Column    Non-Null Count  Dtype  \n",
      "---  ------    --------------  -----  \n",
      " 0   Survived  891 non-null    int64  \n",
      " 1   Pclass    891 non-null    int64  \n",
      " 2   Name      891 non-null    object \n",
      " 3   Sex       891 non-null    object \n",
      " 4   Age       714 non-null    float64\n",
      " 5   SibSp     891 non-null    int64  \n",
      " 6   Parch     891 non-null    int64  \n",
      " 7   Ticket    891 non-null    object \n",
      " 8   Fare      891 non-null    float64\n",
      " 9   Cabin     204 non-null    object \n",
      " 10  Embarked  889 non-null    object \n",
      "dtypes: float64(2), int64(4), object(5)\n",
      "memory usage: 83.5+ KB\n"
     ]
    }
   ],
   "source": [
    "# 훈련 데이터 셋 정보 확인\n",
    "train.info()\n",
    "\n",
    "# 결측치가 있는 칼럼 : Age, Cobin(갯실 번호), Embarked\n",
    "# 문자 -> 숫자 : 인코딩"
   ]
  },
  {
   "cell_type": "code",
   "execution_count": 5,
   "id": "5f009362-8020-4d69-a60f-194e49401227",
   "metadata": {},
   "outputs": [
    {
     "name": "stdout",
     "output_type": "stream",
     "text": [
      "<class 'pandas.core.frame.DataFrame'>\n",
      "Index: 418 entries, 892 to 1309\n",
      "Data columns (total 10 columns):\n",
      " #   Column    Non-Null Count  Dtype  \n",
      "---  ------    --------------  -----  \n",
      " 0   Pclass    418 non-null    int64  \n",
      " 1   Name      418 non-null    object \n",
      " 2   Sex       418 non-null    object \n",
      " 3   Age       332 non-null    float64\n",
      " 4   SibSp     418 non-null    int64  \n",
      " 5   Parch     418 non-null    int64  \n",
      " 6   Ticket    418 non-null    object \n",
      " 7   Fare      417 non-null    float64\n",
      " 8   Cabin     91 non-null     object \n",
      " 9   Embarked  418 non-null    object \n",
      "dtypes: float64(2), int64(3), object(5)\n",
      "memory usage: 35.9+ KB\n"
     ]
    }
   ],
   "source": [
    "test.info()\n",
    "# 결측치가 있는 컬럼 : Age, Fare, Cobin(갯실 번호)\n",
    "# 필요시 인코딩"
   ]
  },
  {
   "cell_type": "code",
   "execution_count": 6,
   "id": "b4c7cb29-414f-448b-a777-8db11f17283e",
   "metadata": {},
   "outputs": [
    {
     "data": {
      "text/plain": [
       "'\\nPclass : 객실의 등급 (1: 상위층, 2:중상위, 3:하위층)\\nSibSp : 형제 자매 / 배우자 (같이 탑승한)\\nParch : 부모 / 자식 (같이 탑승한)\\nTicket : 티켓 번호 \\nFare : 요금\\nCabin : 객실 번호\\nEmbarked : 승선항 (S, C, Q)\\n'"
      ]
     },
     "execution_count": 6,
     "metadata": {},
     "output_type": "execute_result"
    }
   ],
   "source": [
    "# 컬럼 정보 정리\n",
    "train.columns\n",
    "'''\n",
    "Pclass : 객실의 등급 (1: 상위층, 2:중상위, 3:하위층)\n",
    "SibSp : 형제 자매 / 배우자 (같이 탑승한)\n",
    "Parch : 부모 / 자식 (같이 탑승한)\n",
    "Ticket : 티켓 번호 \n",
    "Fare : 요금\n",
    "Cabin : 객실 번호\n",
    "Embarked : 승선항 (S, C, Q)\n",
    "'''"
   ]
  },
  {
   "cell_type": "markdown",
   "id": "cd4a1196-de66-4cd3-a373-092059cc7ad0",
   "metadata": {},
   "source": [
    "#### 결측치 채우기\n",
    "- train : Age, Cabin, Embarked\n",
    "- test : Age, Fare, Cabin"
   ]
  },
  {
   "cell_type": "code",
   "execution_count": 7,
   "id": "1a42baf2-feaa-4e7d-832b-3e60a2812ab4",
   "metadata": {},
   "outputs": [],
   "source": [
    "# 결측치를 채우는 방법\n",
    "# 1. 결측치가 있는 행 전체를 삭제하는 방법\n",
    "# >>> 삭제하려는 데이터가 너무 많거나 모델링 치명적이지 않은 데이터여야만 한다\n",
    "# >>> 데이터가 많을 수록 과대적합을 피할 수 있는데, 삭제해버리면 학습할 데이터가 줄어들어 버림\n",
    "\n",
    "# 2. 결측치를 다른값(대표값)으로 대체 하는 방법\n",
    "# >>> 평균, 최빈값, 중앙값"
   ]
  },
  {
   "cell_type": "markdown",
   "id": "c88edd22-51b7-4ffb-bbb2-1ca34e6a0478",
   "metadata": {},
   "source": [
    "- train - Embarked 칼럼 결측치 채우기"
   ]
  },
  {
   "cell_type": "code",
   "execution_count": 8,
   "id": "908e77d0-5676-4e87-b01a-1b30977774de",
   "metadata": {},
   "outputs": [
    {
     "data": {
      "text/plain": [
       "Embarked\n",
       "S    644\n",
       "C    168\n",
       "Q     77\n",
       "Name: count, dtype: int64"
      ]
     },
     "execution_count": 8,
     "metadata": {},
     "output_type": "execute_result"
    }
   ],
   "source": [
    "train['Embarked'].value_counts()"
   ]
  },
  {
   "cell_type": "code",
   "execution_count": 9,
   "id": "48227114-f54f-456d-ba70-30de8bb393eb",
   "metadata": {},
   "outputs": [
    {
     "data": {
      "text/plain": [
       "2"
      ]
     },
     "execution_count": 9,
     "metadata": {},
     "output_type": "execute_result"
    }
   ],
   "source": [
    "# Embarked 컬럼의 결측치는?\n",
    "train['Embarked'].isnull().sum()"
   ]
  },
  {
   "cell_type": "code",
   "execution_count": 10,
   "id": "cbac0627-46bb-4c9f-a149-573607aba4a7",
   "metadata": {},
   "outputs": [
    {
     "data": {
      "text/html": [
       "<div>\n",
       "<style scoped>\n",
       "    .dataframe tbody tr th:only-of-type {\n",
       "        vertical-align: middle;\n",
       "    }\n",
       "\n",
       "    .dataframe tbody tr th {\n",
       "        vertical-align: top;\n",
       "    }\n",
       "\n",
       "    .dataframe thead th {\n",
       "        text-align: right;\n",
       "    }\n",
       "</style>\n",
       "<table border=\"1\" class=\"dataframe\">\n",
       "  <thead>\n",
       "    <tr style=\"text-align: right;\">\n",
       "      <th></th>\n",
       "      <th>Survived</th>\n",
       "      <th>Pclass</th>\n",
       "      <th>Name</th>\n",
       "      <th>Sex</th>\n",
       "      <th>Age</th>\n",
       "      <th>SibSp</th>\n",
       "      <th>Parch</th>\n",
       "      <th>Ticket</th>\n",
       "      <th>Fare</th>\n",
       "      <th>Cabin</th>\n",
       "      <th>Embarked</th>\n",
       "    </tr>\n",
       "    <tr>\n",
       "      <th>PassengerId</th>\n",
       "      <th></th>\n",
       "      <th></th>\n",
       "      <th></th>\n",
       "      <th></th>\n",
       "      <th></th>\n",
       "      <th></th>\n",
       "      <th></th>\n",
       "      <th></th>\n",
       "      <th></th>\n",
       "      <th></th>\n",
       "      <th></th>\n",
       "    </tr>\n",
       "  </thead>\n",
       "  <tbody>\n",
       "    <tr>\n",
       "      <th>62</th>\n",
       "      <td>1</td>\n",
       "      <td>1</td>\n",
       "      <td>Icard, Miss. Amelie</td>\n",
       "      <td>female</td>\n",
       "      <td>38.0</td>\n",
       "      <td>0</td>\n",
       "      <td>0</td>\n",
       "      <td>113572</td>\n",
       "      <td>80.0</td>\n",
       "      <td>B28</td>\n",
       "      <td>NaN</td>\n",
       "    </tr>\n",
       "    <tr>\n",
       "      <th>830</th>\n",
       "      <td>1</td>\n",
       "      <td>1</td>\n",
       "      <td>Stone, Mrs. George Nelson (Martha Evelyn)</td>\n",
       "      <td>female</td>\n",
       "      <td>62.0</td>\n",
       "      <td>0</td>\n",
       "      <td>0</td>\n",
       "      <td>113572</td>\n",
       "      <td>80.0</td>\n",
       "      <td>B28</td>\n",
       "      <td>NaN</td>\n",
       "    </tr>\n",
       "  </tbody>\n",
       "</table>\n",
       "</div>"
      ],
      "text/plain": [
       "             Survived  Pclass                                       Name  \\\n",
       "PassengerId                                                                \n",
       "62                  1       1                        Icard, Miss. Amelie   \n",
       "830                 1       1  Stone, Mrs. George Nelson (Martha Evelyn)   \n",
       "\n",
       "                Sex   Age  SibSp  Parch  Ticket  Fare Cabin Embarked  \n",
       "PassengerId                                                           \n",
       "62           female  38.0      0      0  113572  80.0   B28      NaN  \n",
       "830          female  62.0      0      0  113572  80.0   B28      NaN  "
      ]
     },
     "execution_count": 10,
     "metadata": {},
     "output_type": "execute_result"
    }
   ],
   "source": [
    "# 결측치가 있는 데이터 출력\n",
    "train[train['Embarked'].isnull()]"
   ]
  },
  {
   "cell_type": "code",
   "execution_count": 11,
   "id": "dfeaf099-1b93-490e-a380-ed57bfbf8bdc",
   "metadata": {},
   "outputs": [],
   "source": [
    "# fillna('값')\n",
    "# 비어 있는 데이터가 있다면 '값'으로 채워주는 함수\n",
    "train['Embarked'] = train['Embarked'].fillna('S')"
   ]
  },
  {
   "cell_type": "code",
   "execution_count": 12,
   "id": "b0c04e07-d0bc-4926-b3fb-1d03f66ff9de",
   "metadata": {},
   "outputs": [
    {
     "data": {
      "text/plain": [
       "0"
      ]
     },
     "execution_count": 12,
     "metadata": {},
     "output_type": "execute_result"
    }
   ],
   "source": [
    "train['Embarked'].isnull().sum()"
   ]
  },
  {
   "cell_type": "markdown",
   "id": "194761ef-ad0c-45bd-9ff2-a2e1d571ec28",
   "metadata": {},
   "source": [
    "- test : Fare 컬럼의 결측치를 채우기"
   ]
  },
  {
   "cell_type": "code",
   "execution_count": 13,
   "id": "a77c97b4-52aa-4d1e-9b17-8babdb2ef7d9",
   "metadata": {},
   "outputs": [
    {
     "data": {
      "text/html": [
       "<div>\n",
       "<style scoped>\n",
       "    .dataframe tbody tr th:only-of-type {\n",
       "        vertical-align: middle;\n",
       "    }\n",
       "\n",
       "    .dataframe tbody tr th {\n",
       "        vertical-align: top;\n",
       "    }\n",
       "\n",
       "    .dataframe thead th {\n",
       "        text-align: right;\n",
       "    }\n",
       "</style>\n",
       "<table border=\"1\" class=\"dataframe\">\n",
       "  <thead>\n",
       "    <tr style=\"text-align: right;\">\n",
       "      <th></th>\n",
       "      <th>Pclass</th>\n",
       "      <th>Name</th>\n",
       "      <th>Sex</th>\n",
       "      <th>Age</th>\n",
       "      <th>SibSp</th>\n",
       "      <th>Parch</th>\n",
       "      <th>Ticket</th>\n",
       "      <th>Fare</th>\n",
       "      <th>Cabin</th>\n",
       "      <th>Embarked</th>\n",
       "    </tr>\n",
       "    <tr>\n",
       "      <th>PassengerId</th>\n",
       "      <th></th>\n",
       "      <th></th>\n",
       "      <th></th>\n",
       "      <th></th>\n",
       "      <th></th>\n",
       "      <th></th>\n",
       "      <th></th>\n",
       "      <th></th>\n",
       "      <th></th>\n",
       "      <th></th>\n",
       "    </tr>\n",
       "  </thead>\n",
       "  <tbody>\n",
       "    <tr>\n",
       "      <th>1044</th>\n",
       "      <td>3</td>\n",
       "      <td>Storey, Mr. Thomas</td>\n",
       "      <td>male</td>\n",
       "      <td>60.5</td>\n",
       "      <td>0</td>\n",
       "      <td>0</td>\n",
       "      <td>3701</td>\n",
       "      <td>NaN</td>\n",
       "      <td>NaN</td>\n",
       "      <td>S</td>\n",
       "    </tr>\n",
       "  </tbody>\n",
       "</table>\n",
       "</div>"
      ],
      "text/plain": [
       "             Pclass                Name   Sex   Age  SibSp  Parch Ticket  \\\n",
       "PassengerId                                                                \n",
       "1044              3  Storey, Mr. Thomas  male  60.5      0      0   3701   \n",
       "\n",
       "             Fare Cabin Embarked  \n",
       "PassengerId                       \n",
       "1044          NaN   NaN        S  "
      ]
     },
     "execution_count": 13,
     "metadata": {},
     "output_type": "execute_result"
    }
   ],
   "source": [
    "test[test['Fare'].isnull()]"
   ]
  },
  {
   "cell_type": "code",
   "execution_count": 14,
   "id": "9ee958da-13a9-4fee-b201-23a6b023562c",
   "metadata": {},
   "outputs": [
    {
     "data": {
      "text/html": [
       "<div>\n",
       "<style scoped>\n",
       "    .dataframe tbody tr th:only-of-type {\n",
       "        vertical-align: middle;\n",
       "    }\n",
       "\n",
       "    .dataframe tbody tr th {\n",
       "        vertical-align: top;\n",
       "    }\n",
       "\n",
       "    .dataframe thead th {\n",
       "        text-align: right;\n",
       "    }\n",
       "</style>\n",
       "<table border=\"1\" class=\"dataframe\">\n",
       "  <thead>\n",
       "    <tr style=\"text-align: right;\">\n",
       "      <th></th>\n",
       "      <th>Pclass</th>\n",
       "      <th>Age</th>\n",
       "      <th>SibSp</th>\n",
       "      <th>Parch</th>\n",
       "      <th>Fare</th>\n",
       "    </tr>\n",
       "  </thead>\n",
       "  <tbody>\n",
       "    <tr>\n",
       "      <th>Pclass</th>\n",
       "      <td>1.000000</td>\n",
       "      <td>-0.492143</td>\n",
       "      <td>0.001087</td>\n",
       "      <td>0.018721</td>\n",
       "      <td>-0.577147</td>\n",
       "    </tr>\n",
       "    <tr>\n",
       "      <th>Age</th>\n",
       "      <td>-0.492143</td>\n",
       "      <td>1.000000</td>\n",
       "      <td>-0.091587</td>\n",
       "      <td>-0.061249</td>\n",
       "      <td>0.337932</td>\n",
       "    </tr>\n",
       "    <tr>\n",
       "      <th>SibSp</th>\n",
       "      <td>0.001087</td>\n",
       "      <td>-0.091587</td>\n",
       "      <td>1.000000</td>\n",
       "      <td>0.306895</td>\n",
       "      <td>0.171539</td>\n",
       "    </tr>\n",
       "    <tr>\n",
       "      <th>Parch</th>\n",
       "      <td>0.018721</td>\n",
       "      <td>-0.061249</td>\n",
       "      <td>0.306895</td>\n",
       "      <td>1.000000</td>\n",
       "      <td>0.230046</td>\n",
       "    </tr>\n",
       "    <tr>\n",
       "      <th>Fare</th>\n",
       "      <td>-0.577147</td>\n",
       "      <td>0.337932</td>\n",
       "      <td>0.171539</td>\n",
       "      <td>0.230046</td>\n",
       "      <td>1.000000</td>\n",
       "    </tr>\n",
       "  </tbody>\n",
       "</table>\n",
       "</div>"
      ],
      "text/plain": [
       "          Pclass       Age     SibSp     Parch      Fare\n",
       "Pclass  1.000000 -0.492143  0.001087  0.018721 -0.577147\n",
       "Age    -0.492143  1.000000 -0.091587 -0.061249  0.337932\n",
       "SibSp   0.001087 -0.091587  1.000000  0.306895  0.171539\n",
       "Parch   0.018721 -0.061249  0.306895  1.000000  0.230046\n",
       "Fare   -0.577147  0.337932  0.171539  0.230046  1.000000"
      ]
     },
     "execution_count": 14,
     "metadata": {},
     "output_type": "execute_result"
    }
   ],
   "source": [
    "# 상관 관계 확인\n",
    "test.corr(numeric_only = True) # 숫자 컬럼 포함\n",
    "# 상관계수 : -1 ~ 1 범위로 표현\n",
    "# -1 or 1에 가까울수록 해당 컬럼과 상관 관계가 높다\n",
    "# 0에 가까울수록 해당 컬럼과 상관이 없음"
   ]
  },
  {
   "cell_type": "code",
   "execution_count": 15,
   "id": "590bb400-60ff-4981-b9e1-291471c79128",
   "metadata": {},
   "outputs": [
    {
     "data": {
      "text/html": [
       "<div>\n",
       "<style scoped>\n",
       "    .dataframe tbody tr th:only-of-type {\n",
       "        vertical-align: middle;\n",
       "    }\n",
       "\n",
       "    .dataframe tbody tr th {\n",
       "        vertical-align: top;\n",
       "    }\n",
       "\n",
       "    .dataframe thead th {\n",
       "        text-align: right;\n",
       "    }\n",
       "</style>\n",
       "<table border=\"1\" class=\"dataframe\">\n",
       "  <thead>\n",
       "    <tr style=\"text-align: right;\">\n",
       "      <th></th>\n",
       "      <th>Survived</th>\n",
       "      <th>Pclass</th>\n",
       "      <th>Age</th>\n",
       "      <th>SibSp</th>\n",
       "      <th>Parch</th>\n",
       "      <th>Fare</th>\n",
       "    </tr>\n",
       "  </thead>\n",
       "  <tbody>\n",
       "    <tr>\n",
       "      <th>Survived</th>\n",
       "      <td>1.000000</td>\n",
       "      <td>-0.338481</td>\n",
       "      <td>-0.077221</td>\n",
       "      <td>-0.035322</td>\n",
       "      <td>0.081629</td>\n",
       "      <td>0.257307</td>\n",
       "    </tr>\n",
       "    <tr>\n",
       "      <th>Pclass</th>\n",
       "      <td>-0.338481</td>\n",
       "      <td>1.000000</td>\n",
       "      <td>-0.369226</td>\n",
       "      <td>0.083081</td>\n",
       "      <td>0.018443</td>\n",
       "      <td>-0.549500</td>\n",
       "    </tr>\n",
       "    <tr>\n",
       "      <th>Age</th>\n",
       "      <td>-0.077221</td>\n",
       "      <td>-0.369226</td>\n",
       "      <td>1.000000</td>\n",
       "      <td>-0.308247</td>\n",
       "      <td>-0.189119</td>\n",
       "      <td>0.096067</td>\n",
       "    </tr>\n",
       "    <tr>\n",
       "      <th>SibSp</th>\n",
       "      <td>-0.035322</td>\n",
       "      <td>0.083081</td>\n",
       "      <td>-0.308247</td>\n",
       "      <td>1.000000</td>\n",
       "      <td>0.414838</td>\n",
       "      <td>0.159651</td>\n",
       "    </tr>\n",
       "    <tr>\n",
       "      <th>Parch</th>\n",
       "      <td>0.081629</td>\n",
       "      <td>0.018443</td>\n",
       "      <td>-0.189119</td>\n",
       "      <td>0.414838</td>\n",
       "      <td>1.000000</td>\n",
       "      <td>0.216225</td>\n",
       "    </tr>\n",
       "    <tr>\n",
       "      <th>Fare</th>\n",
       "      <td>0.257307</td>\n",
       "      <td>-0.549500</td>\n",
       "      <td>0.096067</td>\n",
       "      <td>0.159651</td>\n",
       "      <td>0.216225</td>\n",
       "      <td>1.000000</td>\n",
       "    </tr>\n",
       "  </tbody>\n",
       "</table>\n",
       "</div>"
      ],
      "text/plain": [
       "          Survived    Pclass       Age     SibSp     Parch      Fare\n",
       "Survived  1.000000 -0.338481 -0.077221 -0.035322  0.081629  0.257307\n",
       "Pclass   -0.338481  1.000000 -0.369226  0.083081  0.018443 -0.549500\n",
       "Age      -0.077221 -0.369226  1.000000 -0.308247 -0.189119  0.096067\n",
       "SibSp    -0.035322  0.083081 -0.308247  1.000000  0.414838  0.159651\n",
       "Parch     0.081629  0.018443 -0.189119  0.414838  1.000000  0.216225\n",
       "Fare      0.257307 -0.549500  0.096067  0.159651  0.216225  1.000000"
      ]
     },
     "execution_count": 15,
     "metadata": {},
     "output_type": "execute_result"
    }
   ],
   "source": [
    "# train 으로 기준으롷 하는게 좋다\n",
    "train.corr(numeric_only = True)"
   ]
  },
  {
   "cell_type": "code",
   "execution_count": 16,
   "id": "f9a585a9-9ec5-448b-9026-55693a07eeab",
   "metadata": {},
   "outputs": [
    {
     "data": {
      "text/plain": [
       "<Axes: >"
      ]
     },
     "execution_count": 16,
     "metadata": {},
     "output_type": "execute_result"
    },
    {
     "data": {
      "image/png": "[encoded data removed]",
      "text/plain": [
       "<Figure size 800x800 with 2 Axes>"
      ]
     },
     "metadata": {},
     "output_type": "display_data"
    }
   ],
   "source": [
    "# 히트맵 표현\n",
    "plt.figure(figsize=(8,8))\n",
    "sns.heatmap(train.corr(numeric_only = True).abs(), annot = True, cmap = 'Oranges')"
   ]
  },
  {
   "cell_type": "code",
   "execution_count": 17,
   "id": "825d68ce-4e77-4228-bfd2-2e516a3b94e3",
   "metadata": {},
   "outputs": [
    {
     "data": {
      "text/plain": [
       "array([3, 1, 2], dtype=int64)"
      ]
     },
     "execution_count": 17,
     "metadata": {},
     "output_type": "execute_result"
    }
   ],
   "source": [
    "# train Pclass 컬럼\n",
    "train['Pclass'].unique()"
   ]
  },
  {
   "cell_type": "code",
   "execution_count": 18,
   "id": "ac97d9df-1c92-4dc1-9fe7-af0273d35d85",
   "metadata": {},
   "outputs": [
    {
     "data": {
      "text/html": [
       "<div>\n",
       "<style scoped>\n",
       "    .dataframe tbody tr th:only-of-type {\n",
       "        vertical-align: middle;\n",
       "    }\n",
       "\n",
       "    .dataframe tbody tr th {\n",
       "        vertical-align: top;\n",
       "    }\n",
       "\n",
       "    .dataframe thead th {\n",
       "        text-align: right;\n",
       "    }\n",
       "</style>\n",
       "<table border=\"1\" class=\"dataframe\">\n",
       "  <thead>\n",
       "    <tr style=\"text-align: right;\">\n",
       "      <th></th>\n",
       "      <th>Fare</th>\n",
       "    </tr>\n",
       "    <tr>\n",
       "      <th>Pclass</th>\n",
       "      <th></th>\n",
       "    </tr>\n",
       "  </thead>\n",
       "  <tbody>\n",
       "    <tr>\n",
       "      <th>1</th>\n",
       "      <td>60.2875</td>\n",
       "    </tr>\n",
       "    <tr>\n",
       "      <th>2</th>\n",
       "      <td>14.2500</td>\n",
       "    </tr>\n",
       "    <tr>\n",
       "      <th>3</th>\n",
       "      <td>8.0500</td>\n",
       "    </tr>\n",
       "  </tbody>\n",
       "</table>\n",
       "</div>"
      ],
      "text/plain": [
       "           Fare\n",
       "Pclass         \n",
       "1       60.2875\n",
       "2       14.2500\n",
       "3        8.0500"
      ]
     },
     "execution_count": 18,
     "metadata": {},
     "output_type": "execute_result"
    }
   ],
   "source": [
    "# 객실 등급을 기준으로 그룹화 groupby() 요금 컬럼 집계함수 중앙값 medean()\n",
    "\n",
    "train[['Pclass', 'Fare']].groupby('Pclass').median()"
   ]
  },
  {
   "cell_type": "code",
   "execution_count": 19,
   "id": "5a1153a0-6c72-4267-910f-2feda514b858",
   "metadata": {},
   "outputs": [
    {
     "data": {
      "text/html": [
       "<div>\n",
       "<style scoped>\n",
       "    .dataframe tbody tr th:only-of-type {\n",
       "        vertical-align: middle;\n",
       "    }\n",
       "\n",
       "    .dataframe tbody tr th {\n",
       "        vertical-align: top;\n",
       "    }\n",
       "\n",
       "    .dataframe thead th {\n",
       "        text-align: right;\n",
       "    }\n",
       "</style>\n",
       "<table border=\"1\" class=\"dataframe\">\n",
       "  <thead>\n",
       "    <tr style=\"text-align: right;\">\n",
       "      <th></th>\n",
       "      <th></th>\n",
       "      <th>Fare</th>\n",
       "    </tr>\n",
       "    <tr>\n",
       "      <th>Pclass</th>\n",
       "      <th>Sex</th>\n",
       "      <th></th>\n",
       "    </tr>\n",
       "  </thead>\n",
       "  <tbody>\n",
       "    <tr>\n",
       "      <th rowspan=\"2\" valign=\"top\">1</th>\n",
       "      <th>female</th>\n",
       "      <td>82.66455</td>\n",
       "    </tr>\n",
       "    <tr>\n",
       "      <th>male</th>\n",
       "      <td>41.26250</td>\n",
       "    </tr>\n",
       "    <tr>\n",
       "      <th rowspan=\"2\" valign=\"top\">2</th>\n",
       "      <th>female</th>\n",
       "      <td>22.00000</td>\n",
       "    </tr>\n",
       "    <tr>\n",
       "      <th>male</th>\n",
       "      <td>13.00000</td>\n",
       "    </tr>\n",
       "    <tr>\n",
       "      <th rowspan=\"2\" valign=\"top\">3</th>\n",
       "      <th>female</th>\n",
       "      <td>12.47500</td>\n",
       "    </tr>\n",
       "    <tr>\n",
       "      <th>male</th>\n",
       "      <td>7.92500</td>\n",
       "    </tr>\n",
       "  </tbody>\n",
       "</table>\n",
       "</div>"
      ],
      "text/plain": [
       "                   Fare\n",
       "Pclass Sex             \n",
       "1      female  82.66455\n",
       "       male    41.26250\n",
       "2      female  22.00000\n",
       "       male    13.00000\n",
       "3      female  12.47500\n",
       "       male     7.92500"
      ]
     },
     "execution_count": 19,
     "metadata": {},
     "output_type": "execute_result"
    }
   ],
   "source": [
    "# Pclass, Sex을 기준으로 그룹핑하여 Fare의 중앙값을 확인\n",
    "train[['Pclass', 'Sex','Fare']].groupby(['Pclass', 'Sex']).median()"
   ]
  },
  {
   "cell_type": "code",
   "execution_count": 20,
   "id": "93afee66-ef91-4326-8c1c-0ef87b4de480",
   "metadata": {},
   "outputs": [
    {
     "data": {
      "text/html": [
       "<div>\n",
       "<style scoped>\n",
       "    .dataframe tbody tr th:only-of-type {\n",
       "        vertical-align: middle;\n",
       "    }\n",
       "\n",
       "    .dataframe tbody tr th {\n",
       "        vertical-align: top;\n",
       "    }\n",
       "\n",
       "    .dataframe thead th {\n",
       "        text-align: right;\n",
       "    }\n",
       "</style>\n",
       "<table border=\"1\" class=\"dataframe\">\n",
       "  <thead>\n",
       "    <tr style=\"text-align: right;\">\n",
       "      <th></th>\n",
       "      <th>Pclass</th>\n",
       "      <th>Name</th>\n",
       "      <th>Sex</th>\n",
       "      <th>Age</th>\n",
       "      <th>SibSp</th>\n",
       "      <th>Parch</th>\n",
       "      <th>Ticket</th>\n",
       "      <th>Fare</th>\n",
       "      <th>Cabin</th>\n",
       "      <th>Embarked</th>\n",
       "    </tr>\n",
       "    <tr>\n",
       "      <th>PassengerId</th>\n",
       "      <th></th>\n",
       "      <th></th>\n",
       "      <th></th>\n",
       "      <th></th>\n",
       "      <th></th>\n",
       "      <th></th>\n",
       "      <th></th>\n",
       "      <th></th>\n",
       "      <th></th>\n",
       "      <th></th>\n",
       "    </tr>\n",
       "  </thead>\n",
       "  <tbody>\n",
       "    <tr>\n",
       "      <th>1044</th>\n",
       "      <td>3</td>\n",
       "      <td>Storey, Mr. Thomas</td>\n",
       "      <td>male</td>\n",
       "      <td>60.5</td>\n",
       "      <td>0</td>\n",
       "      <td>0</td>\n",
       "      <td>3701</td>\n",
       "      <td>NaN</td>\n",
       "      <td>NaN</td>\n",
       "      <td>S</td>\n",
       "    </tr>\n",
       "  </tbody>\n",
       "</table>\n",
       "</div>"
      ],
      "text/plain": [
       "             Pclass                Name   Sex   Age  SibSp  Parch Ticket  \\\n",
       "PassengerId                                                                \n",
       "1044              3  Storey, Mr. Thomas  male  60.5      0      0   3701   \n",
       "\n",
       "             Fare Cabin Embarked  \n",
       "PassengerId                       \n",
       "1044          NaN   NaN        S  "
      ]
     },
     "execution_count": 20,
     "metadata": {},
     "output_type": "execute_result"
    }
   ],
   "source": [
    "# 결측치가 있는 행 확인\n",
    "test[test['Fare'].isnull()]"
   ]
  },
  {
   "cell_type": "code",
   "execution_count": 21,
   "id": "fb070dc3-5bd8-4551-9da2-713ea7a4ea2d",
   "metadata": {},
   "outputs": [],
   "source": [
    "# fillna를 사용해 결측치 채우기\n",
    "test['Fare'] = test['Fare'].fillna(7.925)"
   ]
  },
  {
   "cell_type": "markdown",
   "id": "6220b37a-0c32-4bc5-822c-e6a007abf054",
   "metadata": {},
   "source": [
    "- train, test Age 채우기\n",
    "    - 위에서 사용했던 Pclass, Sex 컬럼을 그룹핑해서 Age의 집계를학인하고 채워보자"
   ]
  },
  {
   "cell_type": "code",
   "execution_count": 22,
   "id": "1bb1da49-2efb-4f6e-9f52-41b0c108cb2f",
   "metadata": {},
   "outputs": [
    {
     "data": {
      "text/plain": [
       "count    714.000000\n",
       "mean      29.699118\n",
       "std       14.526497\n",
       "min        0.420000\n",
       "25%       20.125000\n",
       "50%       28.000000\n",
       "75%       38.000000\n",
       "max       80.000000\n",
       "Name: Age, dtype: float64"
      ]
     },
     "execution_count": 22,
     "metadata": {},
     "output_type": "execute_result"
    }
   ],
   "source": [
    "# 평균값을 쓸지 중앙값을 쓸지 판단을 위해 Age 컬럼의 기술통계랑을 확인\n",
    "train['Age'].describe()"
   ]
  },
  {
   "cell_type": "code",
   "execution_count": 23,
   "id": "c272023a-ae8d-4c80-9555-ad6a6f04f7ea",
   "metadata": {},
   "outputs": [],
   "source": [
    "# Age 는 Pclass와 상관관계가 높았음\n",
    "# Pclass, Sex을 그룹핑 하여 Age의 평균 출력\n",
    "gb1 = train[['Pclass','Sex','Age']].groupby(['Pclass','Sex']).median()"
   ]
  },
  {
   "cell_type": "code",
   "execution_count": 24,
   "id": "6110238d-939a-4a11-af36-1f9f496d63d1",
   "metadata": {},
   "outputs": [
    {
     "data": {
      "text/plain": [
       "Age    30.0\n",
       "Name: (2, male), dtype: float64"
      ]
     },
     "execution_count": 24,
     "metadata": {},
     "output_type": "execute_result"
    }
   ],
   "source": [
    "# gb1 - index 2개 - Pclass, Sex\n",
    "# 멀티 인덱스\n",
    "# 2등석, 남성 : 평균나이\n",
    "gb1.loc[ (2,'male') ]"
   ]
  },
  {
   "cell_type": "code",
   "execution_count": 25,
   "id": "19360829-ecd5-4c56-b1fe-974339ccafd8",
   "metadata": {},
   "outputs": [
    {
     "data": {
      "text/html": [
       "<div>\n",
       "<style scoped>\n",
       "    .dataframe tbody tr th:only-of-type {\n",
       "        vertical-align: middle;\n",
       "    }\n",
       "\n",
       "    .dataframe tbody tr th {\n",
       "        vertical-align: top;\n",
       "    }\n",
       "\n",
       "    .dataframe thead th {\n",
       "        text-align: right;\n",
       "    }\n",
       "</style>\n",
       "<table border=\"1\" class=\"dataframe\">\n",
       "  <thead>\n",
       "    <tr style=\"text-align: right;\">\n",
       "      <th></th>\n",
       "      <th>Survived</th>\n",
       "      <th>Pclass</th>\n",
       "      <th>Name</th>\n",
       "      <th>Sex</th>\n",
       "      <th>Age</th>\n",
       "      <th>SibSp</th>\n",
       "      <th>Parch</th>\n",
       "      <th>Ticket</th>\n",
       "      <th>Fare</th>\n",
       "      <th>Cabin</th>\n",
       "      <th>Embarked</th>\n",
       "    </tr>\n",
       "    <tr>\n",
       "      <th>PassengerId</th>\n",
       "      <th></th>\n",
       "      <th></th>\n",
       "      <th></th>\n",
       "      <th></th>\n",
       "      <th></th>\n",
       "      <th></th>\n",
       "      <th></th>\n",
       "      <th></th>\n",
       "      <th></th>\n",
       "      <th></th>\n",
       "      <th></th>\n",
       "    </tr>\n",
       "  </thead>\n",
       "  <tbody>\n",
       "    <tr>\n",
       "      <th>1</th>\n",
       "      <td>0</td>\n",
       "      <td>3</td>\n",
       "      <td>Braund, Mr. Owen Harris</td>\n",
       "      <td>male</td>\n",
       "      <td>22.0</td>\n",
       "      <td>1</td>\n",
       "      <td>0</td>\n",
       "      <td>A/5 21171</td>\n",
       "      <td>7.2500</td>\n",
       "      <td>NaN</td>\n",
       "      <td>S</td>\n",
       "    </tr>\n",
       "    <tr>\n",
       "      <th>2</th>\n",
       "      <td>1</td>\n",
       "      <td>1</td>\n",
       "      <td>Cumings, Mrs. John Bradley (Florence Briggs Th...</td>\n",
       "      <td>female</td>\n",
       "      <td>38.0</td>\n",
       "      <td>1</td>\n",
       "      <td>0</td>\n",
       "      <td>PC 17599</td>\n",
       "      <td>71.2833</td>\n",
       "      <td>C85</td>\n",
       "      <td>C</td>\n",
       "    </tr>\n",
       "    <tr>\n",
       "      <th>3</th>\n",
       "      <td>1</td>\n",
       "      <td>3</td>\n",
       "      <td>Heikkinen, Miss. Laina</td>\n",
       "      <td>female</td>\n",
       "      <td>26.0</td>\n",
       "      <td>0</td>\n",
       "      <td>0</td>\n",
       "      <td>STON/O2. 3101282</td>\n",
       "      <td>7.9250</td>\n",
       "      <td>NaN</td>\n",
       "      <td>S</td>\n",
       "    </tr>\n",
       "    <tr>\n",
       "      <th>4</th>\n",
       "      <td>1</td>\n",
       "      <td>1</td>\n",
       "      <td>Futrelle, Mrs. Jacques Heath (Lily May Peel)</td>\n",
       "      <td>female</td>\n",
       "      <td>35.0</td>\n",
       "      <td>1</td>\n",
       "      <td>0</td>\n",
       "      <td>113803</td>\n",
       "      <td>53.1000</td>\n",
       "      <td>C123</td>\n",
       "      <td>S</td>\n",
       "    </tr>\n",
       "    <tr>\n",
       "      <th>5</th>\n",
       "      <td>0</td>\n",
       "      <td>3</td>\n",
       "      <td>Allen, Mr. William Henry</td>\n",
       "      <td>male</td>\n",
       "      <td>35.0</td>\n",
       "      <td>0</td>\n",
       "      <td>0</td>\n",
       "      <td>373450</td>\n",
       "      <td>8.0500</td>\n",
       "      <td>NaN</td>\n",
       "      <td>S</td>\n",
       "    </tr>\n",
       "    <tr>\n",
       "      <th>...</th>\n",
       "      <td>...</td>\n",
       "      <td>...</td>\n",
       "      <td>...</td>\n",
       "      <td>...</td>\n",
       "      <td>...</td>\n",
       "      <td>...</td>\n",
       "      <td>...</td>\n",
       "      <td>...</td>\n",
       "      <td>...</td>\n",
       "      <td>...</td>\n",
       "      <td>...</td>\n",
       "    </tr>\n",
       "    <tr>\n",
       "      <th>887</th>\n",
       "      <td>0</td>\n",
       "      <td>2</td>\n",
       "      <td>Montvila, Rev. Juozas</td>\n",
       "      <td>male</td>\n",
       "      <td>27.0</td>\n",
       "      <td>0</td>\n",
       "      <td>0</td>\n",
       "      <td>211536</td>\n",
       "      <td>13.0000</td>\n",
       "      <td>NaN</td>\n",
       "      <td>S</td>\n",
       "    </tr>\n",
       "    <tr>\n",
       "      <th>888</th>\n",
       "      <td>1</td>\n",
       "      <td>1</td>\n",
       "      <td>Graham, Miss. Margaret Edith</td>\n",
       "      <td>female</td>\n",
       "      <td>19.0</td>\n",
       "      <td>0</td>\n",
       "      <td>0</td>\n",
       "      <td>112053</td>\n",
       "      <td>30.0000</td>\n",
       "      <td>B42</td>\n",
       "      <td>S</td>\n",
       "    </tr>\n",
       "    <tr>\n",
       "      <th>889</th>\n",
       "      <td>0</td>\n",
       "      <td>3</td>\n",
       "      <td>Johnston, Miss. Catherine Helen \"Carrie\"</td>\n",
       "      <td>female</td>\n",
       "      <td>NaN</td>\n",
       "      <td>1</td>\n",
       "      <td>2</td>\n",
       "      <td>W./C. 6607</td>\n",
       "      <td>23.4500</td>\n",
       "      <td>NaN</td>\n",
       "      <td>S</td>\n",
       "    </tr>\n",
       "    <tr>\n",
       "      <th>890</th>\n",
       "      <td>1</td>\n",
       "      <td>1</td>\n",
       "      <td>Behr, Mr. Karl Howell</td>\n",
       "      <td>male</td>\n",
       "      <td>26.0</td>\n",
       "      <td>0</td>\n",
       "      <td>0</td>\n",
       "      <td>111369</td>\n",
       "      <td>30.0000</td>\n",
       "      <td>C148</td>\n",
       "      <td>C</td>\n",
       "    </tr>\n",
       "    <tr>\n",
       "      <th>891</th>\n",
       "      <td>0</td>\n",
       "      <td>3</td>\n",
       "      <td>Dooley, Mr. Patrick</td>\n",
       "      <td>male</td>\n",
       "      <td>32.0</td>\n",
       "      <td>0</td>\n",
       "      <td>0</td>\n",
       "      <td>370376</td>\n",
       "      <td>7.7500</td>\n",
       "      <td>NaN</td>\n",
       "      <td>Q</td>\n",
       "    </tr>\n",
       "  </tbody>\n",
       "</table>\n",
       "<p>891 rows × 11 columns</p>\n",
       "</div>"
      ],
      "text/plain": [
       "             Survived  Pclass  \\\n",
       "PassengerId                     \n",
       "1                   0       3   \n",
       "2                   1       1   \n",
       "3                   1       3   \n",
       "4                   1       1   \n",
       "5                   0       3   \n",
       "...               ...     ...   \n",
       "887                 0       2   \n",
       "888                 1       1   \n",
       "889                 0       3   \n",
       "890                 1       1   \n",
       "891                 0       3   \n",
       "\n",
       "                                                          Name     Sex   Age  \\\n",
       "PassengerId                                                                    \n",
       "1                                      Braund, Mr. Owen Harris    male  22.0   \n",
       "2            Cumings, Mrs. John Bradley (Florence Briggs Th...  female  38.0   \n",
       "3                                       Heikkinen, Miss. Laina  female  26.0   \n",
       "4                 Futrelle, Mrs. Jacques Heath (Lily May Peel)  female  35.0   \n",
       "5                                     Allen, Mr. William Henry    male  35.0   \n",
       "...                                                        ...     ...   ...   \n",
       "887                                      Montvila, Rev. Juozas    male  27.0   \n",
       "888                               Graham, Miss. Margaret Edith  female  19.0   \n",
       "889                   Johnston, Miss. Catherine Helen \"Carrie\"  female   NaN   \n",
       "890                                      Behr, Mr. Karl Howell    male  26.0   \n",
       "891                                        Dooley, Mr. Patrick    male  32.0   \n",
       "\n",
       "             SibSp  Parch            Ticket     Fare Cabin Embarked  \n",
       "PassengerId                                                          \n",
       "1                1      0         A/5 21171   7.2500   NaN        S  \n",
       "2                1      0          PC 17599  71.2833   C85        C  \n",
       "3                0      0  STON/O2. 3101282   7.9250   NaN        S  \n",
       "4                1      0            113803  53.1000  C123        S  \n",
       "5                0      0            373450   8.0500   NaN        S  \n",
       "...            ...    ...               ...      ...   ...      ...  \n",
       "887              0      0            211536  13.0000   NaN        S  \n",
       "888              0      0            112053  30.0000   B42        S  \n",
       "889              1      2        W./C. 6607  23.4500   NaN        S  \n",
       "890              0      0            111369  30.0000  C148        C  \n",
       "891              0      0            370376   7.7500   NaN        Q  \n",
       "\n",
       "[891 rows x 11 columns]"
      ]
     },
     "execution_count": 25,
     "metadata": {},
     "output_type": "execute_result"
    }
   ],
   "source": [
    "train"
   ]
  },
  {
   "cell_type": "code",
   "execution_count": 26,
   "id": "dd836440-ae52-47e4-b30e-2cab886bf9d2",
   "metadata": {},
   "outputs": [],
   "source": [
    "# 규칙에 맞게 Pclass와 Sex에 따른 Age 값 반환 하는 함수 함수 만들기\n",
    "def fill_age(row):\n",
    "    # row : 받아오는 행의 데이터 (매개변수)\n",
    "\n",
    "    # 만약 Age 컬럼이 결측치 라면 gb1 테이블의 값을 인덱싱\n",
    "    if np.isnan(row['Age']):\n",
    "        return gb1.loc[(row['Pclass'], row['Sex'])]  #.iloc[0] >>> 오류 해결\n",
    "    # 결측치가 아니라면~ 원래 나이 값을 사용\n",
    "    else:\n",
    "     return row['Age']"
   ]
  },
  {
   "cell_type": "code",
   "execution_count": 27,
   "id": "b95bda69-4c22-4eb8-ad5a-ded092c18486",
   "metadata": {},
   "outputs": [
    {
     "name": "stdout",
     "output_type": "stream",
     "text": [
      "<class 'pandas.core.frame.DataFrame'>\n",
      "Index: 891 entries, 1 to 891\n",
      "Data columns (total 11 columns):\n",
      " #   Column    Non-Null Count  Dtype  \n",
      "---  ------    --------------  -----  \n",
      " 0   Survived  891 non-null    int64  \n",
      " 1   Pclass    891 non-null    int64  \n",
      " 2   Name      891 non-null    object \n",
      " 3   Sex       891 non-null    object \n",
      " 4   Age       891 non-null    int64  \n",
      " 5   SibSp     891 non-null    int64  \n",
      " 6   Parch     891 non-null    int64  \n",
      " 7   Ticket    891 non-null    object \n",
      " 8   Fare      891 non-null    float64\n",
      " 9   Cabin     204 non-null    object \n",
      " 10  Embarked  891 non-null    object \n",
      "dtypes: float64(1), int64(5), object(5)\n",
      "memory usage: 83.5+ KB\n"
     ]
    },
    {
     "name": "stderr",
     "output_type": "stream",
     "text": [
      "C:\\Users\\Public\\Documents\\ESTsoft\\CreatorTemp\\ipykernel_13752\\3938661752.py:4: FutureWarning: Calling int on a single element Series is deprecated and will raise a TypeError in the future. Use int(ser.iloc[0]) instead\n",
      "  train['Age'] = train.apply(fill_age, axis = 1).astype(np.int64)\n"
     ]
    }
   ],
   "source": [
    "# 열방향! >> 정수형으로 변경\n",
    "# #  return gb1.loc[(row['Pclass'], row['Sex'])]  \n",
    "# 시리즈 단위에서 int 형으로 바꾸주는데 나중에는 변환이 불가 하다는 에러 가 나온다\n",
    "train['Age'] = train.apply(fill_age, axis = 1).astype(np.int64)\n",
    "\n",
    "train.info()"
   ]
  },
  {
   "cell_type": "code",
   "execution_count": 28,
   "id": "fb8f1d87-8158-4567-96d4-4ec01b25b010",
   "metadata": {},
   "outputs": [
    {
     "name": "stdout",
     "output_type": "stream",
     "text": [
      "<class 'pandas.core.frame.DataFrame'>\n",
      "Index: 418 entries, 892 to 1309\n",
      "Data columns (total 10 columns):\n",
      " #   Column    Non-Null Count  Dtype  \n",
      "---  ------    --------------  -----  \n",
      " 0   Pclass    418 non-null    int64  \n",
      " 1   Name      418 non-null    object \n",
      " 2   Sex       418 non-null    object \n",
      " 3   Age       418 non-null    int64  \n",
      " 4   SibSp     418 non-null    int64  \n",
      " 5   Parch     418 non-null    int64  \n",
      " 6   Ticket    418 non-null    object \n",
      " 7   Fare      418 non-null    float64\n",
      " 8   Cabin     91 non-null     object \n",
      " 9   Embarked  418 non-null    object \n",
      "dtypes: float64(1), int64(4), object(5)\n",
      "memory usage: 35.9+ KB\n"
     ]
    },
    {
     "name": "stderr",
     "output_type": "stream",
     "text": [
      "C:\\Users\\Public\\Documents\\ESTsoft\\CreatorTemp\\ipykernel_13752\\2238907546.py:1: FutureWarning: Calling int on a single element Series is deprecated and will raise a TypeError in the future. Use int(ser.iloc[0]) instead\n",
      "  test['Age'] = test.apply(fill_age, axis = 1).astype(np.int64)\n"
     ]
    }
   ],
   "source": [
    "test['Age'] = test.apply(fill_age, axis = 1).astype(np.int64)\n",
    "\n",
    "test.info()"
   ]
  },
  {
   "cell_type": "markdown",
   "id": "d6f10bc4-2f3d-4830-96e9-05cfbe3af212",
   "metadata": {},
   "source": [
    "#### 정리\n",
    "- apply, fill_age\n",
    "- 테스트 데이터를 행단위로 쪼갠거를 매개변수로 내줘서 안쪽 로직이 동작\n",
    "- 결과값으로 Age를 채울 수 있는 대표값 반환\n",
    "- 정수형으로 변환 해서 데이터의 'Age' 컬럼에 넣어주는 작업"
   ]
  },
  {
   "cell_type": "markdown",
   "id": "6c9f2fa3-6e44-438c-8192-2be1003a68ce",
   "metadata": {},
   "source": [
    "- train, test Cabin 채우기\n",
    "    - Cabin 컬럼 데이터 확인\n",
    "    - 임의의 값으로 결측치를 채울 예정"
   ]
  },
  {
   "cell_type": "code",
   "execution_count": 29,
   "id": "928c5387-0ea9-4a4c-9e19-53c5a79142e0",
   "metadata": {},
   "outputs": [
    {
     "data": {
      "text/plain": [
       "array([nan, 'C85', 'C123', 'E46', 'G6', 'C103', 'D56', 'A6',\n",
       "       'C23 C25 C27', 'B78', 'D33', 'B30', 'C52', 'B28', 'C83', 'F33',\n",
       "       'F G73', 'E31', 'A5', 'D10 D12', 'D26', 'C110', 'B58 B60', 'E101',\n",
       "       'F E69', 'D47', 'B86', 'F2', 'C2', 'E33', 'B19', 'A7', 'C49', 'F4',\n",
       "       'A32', 'B4', 'B80', 'A31', 'D36', 'D15', 'C93', 'C78', 'D35',\n",
       "       'C87', 'B77', 'E67', 'B94', 'C125', 'C99', 'C118', 'D7', 'A19',\n",
       "       'B49', 'D', 'C22 C26', 'C106', 'C65', 'E36', 'C54',\n",
       "       'B57 B59 B63 B66', 'C7', 'E34', 'C32', 'B18', 'C124', 'C91', 'E40',\n",
       "       'T', 'C128', 'D37', 'B35', 'E50', 'C82', 'B96 B98', 'E10', 'E44',\n",
       "       'A34', 'C104', 'C111', 'C92', 'E38', 'D21', 'E12', 'E63', 'A14',\n",
       "       'B37', 'C30', 'D20', 'B79', 'E25', 'D46', 'B73', 'C95', 'B38',\n",
       "       'B39', 'B22', 'C86', 'C70', 'A16', 'C101', 'C68', 'A10', 'E68',\n",
       "       'B41', 'A20', 'D19', 'D50', 'D9', 'A23', 'B50', 'A26', 'D48',\n",
       "       'E58', 'C126', 'B71', 'B51 B53 B55', 'D49', 'B5', 'B20', 'F G63',\n",
       "       'C62 C64', 'E24', 'C90', 'C45', 'E8', 'B101', 'D45', 'C46', 'D30',\n",
       "       'E121', 'D11', 'E77', 'F38', 'B3', 'D6', 'B82 B84', 'D17', 'A36',\n",
       "       'B102', 'B69', 'E49', 'C47', 'D28', 'E17', 'A24', 'C50', 'B42',\n",
       "       'C148'], dtype=object)"
      ]
     },
     "execution_count": 29,
     "metadata": {},
     "output_type": "execute_result"
    }
   ],
   "source": [
    "# train 기준으로 데이터 확인\n",
    "train['Cabin'].unique()"
   ]
  },
  {
   "cell_type": "code",
   "execution_count": 30,
   "id": "c3c148e5-a694-4d40-bc77-458612eb1258",
   "metadata": {},
   "outputs": [
    {
     "name": "stdout",
     "output_type": "stream",
     "text": [
      "<class 'pandas.core.series.Series'>\n",
      "Index: 891 entries, 1 to 891\n",
      "Series name: Cabin\n",
      "Non-Null Count  Dtype \n",
      "--------------  ----- \n",
      "204 non-null    object\n",
      "dtypes: object(1)\n",
      "memory usage: 13.9+ KB\n"
     ]
    }
   ],
   "source": [
    "train['Cabin'].info()\n",
    "\n",
    "# 타이나닉 호는 A B C... 층으로 표기를 한다 , 알파벳만 뽑아서 사용"
   ]
  },
  {
   "cell_type": "code",
   "execution_count": 31,
   "id": "f6628d56-bb46-4c8a-aede-0518d66d225e",
   "metadata": {},
   "outputs": [],
   "source": [
    "# 우선 임의 값으로 train, test의 Cavin 결측치를 채워보자\n",
    "# 'M'\n",
    "\n",
    "train['Cabin'] = train['Cabin'].fillna('M')\n",
    "test['Cabin'] = test['Cabin'].fillna('M')"
   ]
  },
  {
   "cell_type": "code",
   "execution_count": 32,
   "id": "f1d5dc1d-6443-4572-9230-de6262c46217",
   "metadata": {},
   "outputs": [
    {
     "name": "stdout",
     "output_type": "stream",
     "text": [
      "<class 'pandas.core.series.Series'>\n",
      "Index: 891 entries, 1 to 891\n",
      "Series name: Cabin\n",
      "Non-Null Count  Dtype \n",
      "--------------  ----- \n",
      "891 non-null    object\n",
      "dtypes: object(1)\n",
      "memory usage: 13.9+ KB\n"
     ]
    }
   ],
   "source": [
    "train['Cabin'].info()"
   ]
  },
  {
   "cell_type": "code",
   "execution_count": 33,
   "id": "f0e1aeed-3dba-4773-9384-2d5333712be9",
   "metadata": {},
   "outputs": [],
   "source": [
    "# 첫글자 알파벳 1개만 추철하기\n",
    "# 맨 앞글자 추출 하기\n",
    "train['Deck'] = train['Cabin'].str[0]\n",
    "test['Deck'] = test['Cabin'].str[0]"
   ]
  },
  {
   "cell_type": "code",
   "execution_count": 34,
   "id": "79c64d92-8f21-4682-9032-aafaa900fa77",
   "metadata": {},
   "outputs": [
    {
     "data": {
      "text/plain": [
       "(Index(['Survived', 'Pclass', 'Name', 'Sex', 'Age', 'SibSp', 'Parch', 'Ticket',\n",
       "        'Fare', 'Cabin', 'Embarked', 'Deck'],\n",
       "       dtype='object'),\n",
       " Index(['Pclass', 'Name', 'Sex', 'Age', 'SibSp', 'Parch', 'Ticket', 'Fare',\n",
       "        'Cabin', 'Embarked', 'Deck'],\n",
       "       dtype='object'))"
      ]
     },
     "execution_count": 34,
     "metadata": {},
     "output_type": "execute_result"
    }
   ],
   "source": [
    "train.columns, test.columns"
   ]
  },
  {
   "cell_type": "code",
   "execution_count": 35,
   "id": "5d3c79b3-df92-4dc0-b5ca-a2bf6129838f",
   "metadata": {},
   "outputs": [],
   "source": [
    "# Cabin 컬럼 삭제\n",
    "# .drop([컬럼명1, 컬럼명2],  axis = , inplace = )\n",
    "# axis = 0 행 삭제\n",
    "# axis = 1 열 삭제\n",
    "train.drop('Cabin', axis = 1, inplace = True)\n",
    "test.drop('Cabin', axis = 1, inplace = True)"
   ]
  },
  {
   "cell_type": "code",
   "execution_count": 36,
   "id": "2d05970d-1fb0-4cae-a836-43019cfc95fd",
   "metadata": {},
   "outputs": [
    {
     "name": "stdout",
     "output_type": "stream",
     "text": [
      "<class 'pandas.core.frame.DataFrame'>\n",
      "Index: 891 entries, 1 to 891\n",
      "Data columns (total 11 columns):\n",
      " #   Column    Non-Null Count  Dtype  \n",
      "---  ------    --------------  -----  \n",
      " 0   Survived  891 non-null    int64  \n",
      " 1   Pclass    891 non-null    int64  \n",
      " 2   Name      891 non-null    object \n",
      " 3   Sex       891 non-null    object \n",
      " 4   Age       891 non-null    int64  \n",
      " 5   SibSp     891 non-null    int64  \n",
      " 6   Parch     891 non-null    int64  \n",
      " 7   Ticket    891 non-null    object \n",
      " 8   Fare      891 non-null    float64\n",
      " 9   Embarked  891 non-null    object \n",
      " 10  Deck      891 non-null    object \n",
      "dtypes: float64(1), int64(5), object(5)\n",
      "memory usage: 83.5+ KB\n",
      "<class 'pandas.core.frame.DataFrame'>\n",
      "Index: 418 entries, 892 to 1309\n",
      "Data columns (total 10 columns):\n",
      " #   Column    Non-Null Count  Dtype  \n",
      "---  ------    --------------  -----  \n",
      " 0   Pclass    418 non-null    int64  \n",
      " 1   Name      418 non-null    object \n",
      " 2   Sex       418 non-null    object \n",
      " 3   Age       418 non-null    int64  \n",
      " 4   SibSp     418 non-null    int64  \n",
      " 5   Parch     418 non-null    int64  \n",
      " 6   Ticket    418 non-null    object \n",
      " 7   Fare      418 non-null    float64\n",
      " 8   Embarked  418 non-null    object \n",
      " 9   Deck      418 non-null    object \n",
      "dtypes: float64(1), int64(4), object(5)\n",
      "memory usage: 35.9+ KB\n"
     ]
    }
   ],
   "source": [
    "train.info()\n",
    "test.info()"
   ]
  },
  {
   "cell_type": "code",
   "execution_count": null,
   "id": "9e592cca-24b8-48d0-a1dd-aefbb0352f3d",
   "metadata": {},
   "outputs": [],
   "source": []
  },
  {
   "cell_type": "markdown",
   "id": "b6053e16-4a51-452d-8972-2c1bbce02ea5",
   "metadata": {},
   "source": [
    "- Deck 시각화"
   ]
  },
  {
   "cell_type": "code",
   "execution_count": 37,
   "id": "f82da23d-9515-4e66-94d7-665a04c01bb0",
   "metadata": {},
   "outputs": [
    {
     "data": {
      "image/png": "[encoded data removed]",
      "text/plain": [
       "<Figure size 640x480 with 1 Axes>"
      ]
     },
     "metadata": {},
     "output_type": "display_data"
    }
   ],
   "source": [
    "# sns 시각화 도구를 사용해서 범주형 데이터 Deck을 시각화\n",
    "\n",
    "# countplot  은 개수를 시각화 \n",
    "# x : x 축\n",
    "# hue : 분할 기준나타내고자 하는것\n",
    "sns.countplot(data = train, x = 'Deck', hue = 'Survived')\n",
    "\n",
    "plt.show()"
   ]
  },
  {
   "cell_type": "code",
   "execution_count": 38,
   "id": "b6273184-2fd4-4439-9fa7-b22ec40f44dd",
   "metadata": {},
   "outputs": [],
   "source": [
    "# M (결측치 데이터 > 임의로 넣은 데이터) 층에서는 상대적으로 사망율이 높다\n",
    "# 다른 컬럼을 참고 해보자"
   ]
  },
  {
   "cell_type": "code",
   "execution_count": 39,
   "id": "9e6f717c-cfc1-44e3-9e06-8af1ebbe26e9",
   "metadata": {},
   "outputs": [
    {
     "data": {
      "image/png": "[encoded data removed]",
      "text/plain": [
       "<Figure size 640x480 with 1 Axes>"
      ]
     },
     "metadata": {},
     "output_type": "display_data"
    }
   ],
   "source": [
    "# Pclass가 사망에 얼마나 영향을 미쳤는지 시각화\n",
    "sns.countplot(data = train, x = 'Pclass', hue = 'Survived')\n",
    "plt.show()"
   ]
  },
  {
   "cell_type": "markdown",
   "id": "25ecb8c6-7024-479b-a732-7b00254aa2af",
   "metadata": {},
   "source": [
    "- Deck과 Pclass 시각화\n",
    "- x 축 : Deck, hue : Pclass"
   ]
  },
  {
   "cell_type": "code",
   "execution_count": 40,
   "id": "0ac6a053-dfdc-4ccc-b536-eeeef7091f63",
   "metadata": {},
   "outputs": [
    {
     "data": {
      "text/plain": [
       "<function matplotlib.pyplot.show(close=None, block=None)>"
      ]
     },
     "execution_count": 40,
     "metadata": {},
     "output_type": "execute_result"
    },
    {
     "data": {
      "image/png": "[encoded data removed]",
      "text/plain": [
       "<Figure size 640x480 with 1 Axes>"
      ]
     },
     "metadata": {},
     "output_type": "display_data"
    }
   ],
   "source": [
    "sns.countplot(data = train, x = 'Deck', hue = 'Pclass')\n",
    "plt.legend()\n",
    "plt.show"
   ]
  },
  {
   "cell_type": "code",
   "execution_count": 41,
   "id": "6a484e57-2fa3-4cbe-8e8e-4e329c43457c",
   "metadata": {},
   "outputs": [],
   "source": [
    "# M 층은 Pclass (객실 등급) 3등석인 경우 대부분임\n",
    "# 그래서 상대적으로 사망률이 높았다\n",
    "# M 층인 경우 Pclass 가 3이다\n",
    "# M 이라는 데이터는 더이상 신경 쓰지 않음 3등석이기 때문에 사망률이 높았음"
   ]
  },
  {
   "cell_type": "code",
   "execution_count": null,
   "id": "c145453b-a6ce-485b-a830-ff04bf11c692",
   "metadata": {},
   "outputs": [],
   "source": []
  },
  {
   "cell_type": "markdown",
   "id": "2c814e78-9251-484d-a0d2-a7c07b1f361a",
   "metadata": {},
   "source": [
    "- 성별에 따른 생존 / 사망 시각화"
   ]
  },
  {
   "cell_type": "code",
   "execution_count": 42,
   "id": "ca6d0be7-adb5-42e6-9538-b972899a59ee",
   "metadata": {},
   "outputs": [
    {
     "data": {
      "text/plain": [
       "<function matplotlib.pyplot.show(close=None, block=None)>"
      ]
     },
     "execution_count": 42,
     "metadata": {},
     "output_type": "execute_result"
    },
    {
     "data": {
      "image/png": "[encoded data removed]",
      "text/plain": [
       "<Figure size 640x480 with 1 Axes>"
      ]
     },
     "metadata": {},
     "output_type": "display_data"
    }
   ],
   "source": [
    "sns.countplot(data = train, x = 'Sex', hue = 'Survived')\n",
    "plt.legend()\n",
    "plt.show"
   ]
  },
  {
   "cell_type": "code",
   "execution_count": 43,
   "id": "9406f6c0-4433-4bf0-b59f-7979acb385e2",
   "metadata": {},
   "outputs": [
    {
     "data": {
      "text/plain": [
       "<function matplotlib.pyplot.show(close=None, block=None)>"
      ]
     },
     "execution_count": 43,
     "metadata": {},
     "output_type": "execute_result"
    },
    {
     "data": {
      "image/png": "[encoded data removed]",
      "text/plain": [
       "<Figure size 640x480 with 1 Axes>"
      ]
     },
     "metadata": {},
     "output_type": "display_data"
    }
   ],
   "source": [
    "# 승선항\n",
    "sns.countplot(data = train, x = 'Embarked', hue = 'Survived')\n",
    "plt.show"
   ]
  },
  {
   "cell_type": "code",
   "execution_count": 44,
   "id": "9cb01121-9517-4b89-92a7-9194c4ebcc61",
   "metadata": {},
   "outputs": [
    {
     "data": {
      "text/plain": [
       "<function matplotlib.pyplot.show(close=None, block=None)>"
      ]
     },
     "execution_count": 44,
     "metadata": {},
     "output_type": "execute_result"
    },
    {
     "data": {
      "image/png": "[encoded data removed]",
      "text/plain": [
       "<Figure size 640x480 with 1 Axes>"
      ]
     },
     "metadata": {},
     "output_type": "display_data"
    }
   ],
   "source": [
    "# S승선항에서 Pclass 가 3인 많이 탄건 아닐까...?\n",
    "sns.countplot(data = train, x = 'Embarked', hue = 'Pclass')\n",
    "plt.show"
   ]
  },
  {
   "cell_type": "code",
   "execution_count": 45,
   "id": "a0d5ec34-317a-40c4-ac6a-429ea4811dc1",
   "metadata": {},
   "outputs": [
    {
     "data": {
      "text/plain": [
       "<function matplotlib.pyplot.show(close=None, block=None)>"
      ]
     },
     "execution_count": 45,
     "metadata": {},
     "output_type": "execute_result"
    },
    {
     "data": {
      "image/png": "[encoded data removed]",
      "text/plain": [
       "<Figure size 1500x500 with 1 Axes>"
      ]
     },
     "metadata": {},
     "output_type": "display_data"
    }
   ],
   "source": [
    "# 나이별\n",
    "plt.figure(figsize = (15,5))\n",
    "sns.countplot(data = train, x = 'Age', hue = 'Survived')\n",
    "plt.show"
   ]
  },
  {
   "cell_type": "code",
   "execution_count": 46,
   "id": "700b9ab7-e2a8-42d7-b184-5edbcf0f7faa",
   "metadata": {},
   "outputs": [
    {
     "data": {
      "image/png": "[encoded data removed]",
      "text/plain": [
       "<Figure size 640x480 with 1 Axes>"
      ]
     },
     "metadata": {},
     "output_type": "display_data"
    }
   ],
   "source": [
    "# 나이 데이터 시각화 했더니 해석하기 어려움\n",
    "# violinplot 을 활용: 수치형 데이터의 분표를 확인 할때 사용하는 그래프\n",
    "# 바이올린 형태로 데이터의 분포와 밀도를 곡선으로 표현한 그래프\n",
    "# 데이터가 많이 존재하는 부분은 두껍게\n",
    "# 데이터가 적게 존재하는 부분은 얇게\n",
    "\n",
    "# 성별과 나이에 따른 생존 . 사망자 수\n",
    "sns.violinplot(\n",
    "    data = train,\n",
    "    x = 'Sex',\n",
    "    y = 'Age',\n",
    "    hue = 'Survived',\n",
    "    split = True, # 데이터를 양쪽에 나눠서 표현\n",
    "    inner = 'stick' # 바이올린 내부에 개별 데이터선 유무\n",
    ")\n",
    "plt.ylim(0,100)\n",
    "plt.show()"
   ]
  },
  {
   "cell_type": "code",
   "execution_count": 47,
   "id": "4188ac17-a3c9-4673-b4d4-208a3727cc5f",
   "metadata": {},
   "outputs": [
    {
     "data": {
      "image/png": "[encoded data removed]",
      "text/plain": [
       "<Figure size 640x480 with 1 Axes>"
      ]
     },
     "metadata": {},
     "output_type": "display_data"
    }
   ],
   "source": [
    "# 성별(Sex)와 요금(Fare)에 따른 생존자(Survived) 시각화\n",
    "\n",
    "sns.violinplot(\n",
    "    data = train,\n",
    "    x = 'Sex',\n",
    "    y = 'Fare',\n",
    "    hue = 'Survived',\n",
    "    split = True,\n",
    "    inner = 'stick' \n",
    ")\n",
    "plt.ylim(0,200)\n",
    "plt.show()"
   ]
  },
  {
   "cell_type": "code",
   "execution_count": 48,
   "id": "c0348aee-80cb-4899-bf31-98650c5e0470",
   "metadata": {},
   "outputs": [],
   "source": [
    "# 성별 불문, 요금이 저렴한 사람들의 사망률이 높았다"
   ]
  },
  {
   "cell_type": "code",
   "execution_count": null,
   "id": "c9ca8af8-cf93-4395-be98-97ddcfba7aa6",
   "metadata": {},
   "outputs": [],
   "source": []
  },
  {
   "cell_type": "markdown",
   "id": "e2f3564a-2ac4-489f-a6ad-004fbcb47fce",
   "metadata": {},
   "source": [
    "- 특성 공학 : 새로운 컬럼 생성 (transform)\n",
    "    - Parch, SibSp를 더해서 가족의 숫자라는 새로운 컬럼 생성\n",
    "    - train, test 동일하게 적용"
   ]
  },
  {
   "cell_type": "code",
   "execution_count": 49,
   "id": "ea44739d-c358-488e-9e3a-57bdfa179e2f",
   "metadata": {},
   "outputs": [],
   "source": [
    "# train\n",
    "train['Family_Size'] = train['Parch'] + train['SibSp'] + 1"
   ]
  },
  {
   "cell_type": "code",
   "execution_count": 50,
   "id": "c067c636-a2a9-415d-9714-b0e96d34077a",
   "metadata": {},
   "outputs": [],
   "source": [
    "# test\n",
    "test['Family_Size'] = test['Parch'] + test['SibSp'] + 1"
   ]
  },
  {
   "cell_type": "code",
   "execution_count": 51,
   "id": "0b48e308-0795-490d-8dd0-bbe08b26528e",
   "metadata": {},
   "outputs": [
    {
     "data": {
      "text/plain": [
       "<function matplotlib.pyplot.show(close=None, block=None)>"
      ]
     },
     "execution_count": 51,
     "metadata": {},
     "output_type": "execute_result"
    },
    {
     "data": {
      "image/png": "[encoded data removed]",
      "text/plain": [
       "<Figure size 640x480 with 1 Axes>"
      ]
     },
     "metadata": {},
     "output_type": "display_data"
    }
   ],
   "source": [
    "# 시각화 \n",
    "sns.countplot(data = train, x = 'Family_Size', hue = 'Survived')\n",
    "plt.show"
   ]
  },
  {
   "cell_type": "code",
   "execution_count": 52,
   "id": "d0882ac3-252e-429c-bebb-72df67b33d7c",
   "metadata": {},
   "outputs": [],
   "source": [
    "# 1명일 경우, 사망률이 높다 - alone\n",
    "# 2명 ~ 4명일 경우 생존율이 높음 - small\n",
    "# 5명 이상 일 경우, 사망율이 높음 - large\n",
    "# 인코딩의 반대작업 binng"
   ]
  },
  {
   "cell_type": "markdown",
   "id": "7da30f07-4fad-4966-86b8-2982e24c02bc",
   "metadata": {},
   "source": [
    "- 가족의 사이즈가 1 이면 Alone, 2~4명이면 Small, 5명 이상이면 Large로 바꿔줌\n",
    "- train test 둘다 변경"
   ]
  },
  {
   "cell_type": "code",
   "execution_count": 53,
   "id": "20db7b19-ce25-4851-8227-a0f67d0b783f",
   "metadata": {},
   "outputs": [],
   "source": [
    "bins = [0,1,4,11]\n",
    "# (0,1] >> 0초과 1이하\n",
    "labels = ['Alone','Small','Large']\n",
    "# 연속적인 수치형 데이터를 일정 범위로 나누어줌 > 범주형\n",
    "train['Family_group'] = pd.cut(train['Family_Size'], bins = [0,1,4,11], labels = labels)"
   ]
  },
  {
   "cell_type": "code",
   "execution_count": 54,
   "id": "b070445f-533a-4247-b94c-75e8267de32c",
   "metadata": {},
   "outputs": [],
   "source": [
    "test['Family_group'] = pd.cut(test['Family_Size'], bins = [0,1,4,11], labels = labels)"
   ]
  },
  {
   "cell_type": "code",
   "execution_count": 55,
   "id": "c8d0905d-47ee-4d69-8959-ab4ce2c7ed1b",
   "metadata": {},
   "outputs": [
    {
     "data": {
      "text/plain": [
       "<function matplotlib.pyplot.show(close=None, block=None)>"
      ]
     },
     "execution_count": 55,
     "metadata": {},
     "output_type": "execute_result"
    },
    {
     "data": {
      "image/png": "[encoded data removed]",
      "text/plain": [
       "<Figure size 640x480 with 1 Axes>"
      ]
     },
     "metadata": {},
     "output_type": "display_data"
    }
   ],
   "source": [
    "# Family_group 시각화\n",
    "sns.countplot(data = train, x = 'Family_group', hue = 'Survived')\n",
    "plt.show"
   ]
  },
  {
   "cell_type": "markdown",
   "id": "8494e846-a1dc-4664-ab1c-6d08a9e30a55",
   "metadata": {},
   "source": [
    "- 불필요한 컬럼 삭제\n",
    "    - drop\n",
    "    - 전처리 대상에서 제외된 컬럼과 특성공학 후 불 필요 해진 컬럼"
   ]
  },
  {
   "cell_type": "code",
   "execution_count": 56,
   "id": "1b2a6dc5-e3e0-4453-bb6a-c0bb975d110a",
   "metadata": {},
   "outputs": [
    {
     "name": "stdout",
     "output_type": "stream",
     "text": [
      "<class 'pandas.core.frame.DataFrame'>\n",
      "Index: 891 entries, 1 to 891\n",
      "Data columns (total 13 columns):\n",
      " #   Column        Non-Null Count  Dtype   \n",
      "---  ------        --------------  -----   \n",
      " 0   Survived      891 non-null    int64   \n",
      " 1   Pclass        891 non-null    int64   \n",
      " 2   Name          891 non-null    object  \n",
      " 3   Sex           891 non-null    object  \n",
      " 4   Age           891 non-null    int64   \n",
      " 5   SibSp         891 non-null    int64   \n",
      " 6   Parch         891 non-null    int64   \n",
      " 7   Ticket        891 non-null    object  \n",
      " 8   Fare          891 non-null    float64 \n",
      " 9   Embarked      891 non-null    object  \n",
      " 10  Deck          891 non-null    object  \n",
      " 11  Family_Size   891 non-null    int64   \n",
      " 12  Family_group  891 non-null    category\n",
      "dtypes: category(1), float64(1), int64(6), object(5)\n",
      "memory usage: 91.5+ KB\n"
     ]
    }
   ],
   "source": [
    "train.info()\n",
    "# 삭제 대상\n",
    "# 전처리 후 필요 없어진 컬럼\n",
    "# 전처리 하지 않은 컬럼중 불필요한 컬럼"
   ]
  },
  {
   "cell_type": "code",
   "execution_count": 57,
   "id": "f8a0ba55-e13a-4c6e-bb7e-3e05e500daa2",
   "metadata": {},
   "outputs": [],
   "source": [
    "# 이름, 티켓 삭제\n",
    "train.drop(['Name','Ticket', 'SibSp','Parch', 'Family_Size'], axis = 1, inplace = True)\n",
    "test.drop(['Name','Ticket', 'SibSp','Parch', 'Family_Size'], axis = 1, inplace = True)"
   ]
  },
  {
   "cell_type": "code",
   "execution_count": 58,
   "id": "160f4a80-f456-4211-b762-b0b0e14ca2b9",
   "metadata": {},
   "outputs": [
    {
     "data": {
      "text/plain": [
       "((891, 8), (418, 7))"
      ]
     },
     "execution_count": 58,
     "metadata": {},
     "output_type": "execute_result"
    }
   ],
   "source": [
    "train.shape, test.shape"
   ]
  },
  {
   "cell_type": "markdown",
   "id": "7a033919-5f02-41d3-b8d1-c9f311955538",
   "metadata": {},
   "source": [
    "- train에는 정답 데이터와 문제 데이터가 하나의 프레임으로 들어가 있는 상태 (X_train, y_train)\n",
    "- test는 정답을 제공하지 않음 (X_test)"
   ]
  },
  {
   "cell_type": "code",
   "execution_count": 59,
   "id": "78e16cfd-0426-4141-946b-8e9aed97acc6",
   "metadata": {},
   "outputs": [
    {
     "name": "stdout",
     "output_type": "stream",
     "text": [
      "(891, 7) (891,)\n",
      "(418, 7)\n"
     ]
    }
   ],
   "source": [
    "X_train = train.drop('Survived', axis = 1)\n",
    "y_train = train['Survived']\n",
    "\n",
    "X_test = test\n",
    "\n",
    "print(X_train.shape, y_train.shape)\n",
    "print(X_test.shape)"
   ]
  },
  {
   "cell_type": "markdown",
   "id": "5ae7999a-47b3-4381-b3e5-3190caeba448",
   "metadata": {},
   "source": [
    "- 범주형 데이터는 학습용으로 사용할 수 없으니, 수치형 변환\n",
    "- Encoding\n",
    "- 구분 용도를 위해 one-hot Encoding"
   ]
  },
  {
   "cell_type": "code",
   "execution_count": 60,
   "id": "58a7153f-3201-4dfc-a335-5fcc0c0612d1",
   "metadata": {},
   "outputs": [],
   "source": [
    "X_train_one_hot = pd.get_dummies(X_train)\n",
    "X_test_one_hot = pd.get_dummies(X_test)"
   ]
  },
  {
   "cell_type": "code",
   "execution_count": 61,
   "id": "765a15e9-f2af-412c-b3b5-ab23a6f222a9",
   "metadata": {},
   "outputs": [
    {
     "data": {
      "text/html": [
       "<div>\n",
       "<style scoped>\n",
       "    .dataframe tbody tr th:only-of-type {\n",
       "        vertical-align: middle;\n",
       "    }\n",
       "\n",
       "    .dataframe tbody tr th {\n",
       "        vertical-align: top;\n",
       "    }\n",
       "\n",
       "    .dataframe thead th {\n",
       "        text-align: right;\n",
       "    }\n",
       "</style>\n",
       "<table border=\"1\" class=\"dataframe\">\n",
       "  <thead>\n",
       "    <tr style=\"text-align: right;\">\n",
       "      <th></th>\n",
       "      <th>Pclass</th>\n",
       "      <th>Age</th>\n",
       "      <th>Fare</th>\n",
       "      <th>Sex_female</th>\n",
       "      <th>Sex_male</th>\n",
       "      <th>Embarked_C</th>\n",
       "      <th>Embarked_Q</th>\n",
       "      <th>Embarked_S</th>\n",
       "      <th>Deck_A</th>\n",
       "      <th>Deck_B</th>\n",
       "      <th>Deck_C</th>\n",
       "      <th>Deck_D</th>\n",
       "      <th>Deck_E</th>\n",
       "      <th>Deck_F</th>\n",
       "      <th>Deck_G</th>\n",
       "      <th>Deck_M</th>\n",
       "      <th>Deck_T</th>\n",
       "      <th>Family_group_Alone</th>\n",
       "      <th>Family_group_Small</th>\n",
       "      <th>Family_group_Large</th>\n",
       "    </tr>\n",
       "    <tr>\n",
       "      <th>PassengerId</th>\n",
       "      <th></th>\n",
       "      <th></th>\n",
       "      <th></th>\n",
       "      <th></th>\n",
       "      <th></th>\n",
       "      <th></th>\n",
       "      <th></th>\n",
       "      <th></th>\n",
       "      <th></th>\n",
       "      <th></th>\n",
       "      <th></th>\n",
       "      <th></th>\n",
       "      <th></th>\n",
       "      <th></th>\n",
       "      <th></th>\n",
       "      <th></th>\n",
       "      <th></th>\n",
       "      <th></th>\n",
       "      <th></th>\n",
       "      <th></th>\n",
       "    </tr>\n",
       "  </thead>\n",
       "  <tbody>\n",
       "    <tr>\n",
       "      <th>1</th>\n",
       "      <td>3</td>\n",
       "      <td>22</td>\n",
       "      <td>7.2500</td>\n",
       "      <td>False</td>\n",
       "      <td>True</td>\n",
       "      <td>False</td>\n",
       "      <td>False</td>\n",
       "      <td>True</td>\n",
       "      <td>False</td>\n",
       "      <td>False</td>\n",
       "      <td>False</td>\n",
       "      <td>False</td>\n",
       "      <td>False</td>\n",
       "      <td>False</td>\n",
       "      <td>False</td>\n",
       "      <td>True</td>\n",
       "      <td>False</td>\n",
       "      <td>False</td>\n",
       "      <td>True</td>\n",
       "      <td>False</td>\n",
       "    </tr>\n",
       "    <tr>\n",
       "      <th>2</th>\n",
       "      <td>1</td>\n",
       "      <td>38</td>\n",
       "      <td>71.2833</td>\n",
       "      <td>True</td>\n",
       "      <td>False</td>\n",
       "      <td>True</td>\n",
       "      <td>False</td>\n",
       "      <td>False</td>\n",
       "      <td>False</td>\n",
       "      <td>False</td>\n",
       "      <td>True</td>\n",
       "      <td>False</td>\n",
       "      <td>False</td>\n",
       "      <td>False</td>\n",
       "      <td>False</td>\n",
       "      <td>False</td>\n",
       "      <td>False</td>\n",
       "      <td>False</td>\n",
       "      <td>True</td>\n",
       "      <td>False</td>\n",
       "    </tr>\n",
       "    <tr>\n",
       "      <th>3</th>\n",
       "      <td>3</td>\n",
       "      <td>26</td>\n",
       "      <td>7.9250</td>\n",
       "      <td>True</td>\n",
       "      <td>False</td>\n",
       "      <td>False</td>\n",
       "      <td>False</td>\n",
       "      <td>True</td>\n",
       "      <td>False</td>\n",
       "      <td>False</td>\n",
       "      <td>False</td>\n",
       "      <td>False</td>\n",
       "      <td>False</td>\n",
       "      <td>False</td>\n",
       "      <td>False</td>\n",
       "      <td>True</td>\n",
       "      <td>False</td>\n",
       "      <td>True</td>\n",
       "      <td>False</td>\n",
       "      <td>False</td>\n",
       "    </tr>\n",
       "    <tr>\n",
       "      <th>4</th>\n",
       "      <td>1</td>\n",
       "      <td>35</td>\n",
       "      <td>53.1000</td>\n",
       "      <td>True</td>\n",
       "      <td>False</td>\n",
       "      <td>False</td>\n",
       "      <td>False</td>\n",
       "      <td>True</td>\n",
       "      <td>False</td>\n",
       "      <td>False</td>\n",
       "      <td>True</td>\n",
       "      <td>False</td>\n",
       "      <td>False</td>\n",
       "      <td>False</td>\n",
       "      <td>False</td>\n",
       "      <td>False</td>\n",
       "      <td>False</td>\n",
       "      <td>False</td>\n",
       "      <td>True</td>\n",
       "      <td>False</td>\n",
       "    </tr>\n",
       "    <tr>\n",
       "      <th>5</th>\n",
       "      <td>3</td>\n",
       "      <td>35</td>\n",
       "      <td>8.0500</td>\n",
       "      <td>False</td>\n",
       "      <td>True</td>\n",
       "      <td>False</td>\n",
       "      <td>False</td>\n",
       "      <td>True</td>\n",
       "      <td>False</td>\n",
       "      <td>False</td>\n",
       "      <td>False</td>\n",
       "      <td>False</td>\n",
       "      <td>False</td>\n",
       "      <td>False</td>\n",
       "      <td>False</td>\n",
       "      <td>True</td>\n",
       "      <td>False</td>\n",
       "      <td>True</td>\n",
       "      <td>False</td>\n",
       "      <td>False</td>\n",
       "    </tr>\n",
       "    <tr>\n",
       "      <th>...</th>\n",
       "      <td>...</td>\n",
       "      <td>...</td>\n",
       "      <td>...</td>\n",
       "      <td>...</td>\n",
       "      <td>...</td>\n",
       "      <td>...</td>\n",
       "      <td>...</td>\n",
       "      <td>...</td>\n",
       "      <td>...</td>\n",
       "      <td>...</td>\n",
       "      <td>...</td>\n",
       "      <td>...</td>\n",
       "      <td>...</td>\n",
       "      <td>...</td>\n",
       "      <td>...</td>\n",
       "      <td>...</td>\n",
       "      <td>...</td>\n",
       "      <td>...</td>\n",
       "      <td>...</td>\n",
       "      <td>...</td>\n",
       "    </tr>\n",
       "    <tr>\n",
       "      <th>887</th>\n",
       "      <td>2</td>\n",
       "      <td>27</td>\n",
       "      <td>13.0000</td>\n",
       "      <td>False</td>\n",
       "      <td>True</td>\n",
       "      <td>False</td>\n",
       "      <td>False</td>\n",
       "      <td>True</td>\n",
       "      <td>False</td>\n",
       "      <td>False</td>\n",
       "      <td>False</td>\n",
       "      <td>False</td>\n",
       "      <td>False</td>\n",
       "      <td>False</td>\n",
       "      <td>False</td>\n",
       "      <td>True</td>\n",
       "      <td>False</td>\n",
       "      <td>True</td>\n",
       "      <td>False</td>\n",
       "      <td>False</td>\n",
       "    </tr>\n",
       "    <tr>\n",
       "      <th>888</th>\n",
       "      <td>1</td>\n",
       "      <td>19</td>\n",
       "      <td>30.0000</td>\n",
       "      <td>True</td>\n",
       "      <td>False</td>\n",
       "      <td>False</td>\n",
       "      <td>False</td>\n",
       "      <td>True</td>\n",
       "      <td>False</td>\n",
       "      <td>True</td>\n",
       "      <td>False</td>\n",
       "      <td>False</td>\n",
       "      <td>False</td>\n",
       "      <td>False</td>\n",
       "      <td>False</td>\n",
       "      <td>False</td>\n",
       "      <td>False</td>\n",
       "      <td>True</td>\n",
       "      <td>False</td>\n",
       "      <td>False</td>\n",
       "    </tr>\n",
       "    <tr>\n",
       "      <th>889</th>\n",
       "      <td>3</td>\n",
       "      <td>21</td>\n",
       "      <td>23.4500</td>\n",
       "      <td>True</td>\n",
       "      <td>False</td>\n",
       "      <td>False</td>\n",
       "      <td>False</td>\n",
       "      <td>True</td>\n",
       "      <td>False</td>\n",
       "      <td>False</td>\n",
       "      <td>False</td>\n",
       "      <td>False</td>\n",
       "      <td>False</td>\n",
       "      <td>False</td>\n",
       "      <td>False</td>\n",
       "      <td>True</td>\n",
       "      <td>False</td>\n",
       "      <td>False</td>\n",
       "      <td>True</td>\n",
       "      <td>False</td>\n",
       "    </tr>\n",
       "    <tr>\n",
       "      <th>890</th>\n",
       "      <td>1</td>\n",
       "      <td>26</td>\n",
       "      <td>30.0000</td>\n",
       "      <td>False</td>\n",
       "      <td>True</td>\n",
       "      <td>True</td>\n",
       "      <td>False</td>\n",
       "      <td>False</td>\n",
       "      <td>False</td>\n",
       "      <td>False</td>\n",
       "      <td>True</td>\n",
       "      <td>False</td>\n",
       "      <td>False</td>\n",
       "      <td>False</td>\n",
       "      <td>False</td>\n",
       "      <td>False</td>\n",
       "      <td>False</td>\n",
       "      <td>True</td>\n",
       "      <td>False</td>\n",
       "      <td>False</td>\n",
       "    </tr>\n",
       "    <tr>\n",
       "      <th>891</th>\n",
       "      <td>3</td>\n",
       "      <td>32</td>\n",
       "      <td>7.7500</td>\n",
       "      <td>False</td>\n",
       "      <td>True</td>\n",
       "      <td>False</td>\n",
       "      <td>True</td>\n",
       "      <td>False</td>\n",
       "      <td>False</td>\n",
       "      <td>False</td>\n",
       "      <td>False</td>\n",
       "      <td>False</td>\n",
       "      <td>False</td>\n",
       "      <td>False</td>\n",
       "      <td>False</td>\n",
       "      <td>True</td>\n",
       "      <td>False</td>\n",
       "      <td>True</td>\n",
       "      <td>False</td>\n",
       "      <td>False</td>\n",
       "    </tr>\n",
       "  </tbody>\n",
       "</table>\n",
       "<p>891 rows × 20 columns</p>\n",
       "</div>"
      ],
      "text/plain": [
       "             Pclass  Age     Fare  Sex_female  Sex_male  Embarked_C  \\\n",
       "PassengerId                                                           \n",
       "1                 3   22   7.2500       False      True       False   \n",
       "2                 1   38  71.2833        True     False        True   \n",
       "3                 3   26   7.9250        True     False       False   \n",
       "4                 1   35  53.1000        True     False       False   \n",
       "5                 3   35   8.0500       False      True       False   \n",
       "...             ...  ...      ...         ...       ...         ...   \n",
       "887               2   27  13.0000       False      True       False   \n",
       "888               1   19  30.0000        True     False       False   \n",
       "889               3   21  23.4500        True     False       False   \n",
       "890               1   26  30.0000       False      True        True   \n",
       "891               3   32   7.7500       False      True       False   \n",
       "\n",
       "             Embarked_Q  Embarked_S  Deck_A  Deck_B  Deck_C  Deck_D  Deck_E  \\\n",
       "PassengerId                                                                   \n",
       "1                 False        True   False   False   False   False   False   \n",
       "2                 False       False   False   False    True   False   False   \n",
       "3                 False        True   False   False   False   False   False   \n",
       "4                 False        True   False   False    True   False   False   \n",
       "5                 False        True   False   False   False   False   False   \n",
       "...                 ...         ...     ...     ...     ...     ...     ...   \n",
       "887               False        True   False   False   False   False   False   \n",
       "888               False        True   False    True   False   False   False   \n",
       "889               False        True   False   False   False   False   False   \n",
       "890               False       False   False   False    True   False   False   \n",
       "891                True       False   False   False   False   False   False   \n",
       "\n",
       "             Deck_F  Deck_G  Deck_M  Deck_T  Family_group_Alone  \\\n",
       "PassengerId                                                       \n",
       "1             False   False    True   False               False   \n",
       "2             False   False   False   False               False   \n",
       "3             False   False    True   False                True   \n",
       "4             False   False   False   False               False   \n",
       "5             False   False    True   False                True   \n",
       "...             ...     ...     ...     ...                 ...   \n",
       "887           False   False    True   False                True   \n",
       "888           False   False   False   False                True   \n",
       "889           False   False    True   False               False   \n",
       "890           False   False   False   False                True   \n",
       "891           False   False    True   False                True   \n",
       "\n",
       "             Family_group_Small  Family_group_Large  \n",
       "PassengerId                                          \n",
       "1                          True               False  \n",
       "2                          True               False  \n",
       "3                         False               False  \n",
       "4                          True               False  \n",
       "5                         False               False  \n",
       "...                         ...                 ...  \n",
       "887                       False               False  \n",
       "888                       False               False  \n",
       "889                        True               False  \n",
       "890                       False               False  \n",
       "891                       False               False  \n",
       "\n",
       "[891 rows x 20 columns]"
      ]
     },
     "execution_count": 61,
     "metadata": {},
     "output_type": "execute_result"
    }
   ],
   "source": [
    "X_train_one_hot"
   ]
  },
  {
   "cell_type": "code",
   "execution_count": 62,
   "id": "a185ed0f-cc99-4a1f-b14e-da91225ef74c",
   "metadata": {},
   "outputs": [
    {
     "data": {
      "text/plain": [
       "(891, 20)"
      ]
     },
     "execution_count": 62,
     "metadata": {},
     "output_type": "execute_result"
    }
   ],
   "source": [
    "X_train_one_hot.shape"
   ]
  },
  {
   "cell_type": "code",
   "execution_count": 63,
   "id": "475728fc-3241-4e54-820b-4a2bd80a7f6a",
   "metadata": {},
   "outputs": [
    {
     "data": {
      "text/plain": [
       "(418, 19)"
      ]
     },
     "execution_count": 63,
     "metadata": {},
     "output_type": "execute_result"
    }
   ],
   "source": [
    "X_test_one_hot.shape"
   ]
  },
  {
   "cell_type": "code",
   "execution_count": 64,
   "id": "ccfbdf32-57f5-476a-99cd-9bb81f537fd6",
   "metadata": {},
   "outputs": [
    {
     "data": {
      "text/plain": [
       "Index(['Pclass', 'Age', 'Fare', 'Sex_female', 'Sex_male', 'Embarked_C',\n",
       "       'Embarked_Q', 'Embarked_S', 'Deck_A', 'Deck_B', 'Deck_C', 'Deck_D',\n",
       "       'Deck_E', 'Deck_F', 'Deck_G', 'Deck_M', 'Deck_T', 'Family_group_Alone',\n",
       "       'Family_group_Small', 'Family_group_Large'],\n",
       "      dtype='object')"
      ]
     },
     "execution_count": 64,
     "metadata": {},
     "output_type": "execute_result"
    }
   ],
   "source": [
    "X_train_one_hot.columns"
   ]
  },
  {
   "cell_type": "code",
   "execution_count": 65,
   "id": "0a13cdf1-9180-4f00-86be-d5a95c6d62ac",
   "metadata": {},
   "outputs": [
    {
     "data": {
      "text/plain": [
       "Index(['Pclass', 'Age', 'Fare', 'Sex_female', 'Sex_male', 'Embarked_C',\n",
       "       'Embarked_Q', 'Embarked_S', 'Deck_A', 'Deck_B', 'Deck_C', 'Deck_D',\n",
       "       'Deck_E', 'Deck_F', 'Deck_G', 'Deck_M', 'Family_group_Alone',\n",
       "       'Family_group_Small', 'Family_group_Large'],\n",
       "      dtype='object')"
      ]
     },
     "execution_count": 65,
     "metadata": {},
     "output_type": "execute_result"
    }
   ],
   "source": [
    "X_test_one_hot.columns"
   ]
  },
  {
   "cell_type": "markdown",
   "id": "398cfb7f-c2eb-4a19-94dd-4906c05c4932",
   "metadata": {},
   "source": [
    "- 특성 개수 맞추기\n",
    "    - 부족한 컬럼 명을 확인\n",
    "    - set() 집합 자료구조를 활용해서 찾아보자"
   ]
  },
  {
   "cell_type": "code",
   "execution_count": 66,
   "id": "7b6f914c-5583-49a2-afef-816162a98141",
   "metadata": {},
   "outputs": [
    {
     "data": {
      "text/plain": [
       "{'Deck_T'}"
      ]
     },
     "execution_count": 66,
     "metadata": {},
     "output_type": "execute_result"
    }
   ],
   "source": [
    "# set 이라는 데이터 타입 (집합 자료형)\n",
    "set(X_train_one_hot.columns) - set(X_test_one_hot.columns)"
   ]
  },
  {
   "cell_type": "code",
   "execution_count": 67,
   "id": "f2d33f01-2dfa-40ae-b7a9-0e71e1862b8f",
   "metadata": {},
   "outputs": [
    {
     "data": {
      "text/plain": [
       "PassengerId\n",
       "892     0\n",
       "893     0\n",
       "894     0\n",
       "895     0\n",
       "896     0\n",
       "       ..\n",
       "1305    0\n",
       "1306    0\n",
       "1307    0\n",
       "1308    0\n",
       "1309    0\n",
       "Name: Deck_T, Length: 418, dtype: int64"
      ]
     },
     "execution_count": 67,
     "metadata": {},
     "output_type": "execute_result"
    }
   ],
   "source": [
    "# X_test에 Deck_T 라는 컬럼을 새롭게 추가\n",
    "X_test_one_hot['Deck_T'] = 0\n",
    "X_test_one_hot['Deck_T']"
   ]
  },
  {
   "cell_type": "code",
   "execution_count": 68,
   "id": "ab61823e-804a-4903-90b5-1cb45e1e954a",
   "metadata": {},
   "outputs": [
    {
     "name": "stdout",
     "output_type": "stream",
     "text": [
      "<class 'pandas.core.frame.DataFrame'>\n",
      "Index: 891 entries, 1 to 891\n",
      "Data columns (total 20 columns):\n",
      " #   Column              Non-Null Count  Dtype  \n",
      "---  ------              --------------  -----  \n",
      " 0   Pclass              891 non-null    int64  \n",
      " 1   Age                 891 non-null    int64  \n",
      " 2   Fare                891 non-null    float64\n",
      " 3   Sex_female          891 non-null    bool   \n",
      " 4   Sex_male            891 non-null    bool   \n",
      " 5   Embarked_C          891 non-null    bool   \n",
      " 6   Embarked_Q          891 non-null    bool   \n",
      " 7   Embarked_S          891 non-null    bool   \n",
      " 8   Deck_A              891 non-null    bool   \n",
      " 9   Deck_B              891 non-null    bool   \n",
      " 10  Deck_C              891 non-null    bool   \n",
      " 11  Deck_D              891 non-null    bool   \n",
      " 12  Deck_E              891 non-null    bool   \n",
      " 13  Deck_F              891 non-null    bool   \n",
      " 14  Deck_G              891 non-null    bool   \n",
      " 15  Deck_M              891 non-null    bool   \n",
      " 16  Deck_T              891 non-null    bool   \n",
      " 17  Family_group_Alone  891 non-null    bool   \n",
      " 18  Family_group_Small  891 non-null    bool   \n",
      " 19  Family_group_Large  891 non-null    bool   \n",
      "dtypes: bool(17), float64(1), int64(2)\n",
      "memory usage: 42.6 KB\n",
      "<class 'pandas.core.frame.DataFrame'>\n",
      "Index: 418 entries, 892 to 1309\n",
      "Data columns (total 20 columns):\n",
      " #   Column              Non-Null Count  Dtype  \n",
      "---  ------              --------------  -----  \n",
      " 0   Pclass              418 non-null    int64  \n",
      " 1   Age                 418 non-null    int64  \n",
      " 2   Fare                418 non-null    float64\n",
      " 3   Sex_female          418 non-null    bool   \n",
      " 4   Sex_male            418 non-null    bool   \n",
      " 5   Embarked_C          418 non-null    bool   \n",
      " 6   Embarked_Q          418 non-null    bool   \n",
      " 7   Embarked_S          418 non-null    bool   \n",
      " 8   Deck_A              418 non-null    bool   \n",
      " 9   Deck_B              418 non-null    bool   \n",
      " 10  Deck_C              418 non-null    bool   \n",
      " 11  Deck_D              418 non-null    bool   \n",
      " 12  Deck_E              418 non-null    bool   \n",
      " 13  Deck_F              418 non-null    bool   \n",
      " 14  Deck_G              418 non-null    bool   \n",
      " 15  Deck_M              418 non-null    bool   \n",
      " 16  Family_group_Alone  418 non-null    bool   \n",
      " 17  Family_group_Small  418 non-null    bool   \n",
      " 18  Family_group_Large  418 non-null    bool   \n",
      " 19  Deck_T              418 non-null    int64  \n",
      "dtypes: bool(16), float64(1), int64(3)\n",
      "memory usage: 22.9 KB\n"
     ]
    }
   ],
   "source": [
    "X_train_one_hot.info()\n",
    "X_test_one_hot.info()"
   ]
  },
  {
   "cell_type": "code",
   "execution_count": 97,
   "id": "9ad75dbc-9c5c-46ec-a620-056c94c4149e",
   "metadata": {},
   "outputs": [],
   "source": [
    "# X_train, X_test 의 컬럼의 순서가 다르다.\n",
    "# 순서를 맞춰준다\n",
    "# X_train_one_hot.columns\n",
    "X_test_one_hot = X_test_one_hot[X_train_one_hot.columns]"
   ]
  },
  {
   "cell_type": "code",
   "execution_count": 70,
   "id": "70f4b9cf-92e2-4187-bccd-dc552ef49b78",
   "metadata": {},
   "outputs": [
    {
     "name": "stdout",
     "output_type": "stream",
     "text": [
      "(891, 20) (891,)\n",
      "(418, 20)\n"
     ]
    }
   ],
   "source": [
    "print(X_train_one_hot.shape, y_train.shape)\n",
    "print(X_test_one_hot.shape)"
   ]
  },
  {
   "cell_type": "code",
   "execution_count": null,
   "id": "bf2ec502-5a0c-4fd8-8b5f-1f6566567b83",
   "metadata": {},
   "outputs": [],
   "source": []
  },
  {
   "cell_type": "markdown",
   "id": "1be7a8b5-8b3b-4609-afab-5d6c2078869d",
   "metadata": {},
   "source": [
    "#### 모델 선택 학습"
   ]
  },
  {
   "cell_type": "code",
   "execution_count": 73,
   "id": "281b5b8e-e573-41e7-a4ff-83a4c05c1930",
   "metadata": {},
   "outputs": [],
   "source": [
    "# 라이브러리 가져오기\n",
    "from sklearn.tree import DecisionTreeClassifier\n",
    "\n",
    "# 교차 검증\n",
    "from sklearn.model_selection import cross_val_score"
   ]
  },
  {
   "cell_type": "code",
   "execution_count": 75,
   "id": "f1a5fa6c-d302-4504-92ff-809c1c772155",
   "metadata": {},
   "outputs": [],
   "source": [
    "# 모델 객체 확인 하이퍼 파라미터 조절 NO >> 과대 적합 발생\n",
    "tree_model = DecisionTreeClassifier()"
   ]
  },
  {
   "cell_type": "code",
   "execution_count": 77,
   "id": "d7137cc2-6ea7-4b5c-ab11-4c1b676586c2",
   "metadata": {},
   "outputs": [
    {
     "data": {
      "text/plain": [
       "array([0.75418994, 0.7752809 , 0.84831461, 0.76966292, 0.80337079])"
      ]
     },
     "execution_count": 77,
     "metadata": {},
     "output_type": "execute_result"
    }
   ],
   "source": [
    "# 5개로 나누어서 \n",
    "cv_result = cross_val_score(tree_model, X_train_one_hot, y_train, cv =5)\n",
    "cv_result"
   ]
  },
  {
   "cell_type": "code",
   "execution_count": 82,
   "id": "13d7bbab-2859-4707-ba6f-c9f09f4f341d",
   "metadata": {},
   "outputs": [
    {
     "data": {
      "text/plain": [
       "0.7901638315234447"
      ]
     },
     "execution_count": 82,
     "metadata": {},
     "output_type": "execute_result"
    }
   ],
   "source": [
    "cv_result.mean()\n",
    "# 평균 적으로 78% 성능\n",
    "# test데이터에서는 조금더 정확도가 떨어 질수있다"
   ]
  },
  {
   "cell_type": "code",
   "execution_count": null,
   "id": "124603c2-4a57-45ed-bcc6-be136aadea0e",
   "metadata": {},
   "outputs": [],
   "source": []
  },
  {
   "cell_type": "code",
   "execution_count": null,
   "id": "da74779c-0ad5-4f1a-aee0-82a8640dc374",
   "metadata": {},
   "outputs": [],
   "source": []
  },
  {
   "cell_type": "markdown",
   "id": "0440d03d-d20f-4637-bc13-12d276ed05d6",
   "metadata": {},
   "source": [
    "- tree model의 하이퍼 파라미터 조정"
   ]
  },
  {
   "cell_type": "code",
   "execution_count": 87,
   "id": "09e6cae0-f501-4973-be34-331ece921b46",
   "metadata": {},
   "outputs": [
    {
     "data": {
      "text/plain": [
       "array([0.81005587, 0.81460674, 0.80337079, 0.78089888, 0.8258427 ])"
      ]
     },
     "execution_count": 87,
     "metadata": {},
     "output_type": "execute_result"
    }
   ],
   "source": [
    "tree_model = DecisionTreeClassifier(max_depth = 3)\n",
    "# 교차 검즘\n",
    "result = cross_val_score(tree_model, X_train_one_hot, y_train, cv =5)\n",
    "result"
   ]
  },
  {
   "cell_type": "code",
   "execution_count": 88,
   "id": "d9c34b12-d890-46ca-92de-29e6cc0ca567",
   "metadata": {},
   "outputs": [
    {
     "data": {
      "text/plain": [
       "0.8069549934090766"
      ]
     },
     "execution_count": 88,
     "metadata": {},
     "output_type": "execute_result"
    }
   ],
   "source": [
    "result.mean()"
   ]
  },
  {
   "cell_type": "code",
   "execution_count": 100,
   "id": "c59391ba-81d4-469e-b768-0fa047815c5d",
   "metadata": {},
   "outputs": [
    {
     "name": "stdout",
     "output_type": "stream",
     "text": [
      "depth : 1 0.7867365513778168\n",
      "depth : 2 0.773316176009039\n",
      "depth : 3 0.8069549934090766\n",
      "depth : 4 0.807005209967987\n",
      "depth : 5 0.8148201619484026\n",
      "depth : 6 0.8170736300295023\n",
      "depth : 7 0.8159437574540205\n",
      "depth : 8 0.8181783943255289\n",
      "depth : 9 0.8114619295712762\n"
     ]
    }
   ],
   "source": [
    "# 교차 검증을 하면서 하이퍼 파라미터 조정 확인 1 ~ 9\n",
    "for md in range(1,10):\n",
    "    tree_model = DecisionTreeClassifier(max_depth = md)\n",
    "    result = cross_val_score(tree_model, X_train_one_hot, y_train, cv = 5)\n",
    "    print(f'depth : {md}', result.mean())"
   ]
  },
  {
   "cell_type": "code",
   "execution_count": null,
   "id": "e6a8ee37-2306-49cc-9e43-e167d86e86af",
   "metadata": {},
   "outputs": [],
   "source": []
  },
  {
   "cell_type": "code",
   "execution_count": 101,
   "id": "bc89fd64-8b20-4eb2-921c-1a905353e3fd",
   "metadata": {},
   "outputs": [],
   "source": [
    "tree_model2 = DecisionTreeClassifier(max_depth = 6)\n",
    "# 학습\n",
    "tree_model2.fit(X_train_one_hot, y_train)\n",
    "\n",
    "# 예측값\n",
    "pre2 = tree_model2.predict(X_test_one_hot)\n",
    "\n",
    "# 모델 답안지 작성  tree_model_(n).csv 파일 만들기!\n",
    "result2 = pd.read_csv('./data/gender_submission.csv')\n",
    "result2['Survived'] = pre2\n",
    "result2.to_csv('data/tree_model_02.csv', index = False)"
   ]
  },
  {
   "cell_type": "code",
   "execution_count": null,
   "id": "4a97afd9-4c4d-468d-8ec8-b8013ab61588",
   "metadata": {},
   "outputs": [],
   "source": []
  },
  {
   "cell_type": "code",
   "execution_count": null,
   "id": "ac43c687-d212-4804-84b9-2cadd0423987",
   "metadata": {},
   "outputs": [],
   "source": []
  },
  {
   "cell_type": "code",
   "execution_count": null,
   "id": "9fbf0c11-40ca-44fd-9f03-33609ec746a3",
   "metadata": {},
   "outputs": [],
   "source": [
    "# tree_model2가 어떤 특성을 중요하게 생각하는지, 특성 중요도 확인"
   ]
  },
  {
   "cell_type": "code",
   "execution_count": 102,
   "id": "e6fb84d8-8d45-4776-adf2-732c8f19bd9c",
   "metadata": {},
   "outputs": [
    {
     "data": {
      "text/plain": [
       "array([0.12587444, 0.11648766, 0.08001609, 0.50258411, 0.        ,\n",
       "       0.00301714, 0.        , 0.0083284 , 0.        , 0.        ,\n",
       "       0.        , 0.        , 0.01510388, 0.        , 0.        ,\n",
       "       0.06098512, 0.        , 0.        , 0.02776957, 0.05983358])"
      ]
     },
     "execution_count": 102,
     "metadata": {},
     "output_type": "execute_result"
    }
   ],
   "source": [
    "fi = tree_model2.feature_importances_\n",
    "fi"
   ]
  },
  {
   "cell_type": "code",
   "execution_count": 104,
   "id": "3a836720-8f0a-42ca-91ca-8fe29fbfa6e3",
   "metadata": {},
   "outputs": [
    {
     "data": {
      "text/html": [
       "<div>\n",
       "<style scoped>\n",
       "    .dataframe tbody tr th:only-of-type {\n",
       "        vertical-align: middle;\n",
       "    }\n",
       "\n",
       "    .dataframe tbody tr th {\n",
       "        vertical-align: top;\n",
       "    }\n",
       "\n",
       "    .dataframe thead th {\n",
       "        text-align: right;\n",
       "    }\n",
       "</style>\n",
       "<table border=\"1\" class=\"dataframe\">\n",
       "  <thead>\n",
       "    <tr style=\"text-align: right;\">\n",
       "      <th></th>\n",
       "      <th>imp</th>\n",
       "    </tr>\n",
       "  </thead>\n",
       "  <tbody>\n",
       "    <tr>\n",
       "      <th>Pclass</th>\n",
       "      <td>0.125874</td>\n",
       "    </tr>\n",
       "    <tr>\n",
       "      <th>Age</th>\n",
       "      <td>0.116488</td>\n",
       "    </tr>\n",
       "    <tr>\n",
       "      <th>Fare</th>\n",
       "      <td>0.080016</td>\n",
       "    </tr>\n",
       "    <tr>\n",
       "      <th>Sex_female</th>\n",
       "      <td>0.502584</td>\n",
       "    </tr>\n",
       "    <tr>\n",
       "      <th>Sex_male</th>\n",
       "      <td>0.000000</td>\n",
       "    </tr>\n",
       "    <tr>\n",
       "      <th>Embarked_C</th>\n",
       "      <td>0.003017</td>\n",
       "    </tr>\n",
       "    <tr>\n",
       "      <th>Embarked_Q</th>\n",
       "      <td>0.000000</td>\n",
       "    </tr>\n",
       "    <tr>\n",
       "      <th>Embarked_S</th>\n",
       "      <td>0.008328</td>\n",
       "    </tr>\n",
       "    <tr>\n",
       "      <th>Deck_A</th>\n",
       "      <td>0.000000</td>\n",
       "    </tr>\n",
       "    <tr>\n",
       "      <th>Deck_B</th>\n",
       "      <td>0.000000</td>\n",
       "    </tr>\n",
       "    <tr>\n",
       "      <th>Deck_C</th>\n",
       "      <td>0.000000</td>\n",
       "    </tr>\n",
       "    <tr>\n",
       "      <th>Deck_D</th>\n",
       "      <td>0.000000</td>\n",
       "    </tr>\n",
       "    <tr>\n",
       "      <th>Deck_E</th>\n",
       "      <td>0.015104</td>\n",
       "    </tr>\n",
       "    <tr>\n",
       "      <th>Deck_F</th>\n",
       "      <td>0.000000</td>\n",
       "    </tr>\n",
       "    <tr>\n",
       "      <th>Deck_G</th>\n",
       "      <td>0.000000</td>\n",
       "    </tr>\n",
       "    <tr>\n",
       "      <th>Deck_M</th>\n",
       "      <td>0.060985</td>\n",
       "    </tr>\n",
       "    <tr>\n",
       "      <th>Deck_T</th>\n",
       "      <td>0.000000</td>\n",
       "    </tr>\n",
       "    <tr>\n",
       "      <th>Family_group_Alone</th>\n",
       "      <td>0.000000</td>\n",
       "    </tr>\n",
       "    <tr>\n",
       "      <th>Family_group_Small</th>\n",
       "      <td>0.027770</td>\n",
       "    </tr>\n",
       "    <tr>\n",
       "      <th>Family_group_Large</th>\n",
       "      <td>0.059834</td>\n",
       "    </tr>\n",
       "  </tbody>\n",
       "</table>\n",
       "</div>"
      ],
      "text/plain": [
       "                         imp\n",
       "Pclass              0.125874\n",
       "Age                 0.116488\n",
       "Fare                0.080016\n",
       "Sex_female          0.502584\n",
       "Sex_male            0.000000\n",
       "Embarked_C          0.003017\n",
       "Embarked_Q          0.000000\n",
       "Embarked_S          0.008328\n",
       "Deck_A              0.000000\n",
       "Deck_B              0.000000\n",
       "Deck_C              0.000000\n",
       "Deck_D              0.000000\n",
       "Deck_E              0.015104\n",
       "Deck_F              0.000000\n",
       "Deck_G              0.000000\n",
       "Deck_M              0.060985\n",
       "Deck_T              0.000000\n",
       "Family_group_Alone  0.000000\n",
       "Family_group_Small  0.027770\n",
       "Family_group_Large  0.059834"
      ]
     },
     "execution_count": 104,
     "metadata": {},
     "output_type": "execute_result"
    }
   ],
   "source": [
    "fi_s = pd.DataFrame(fi, index = X_train_one_hot.columns, columns = ['imp'])\n",
    "fi_s"
   ]
  },
  {
   "cell_type": "code",
   "execution_count": 106,
   "id": "ce85f180-e4f2-4747-b8ae-0b43bdbc16fc",
   "metadata": {},
   "outputs": [
    {
     "data": {
      "text/plain": [
       "<Figure size 500x500 with 0 Axes>"
      ]
     },
     "metadata": {},
     "output_type": "display_data"
    },
    {
     "data": {
      "image/png": "[encoded data removed]",
      "text/plain": [
       "<Figure size 640x480 with 1 Axes>"
      ]
     },
     "metadata": {},
     "output_type": "display_data"
    }
   ],
   "source": [
    "plt.figure(figsize = (5,5))\n",
    "# 수평 막대 그래프\n",
    "fi_s.sort_values('imp', ascending = True).plot.barh()\n",
    "plt.show()"
   ]
  },
  {
   "cell_type": "code",
   "execution_count": null,
   "id": "bf8feee9-995e-464c-a992-7acdea528f15",
   "metadata": {},
   "outputs": [],
   "source": []
  },
  {
   "cell_type": "code",
   "execution_count": null,
   "id": "04e37a90-00dd-48c5-98fd-f03802f53625",
   "metadata": {},
   "outputs": [],
   "source": []
  },
  {
   "cell_type": "markdown",
   "id": "f8329b41-f88c-4409-8507-efe4281bd604",
   "metadata": {},
   "source": [
    "### 앙상블\n",
    "- 여러 모델을 결합하는 방식으로 성능을 올리는 기법\n",
    "    1. 보팅(Voting)\n",
    "       - 여러개의 다른 종류의 모델이 예측한 결과를 투표 혹은 평균을 통해서 최종 결정\n",
    "         A. 하드보팅 (Hard-Voting) : 투표(다수결)\n",
    "         B. 소프트 보팅(Soft-Voting) : 확률값을 통한 결정\n",
    "    2. 배깅(Bagging)\n",
    "       - 여러개의 같은 종류의 모델이 예측한 결과를 투표 혹은 평균을 통해서 최종 결정\n",
    "       - 대표 모델 : RandomForest (Decision Tree 를 여러개 사용하는 모델)\n",
    "    3. 부스팅(Boostring)\n",
    "       - 여러 모델을 순차적으로 학습 시켜서 이전 모델의 오류를 보정\n",
    "       - 대표 모델 : AdaBoost, GradientBoost\n",
    "       - 후속 모델이 이전 모델의 잘못된 예측을 수정하면서 성능이 점점 좋아지는 현상"
   ]
  },
  {
   "cell_type": "code",
   "execution_count": 107,
   "id": "de4daf02-c1bd-4596-bddc-e2267378b323",
   "metadata": {},
   "outputs": [],
   "source": [
    "from sklearn.ensemble import VotingClassifier\n",
    "from sklearn.ensemble import RandomForestClassifier\n",
    "from sklearn.ensemble import AdaBoostClassifier\n",
    "from sklearn.ensemble import GradientBoostingClassifier"
   ]
  },
  {
   "cell_type": "markdown",
   "id": "06516009-cfc3-4910-8ca5-7f08de664f9a",
   "metadata": {},
   "source": [
    "#### 랜덤 포레스트"
   ]
  },
  {
   "cell_type": "code",
   "execution_count": 115,
   "id": "73bd3800-b694-4fbe-97f2-38de324518c4",
   "metadata": {},
   "outputs": [],
   "source": [
    "# 하이퍼파라미터 설정\n",
    "forest_model = RandomForestClassifier(n_estimators = 100, # 트리의 개수\n",
    "                                    max_features = 5, # 최대 특성\n",
    "                                    max_depth = 4, # 최대 깊이\n",
    "                                    random_state = 11)\n",
    "                                      "
   ]
  },
  {
   "cell_type": "code",
   "execution_count": 109,
   "id": "fbadf809-42e7-4874-8c22-4db9921c8a8b",
   "metadata": {},
   "outputs": [
    {
     "data": {
      "text/plain": [
       "array([0.82122905, 0.82022472, 0.82022472, 0.79775281, 0.82022472])"
      ]
     },
     "execution_count": 109,
     "metadata": {},
     "output_type": "execute_result"
    }
   ],
   "source": [
    "# 랜덤 포레스트 교차검증\n",
    "result_RF = cross_val_score(froest_model,\n",
    "                           X_train_one_hot,\n",
    "                           y_train,\n",
    "                           cv = 5)\n",
    "result_RF"
   ]
  },
  {
   "cell_type": "code",
   "execution_count": 110,
   "id": "2a21bf57-d9c1-49a6-8b71-62854ed44403",
   "metadata": {},
   "outputs": [
    {
     "data": {
      "text/plain": [
       "0.8159312033142928"
      ]
     },
     "execution_count": 110,
     "metadata": {},
     "output_type": "execute_result"
    }
   ],
   "source": [
    "result_RF.mean()"
   ]
  },
  {
   "cell_type": "markdown",
   "id": "9e22d8f8-b196-43ce-a6dd-8262714277cb",
   "metadata": {},
   "source": [
    "#### 에이다 부스팅"
   ]
  },
  {
   "cell_type": "code",
   "execution_count": 111,
   "id": "af2cd2bc-9464-4406-9ce8-e7e1da605051",
   "metadata": {},
   "outputs": [],
   "source": [
    "ada_model = AdaBoostClassifier(n_estimators=100, random_state=14)"
   ]
  },
  {
   "cell_type": "code",
   "execution_count": 112,
   "id": "276fee48-a035-463b-819d-30f1130cd44d",
   "metadata": {},
   "outputs": [
    {
     "name": "stderr",
     "output_type": "stream",
     "text": [
      "C:\\Users\\smhrd\\anaconda3\\Lib\\site-packages\\sklearn\\ensemble\\_weight_boosting.py:527: FutureWarning: The SAMME.R algorithm (the default) is deprecated and will be removed in 1.6. Use the SAMME algorithm to circumvent this warning.\n",
      "  warnings.warn(\n",
      "C:\\Users\\smhrd\\anaconda3\\Lib\\site-packages\\sklearn\\ensemble\\_weight_boosting.py:527: FutureWarning: The SAMME.R algorithm (the default) is deprecated and will be removed in 1.6. Use the SAMME algorithm to circumvent this warning.\n",
      "  warnings.warn(\n",
      "C:\\Users\\smhrd\\anaconda3\\Lib\\site-packages\\sklearn\\ensemble\\_weight_boosting.py:527: FutureWarning: The SAMME.R algorithm (the default) is deprecated and will be removed in 1.6. Use the SAMME algorithm to circumvent this warning.\n",
      "  warnings.warn(\n",
      "C:\\Users\\smhrd\\anaconda3\\Lib\\site-packages\\sklearn\\ensemble\\_weight_boosting.py:527: FutureWarning: The SAMME.R algorithm (the default) is deprecated and will be removed in 1.6. Use the SAMME algorithm to circumvent this warning.\n",
      "  warnings.warn(\n",
      "C:\\Users\\smhrd\\anaconda3\\Lib\\site-packages\\sklearn\\ensemble\\_weight_boosting.py:527: FutureWarning: The SAMME.R algorithm (the default) is deprecated and will be removed in 1.6. Use the SAMME algorithm to circumvent this warning.\n",
      "  warnings.warn(\n"
     ]
    },
    {
     "data": {
      "text/plain": [
       "array([0.77653631, 0.81460674, 0.80898876, 0.8258427 , 0.83707865])"
      ]
     },
     "execution_count": 112,
     "metadata": {},
     "output_type": "execute_result"
    }
   ],
   "source": [
    "result_ada = cross_val_score(ada_model,\n",
    "                           X_train_one_hot,\n",
    "                           y_train,\n",
    "                           cv = 5)\n",
    "result_ada"
   ]
  },
  {
   "cell_type": "code",
   "execution_count": 113,
   "id": "629a2bcd-2481-4aa3-a28a-2ae688524043",
   "metadata": {},
   "outputs": [
    {
     "data": {
      "text/plain": [
       "0.8126106333563493"
      ]
     },
     "execution_count": 113,
     "metadata": {},
     "output_type": "execute_result"
    }
   ],
   "source": [
    "result_ada.mean()"
   ]
  },
  {
   "cell_type": "code",
   "execution_count": null,
   "id": "509aefe1-28f5-4f71-a8dd-4c83ff8bdd71",
   "metadata": {},
   "outputs": [],
   "source": []
  },
  {
   "cell_type": "markdown",
   "id": "a7a878bf-90de-43bd-adcf-6f99abac920b",
   "metadata": {},
   "source": [
    "#### 보팅"
   ]
  },
  {
   "cell_type": "code",
   "execution_count": 117,
   "id": "2dc8eff7-9af5-4a55-9e18-675dddb48da7",
   "metadata": {},
   "outputs": [
    {
     "data": {
      "text/html": [
       "<style>#sk-container-id-1 {\n",
       "  /* Definition of color scheme common for light and dark mode */\n",
       "  --sklearn-color-text: black;\n",
       "  --sklearn-color-line: gray;\n",
       "  /* Definition of color scheme for unfitted estimators */\n",
       "  --sklearn-color-unfitted-level-0: #fff5e6;\n",
       "  --sklearn-color-unfitted-level-1: #f6e4d2;\n",
       "  --sklearn-color-unfitted-level-2: #ffe0b3;\n",
       "  --sklearn-color-unfitted-level-3: chocolate;\n",
       "  /* Definition of color scheme for fitted estimators */\n",
       "  --sklearn-color-fitted-level-0: #f0f8ff;\n",
       "  --sklearn-color-fitted-level-1: #d4ebff;\n",
       "  --sklearn-color-fitted-level-2: #b3dbfd;\n",
       "  --sklearn-color-fitted-level-3: cornflowerblue;\n",
       "\n",
       "  /* Specific color for light theme */\n",
       "  --sklearn-color-text-on-default-background: var(--sg-text-color, var(--theme-code-foreground, var(--jp-content-font-color1, black)));\n",
       "  --sklearn-color-background: var(--sg-background-color, var(--theme-background, var(--jp-layout-color0, white)));\n",
       "  --sklearn-color-border-box: var(--sg-text-color, var(--theme-code-foreground, var(--jp-content-font-color1, black)));\n",
       "  --sklearn-color-icon: #696969;\n",
       "\n",
       "  @media (prefers-color-scheme: dark) {\n",
       "    /* Redefinition of color scheme for dark theme */\n",
       "    --sklearn-color-text-on-default-background: var(--sg-text-color, var(--theme-code-foreground, var(--jp-content-font-color1, white)));\n",
       "    --sklearn-color-background: var(--sg-background-color, var(--theme-background, var(--jp-layout-color0, #111)));\n",
       "    --sklearn-color-border-box: var(--sg-text-color, var(--theme-code-foreground, var(--jp-content-font-color1, white)));\n",
       "    --sklearn-color-icon: #878787;\n",
       "  }\n",
       "}\n",
       "\n",
       "#sk-container-id-1 {\n",
       "  color: var(--sklearn-color-text);\n",
       "}\n",
       "\n",
       "#sk-container-id-1 pre {\n",
       "  padding: 0;\n",
       "}\n",
       "\n",
       "#sk-container-id-1 input.sk-hidden--visually {\n",
       "  border: 0;\n",
       "  clip: rect(1px 1px 1px 1px);\n",
       "  clip: rect(1px, 1px, 1px, 1px);\n",
       "  height: 1px;\n",
       "  margin: -1px;\n",
       "  overflow: hidden;\n",
       "  padding: 0;\n",
       "  position: absolute;\n",
       "  width: 1px;\n",
       "}\n",
       "\n",
       "#sk-container-id-1 div.sk-dashed-wrapped {\n",
       "  border: 1px dashed var(--sklearn-color-line);\n",
       "  margin: 0 0.4em 0.5em 0.4em;\n",
       "  box-sizing: border-box;\n",
       "  padding-bottom: 0.4em;\n",
       "  background-color: var(--sklearn-color-background);\n",
       "}\n",
       "\n",
       "#sk-container-id-1 div.sk-container {\n",
       "  /* jupyter's `normalize.less` sets `[hidden] { display: none; }`\n",
       "     but bootstrap.min.css set `[hidden] { display: none !important; }`\n",
       "     so we also need the `!important` here to be able to override the\n",
       "     default hidden behavior on the sphinx rendered scikit-learn.org.\n",
       "     See: https://github.com/scikit-learn/scikit-learn/issues/21755 */\n",
       "  display: inline-block !important;\n",
       "  position: relative;\n",
       "}\n",
       "\n",
       "#sk-container-id-1 div.sk-text-repr-fallback {\n",
       "  display: none;\n",
       "}\n",
       "\n",
       "div.sk-parallel-item,\n",
       "div.sk-serial,\n",
       "div.sk-item {\n",
       "  /* draw centered vertical line to link estimators */\n",
       "  background-image: linear-gradient(var(--sklearn-color-text-on-default-background), var(--sklearn-color-text-on-default-background));\n",
       "  background-size: 2px 100%;\n",
       "  background-repeat: no-repeat;\n",
       "  background-position: center center;\n",
       "}\n",
       "\n",
       "/* Parallel-specific style estimator block */\n",
       "\n",
       "#sk-container-id-1 div.sk-parallel-item::after {\n",
       "  content: \"\";\n",
       "  width: 100%;\n",
       "  border-bottom: 2px solid var(--sklearn-color-text-on-default-background);\n",
       "  flex-grow: 1;\n",
       "}\n",
       "\n",
       "#sk-container-id-1 div.sk-parallel {\n",
       "  display: flex;\n",
       "  align-items: stretch;\n",
       "  justify-content: center;\n",
       "  background-color: var(--sklearn-color-background);\n",
       "  position: relative;\n",
       "}\n",
       "\n",
       "#sk-container-id-1 div.sk-parallel-item {\n",
       "  display: flex;\n",
       "  flex-direction: column;\n",
       "}\n",
       "\n",
       "#sk-container-id-1 div.sk-parallel-item:first-child::after {\n",
       "  align-self: flex-end;\n",
       "  width: 50%;\n",
       "}\n",
       "\n",
       "#sk-container-id-1 div.sk-parallel-item:last-child::after {\n",
       "  align-self: flex-start;\n",
       "  width: 50%;\n",
       "}\n",
       "\n",
       "#sk-container-id-1 div.sk-parallel-item:only-child::after {\n",
       "  width: 0;\n",
       "}\n",
       "\n",
       "/* Serial-specific style estimator block */\n",
       "\n",
       "#sk-container-id-1 div.sk-serial {\n",
       "  display: flex;\n",
       "  flex-direction: column;\n",
       "  align-items: center;\n",
       "  background-color: var(--sklearn-color-background);\n",
       "  padding-right: 1em;\n",
       "  padding-left: 1em;\n",
       "}\n",
       "\n",
       "\n",
       "/* Toggleable style: style used for estimator/Pipeline/ColumnTransformer box that is\n",
       "clickable and can be expanded/collapsed.\n",
       "- Pipeline and ColumnTransformer use this feature and define the default style\n",
       "- Estimators will overwrite some part of the style using the `sk-estimator` class\n",
       "*/\n",
       "\n",
       "/* Pipeline and ColumnTransformer style (default) */\n",
       "\n",
       "#sk-container-id-1 div.sk-toggleable {\n",
       "  /* Default theme specific background. It is overwritten whether we have a\n",
       "  specific estimator or a Pipeline/ColumnTransformer */\n",
       "  background-color: var(--sklearn-color-background);\n",
       "}\n",
       "\n",
       "/* Toggleable label */\n",
       "#sk-container-id-1 label.sk-toggleable__label {\n",
       "  cursor: pointer;\n",
       "  display: block;\n",
       "  width: 100%;\n",
       "  margin-bottom: 0;\n",
       "  padding: 0.5em;\n",
       "  box-sizing: border-box;\n",
       "  text-align: center;\n",
       "}\n",
       "\n",
       "#sk-container-id-1 label.sk-toggleable__label-arrow:before {\n",
       "  /* Arrow on the left of the label */\n",
       "  content: \"▸\";\n",
       "  float: left;\n",
       "  margin-right: 0.25em;\n",
       "  color: var(--sklearn-color-icon);\n",
       "}\n",
       "\n",
       "#sk-container-id-1 label.sk-toggleable__label-arrow:hover:before {\n",
       "  color: var(--sklearn-color-text);\n",
       "}\n",
       "\n",
       "/* Toggleable content - dropdown */\n",
       "\n",
       "#sk-container-id-1 div.sk-toggleable__content {\n",
       "  max-height: 0;\n",
       "  max-width: 0;\n",
       "  overflow: hidden;\n",
       "  text-align: left;\n",
       "  /* unfitted */\n",
       "  background-color: var(--sklearn-color-unfitted-level-0);\n",
       "}\n",
       "\n",
       "#sk-container-id-1 div.sk-toggleable__content.fitted {\n",
       "  /* fitted */\n",
       "  background-color: var(--sklearn-color-fitted-level-0);\n",
       "}\n",
       "\n",
       "#sk-container-id-1 div.sk-toggleable__content pre {\n",
       "  margin: 0.2em;\n",
       "  border-radius: 0.25em;\n",
       "  color: var(--sklearn-color-text);\n",
       "  /* unfitted */\n",
       "  background-color: var(--sklearn-color-unfitted-level-0);\n",
       "}\n",
       "\n",
       "#sk-container-id-1 div.sk-toggleable__content.fitted pre {\n",
       "  /* unfitted */\n",
       "  background-color: var(--sklearn-color-fitted-level-0);\n",
       "}\n",
       "\n",
       "#sk-container-id-1 input.sk-toggleable__control:checked~div.sk-toggleable__content {\n",
       "  /* Expand drop-down */\n",
       "  max-height: 200px;\n",
       "  max-width: 100%;\n",
       "  overflow: auto;\n",
       "}\n",
       "\n",
       "#sk-container-id-1 input.sk-toggleable__control:checked~label.sk-toggleable__label-arrow:before {\n",
       "  content: \"▾\";\n",
       "}\n",
       "\n",
       "/* Pipeline/ColumnTransformer-specific style */\n",
       "\n",
       "#sk-container-id-1 div.sk-label input.sk-toggleable__control:checked~label.sk-toggleable__label {\n",
       "  color: var(--sklearn-color-text);\n",
       "  background-color: var(--sklearn-color-unfitted-level-2);\n",
       "}\n",
       "\n",
       "#sk-container-id-1 div.sk-label.fitted input.sk-toggleable__control:checked~label.sk-toggleable__label {\n",
       "  background-color: var(--sklearn-color-fitted-level-2);\n",
       "}\n",
       "\n",
       "/* Estimator-specific style */\n",
       "\n",
       "/* Colorize estimator box */\n",
       "#sk-container-id-1 div.sk-estimator input.sk-toggleable__control:checked~label.sk-toggleable__label {\n",
       "  /* unfitted */\n",
       "  background-color: var(--sklearn-color-unfitted-level-2);\n",
       "}\n",
       "\n",
       "#sk-container-id-1 div.sk-estimator.fitted input.sk-toggleable__control:checked~label.sk-toggleable__label {\n",
       "  /* fitted */\n",
       "  background-color: var(--sklearn-color-fitted-level-2);\n",
       "}\n",
       "\n",
       "#sk-container-id-1 div.sk-label label.sk-toggleable__label,\n",
       "#sk-container-id-1 div.sk-label label {\n",
       "  /* The background is the default theme color */\n",
       "  color: var(--sklearn-color-text-on-default-background);\n",
       "}\n",
       "\n",
       "/* On hover, darken the color of the background */\n",
       "#sk-container-id-1 div.sk-label:hover label.sk-toggleable__label {\n",
       "  color: var(--sklearn-color-text);\n",
       "  background-color: var(--sklearn-color-unfitted-level-2);\n",
       "}\n",
       "\n",
       "/* Label box, darken color on hover, fitted */\n",
       "#sk-container-id-1 div.sk-label.fitted:hover label.sk-toggleable__label.fitted {\n",
       "  color: var(--sklearn-color-text);\n",
       "  background-color: var(--sklearn-color-fitted-level-2);\n",
       "}\n",
       "\n",
       "/* Estimator label */\n",
       "\n",
       "#sk-container-id-1 div.sk-label label {\n",
       "  font-family: monospace;\n",
       "  font-weight: bold;\n",
       "  display: inline-block;\n",
       "  line-height: 1.2em;\n",
       "}\n",
       "\n",
       "#sk-container-id-1 div.sk-label-container {\n",
       "  text-align: center;\n",
       "}\n",
       "\n",
       "/* Estimator-specific */\n",
       "#sk-container-id-1 div.sk-estimator {\n",
       "  font-family: monospace;\n",
       "  border: 1px dotted var(--sklearn-color-border-box);\n",
       "  border-radius: 0.25em;\n",
       "  box-sizing: border-box;\n",
       "  margin-bottom: 0.5em;\n",
       "  /* unfitted */\n",
       "  background-color: var(--sklearn-color-unfitted-level-0);\n",
       "}\n",
       "\n",
       "#sk-container-id-1 div.sk-estimator.fitted {\n",
       "  /* fitted */\n",
       "  background-color: var(--sklearn-color-fitted-level-0);\n",
       "}\n",
       "\n",
       "/* on hover */\n",
       "#sk-container-id-1 div.sk-estimator:hover {\n",
       "  /* unfitted */\n",
       "  background-color: var(--sklearn-color-unfitted-level-2);\n",
       "}\n",
       "\n",
       "#sk-container-id-1 div.sk-estimator.fitted:hover {\n",
       "  /* fitted */\n",
       "  background-color: var(--sklearn-color-fitted-level-2);\n",
       "}\n",
       "\n",
       "/* Specification for estimator info (e.g. \"i\" and \"?\") */\n",
       "\n",
       "/* Common style for \"i\" and \"?\" */\n",
       "\n",
       ".sk-estimator-doc-link,\n",
       "a:link.sk-estimator-doc-link,\n",
       "a:visited.sk-estimator-doc-link {\n",
       "  float: right;\n",
       "  font-size: smaller;\n",
       "  line-height: 1em;\n",
       "  font-family: monospace;\n",
       "  background-color: var(--sklearn-color-background);\n",
       "  border-radius: 1em;\n",
       "  height: 1em;\n",
       "  width: 1em;\n",
       "  text-decoration: none !important;\n",
       "  margin-left: 1ex;\n",
       "  /* unfitted */\n",
       "  border: var(--sklearn-color-unfitted-level-1) 1pt solid;\n",
       "  color: var(--sklearn-color-unfitted-level-1);\n",
       "}\n",
       "\n",
       ".sk-estimator-doc-link.fitted,\n",
       "a:link.sk-estimator-doc-link.fitted,\n",
       "a:visited.sk-estimator-doc-link.fitted {\n",
       "  /* fitted */\n",
       "  border: var(--sklearn-color-fitted-level-1) 1pt solid;\n",
       "  color: var(--sklearn-color-fitted-level-1);\n",
       "}\n",
       "\n",
       "/* On hover */\n",
       "div.sk-estimator:hover .sk-estimator-doc-link:hover,\n",
       ".sk-estimator-doc-link:hover,\n",
       "div.sk-label-container:hover .sk-estimator-doc-link:hover,\n",
       ".sk-estimator-doc-link:hover {\n",
       "  /* unfitted */\n",
       "  background-color: var(--sklearn-color-unfitted-level-3);\n",
       "  color: var(--sklearn-color-background);\n",
       "  text-decoration: none;\n",
       "}\n",
       "\n",
       "div.sk-estimator.fitted:hover .sk-estimator-doc-link.fitted:hover,\n",
       ".sk-estimator-doc-link.fitted:hover,\n",
       "div.sk-label-container:hover .sk-estimator-doc-link.fitted:hover,\n",
       ".sk-estimator-doc-link.fitted:hover {\n",
       "  /* fitted */\n",
       "  background-color: var(--sklearn-color-fitted-level-3);\n",
       "  color: var(--sklearn-color-background);\n",
       "  text-decoration: none;\n",
       "}\n",
       "\n",
       "/* Span, style for the box shown on hovering the info icon */\n",
       ".sk-estimator-doc-link span {\n",
       "  display: none;\n",
       "  z-index: 9999;\n",
       "  position: relative;\n",
       "  font-weight: normal;\n",
       "  right: .2ex;\n",
       "  padding: .5ex;\n",
       "  margin: .5ex;\n",
       "  width: min-content;\n",
       "  min-width: 20ex;\n",
       "  max-width: 50ex;\n",
       "  color: var(--sklearn-color-text);\n",
       "  box-shadow: 2pt 2pt 4pt #999;\n",
       "  /* unfitted */\n",
       "  background: var(--sklearn-color-unfitted-level-0);\n",
       "  border: .5pt solid var(--sklearn-color-unfitted-level-3);\n",
       "}\n",
       "\n",
       ".sk-estimator-doc-link.fitted span {\n",
       "  /* fitted */\n",
       "  background: var(--sklearn-color-fitted-level-0);\n",
       "  border: var(--sklearn-color-fitted-level-3);\n",
       "}\n",
       "\n",
       ".sk-estimator-doc-link:hover span {\n",
       "  display: block;\n",
       "}\n",
       "\n",
       "/* \"?\"-specific style due to the `<a>` HTML tag */\n",
       "\n",
       "#sk-container-id-1 a.estimator_doc_link {\n",
       "  float: right;\n",
       "  font-size: 1rem;\n",
       "  line-height: 1em;\n",
       "  font-family: monospace;\n",
       "  background-color: var(--sklearn-color-background);\n",
       "  border-radius: 1rem;\n",
       "  height: 1rem;\n",
       "  width: 1rem;\n",
       "  text-decoration: none;\n",
       "  /* unfitted */\n",
       "  color: var(--sklearn-color-unfitted-level-1);\n",
       "  border: var(--sklearn-color-unfitted-level-1) 1pt solid;\n",
       "}\n",
       "\n",
       "#sk-container-id-1 a.estimator_doc_link.fitted {\n",
       "  /* fitted */\n",
       "  border: var(--sklearn-color-fitted-level-1) 1pt solid;\n",
       "  color: var(--sklearn-color-fitted-level-1);\n",
       "}\n",
       "\n",
       "/* On hover */\n",
       "#sk-container-id-1 a.estimator_doc_link:hover {\n",
       "  /* unfitted */\n",
       "  background-color: var(--sklearn-color-unfitted-level-3);\n",
       "  color: var(--sklearn-color-background);\n",
       "  text-decoration: none;\n",
       "}\n",
       "\n",
       "#sk-container-id-1 a.estimator_doc_link.fitted:hover {\n",
       "  /* fitted */\n",
       "  background-color: var(--sklearn-color-fitted-level-3);\n",
       "}\n",
       "</style><div id=\"sk-container-id-1\" class=\"sk-top-container\"><div class=\"sk-text-repr-fallback\"><pre>VotingClassifier(estimators=[(&#x27;tree&#x27;, DecisionTreeClassifier(max_depth=6)),\n",
       "                             (&#x27;forest&#x27;,\n",
       "                              RandomForestClassifier(max_depth=4,\n",
       "                                                     max_features=5,\n",
       "                                                     random_state=11)),\n",
       "                             (&#x27;ada&#x27;,\n",
       "                              AdaBoostClassifier(n_estimators=100,\n",
       "                                                 random_state=14))],\n",
       "                 voting=&#x27;soft&#x27;)</pre><b>In a Jupyter environment, please rerun this cell to show the HTML representation or trust the notebook. <br />On GitHub, the HTML representation is unable to render, please try loading this page with nbviewer.org.</b></div><div class=\"sk-container\" hidden><div class=\"sk-item sk-dashed-wrapped\"><div class=\"sk-label-container\"><div class=\"sk-label  sk-toggleable\"><input class=\"sk-toggleable__control sk-hidden--visually\" id=\"sk-estimator-id-1\" type=\"checkbox\" ><label for=\"sk-estimator-id-1\" class=\"sk-toggleable__label  sk-toggleable__label-arrow \">&nbsp;&nbsp;VotingClassifier<a class=\"sk-estimator-doc-link \" rel=\"noreferrer\" target=\"_blank\" href=\"https://scikit-learn.org/1.5/modules/generated/sklearn.ensemble.VotingClassifier.html\">?<span>Documentation for VotingClassifier</span></a><span class=\"sk-estimator-doc-link \">i<span>Not fitted</span></span></label><div class=\"sk-toggleable__content \"><pre>VotingClassifier(estimators=[(&#x27;tree&#x27;, DecisionTreeClassifier(max_depth=6)),\n",
       "                             (&#x27;forest&#x27;,\n",
       "                              RandomForestClassifier(max_depth=4,\n",
       "                                                     max_features=5,\n",
       "                                                     random_state=11)),\n",
       "                             (&#x27;ada&#x27;,\n",
       "                              AdaBoostClassifier(n_estimators=100,\n",
       "                                                 random_state=14))],\n",
       "                 voting=&#x27;soft&#x27;)</pre></div> </div></div><div class=\"sk-parallel\"><div class=\"sk-parallel-item\"><div class=\"sk-item\"><div class=\"sk-label-container\"><div class=\"sk-label  sk-toggleable\"><label>tree</label></div></div><div class=\"sk-serial\"><div class=\"sk-item\"><div class=\"sk-estimator  sk-toggleable\"><input class=\"sk-toggleable__control sk-hidden--visually\" id=\"sk-estimator-id-2\" type=\"checkbox\" ><label for=\"sk-estimator-id-2\" class=\"sk-toggleable__label  sk-toggleable__label-arrow \">&nbsp;DecisionTreeClassifier<a class=\"sk-estimator-doc-link \" rel=\"noreferrer\" target=\"_blank\" href=\"https://scikit-learn.org/1.5/modules/generated/sklearn.tree.DecisionTreeClassifier.html\">?<span>Documentation for DecisionTreeClassifier</span></a></label><div class=\"sk-toggleable__content \"><pre>DecisionTreeClassifier(max_depth=6)</pre></div> </div></div></div></div></div><div class=\"sk-parallel-item\"><div class=\"sk-item\"><div class=\"sk-label-container\"><div class=\"sk-label  sk-toggleable\"><label>forest</label></div></div><div class=\"sk-serial\"><div class=\"sk-item\"><div class=\"sk-estimator  sk-toggleable\"><input class=\"sk-toggleable__control sk-hidden--visually\" id=\"sk-estimator-id-3\" type=\"checkbox\" ><label for=\"sk-estimator-id-3\" class=\"sk-toggleable__label  sk-toggleable__label-arrow \">&nbsp;RandomForestClassifier<a class=\"sk-estimator-doc-link \" rel=\"noreferrer\" target=\"_blank\" href=\"https://scikit-learn.org/1.5/modules/generated/sklearn.ensemble.RandomForestClassifier.html\">?<span>Documentation for RandomForestClassifier</span></a></label><div class=\"sk-toggleable__content \"><pre>RandomForestClassifier(max_depth=4, max_features=5, random_state=11)</pre></div> </div></div></div></div></div><div class=\"sk-parallel-item\"><div class=\"sk-item\"><div class=\"sk-label-container\"><div class=\"sk-label  sk-toggleable\"><label>ada</label></div></div><div class=\"sk-serial\"><div class=\"sk-item\"><div class=\"sk-estimator  sk-toggleable\"><input class=\"sk-toggleable__control sk-hidden--visually\" id=\"sk-estimator-id-4\" type=\"checkbox\" ><label for=\"sk-estimator-id-4\" class=\"sk-toggleable__label  sk-toggleable__label-arrow \">&nbsp;AdaBoostClassifier<a class=\"sk-estimator-doc-link \" rel=\"noreferrer\" target=\"_blank\" href=\"https://scikit-learn.org/1.5/modules/generated/sklearn.ensemble.AdaBoostClassifier.html\">?<span>Documentation for AdaBoostClassifier</span></a></label><div class=\"sk-toggleable__content \"><pre>AdaBoostClassifier(n_estimators=100, random_state=14)</pre></div> </div></div></div></div></div></div></div></div></div>"
      ],
      "text/plain": [
       "VotingClassifier(estimators=[('tree', DecisionTreeClassifier(max_depth=6)),\n",
       "                             ('forest',\n",
       "                              RandomForestClassifier(max_depth=4,\n",
       "                                                     max_features=5,\n",
       "                                                     random_state=11)),\n",
       "                             ('ada',\n",
       "                              AdaBoostClassifier(n_estimators=100,\n",
       "                                                 random_state=14))],\n",
       "                 voting='soft')"
      ]
     },
     "execution_count": 117,
     "metadata": {},
     "output_type": "execute_result"
    }
   ],
   "source": [
    "# 모델여러개\n",
    "voting_model = VotingClassifier(estimators=[('tree', tree_model2),\n",
    "                                           ('forest',forest_model),\n",
    "                                           ('ada',ada_model)],voting = 'soft')\n",
    "voting_model"
   ]
  },
  {
   "cell_type": "code",
   "execution_count": 119,
   "id": "e32e5637-1035-4171-b3d0-6997ab6fecc2",
   "metadata": {},
   "outputs": [
    {
     "name": "stderr",
     "output_type": "stream",
     "text": [
      "C:\\Users\\smhrd\\anaconda3\\Lib\\site-packages\\sklearn\\ensemble\\_weight_boosting.py:527: FutureWarning: The SAMME.R algorithm (the default) is deprecated and will be removed in 1.6. Use the SAMME algorithm to circumvent this warning.\n",
      "  warnings.warn(\n",
      "C:\\Users\\smhrd\\anaconda3\\Lib\\site-packages\\sklearn\\ensemble\\_weight_boosting.py:527: FutureWarning: The SAMME.R algorithm (the default) is deprecated and will be removed in 1.6. Use the SAMME algorithm to circumvent this warning.\n",
      "  warnings.warn(\n",
      "C:\\Users\\smhrd\\anaconda3\\Lib\\site-packages\\sklearn\\ensemble\\_weight_boosting.py:527: FutureWarning: The SAMME.R algorithm (the default) is deprecated and will be removed in 1.6. Use the SAMME algorithm to circumvent this warning.\n",
      "  warnings.warn(\n",
      "C:\\Users\\smhrd\\anaconda3\\Lib\\site-packages\\sklearn\\ensemble\\_weight_boosting.py:527: FutureWarning: The SAMME.R algorithm (the default) is deprecated and will be removed in 1.6. Use the SAMME algorithm to circumvent this warning.\n",
      "  warnings.warn(\n",
      "C:\\Users\\smhrd\\anaconda3\\Lib\\site-packages\\sklearn\\ensemble\\_weight_boosting.py:527: FutureWarning: The SAMME.R algorithm (the default) is deprecated and will be removed in 1.6. Use the SAMME algorithm to circumvent this warning.\n",
      "  warnings.warn(\n"
     ]
    },
    {
     "data": {
      "text/plain": [
       "array([0.81564246, 0.80898876, 0.83146067, 0.79775281, 0.84269663])"
      ]
     },
     "execution_count": 119,
     "metadata": {},
     "output_type": "execute_result"
    }
   ],
   "source": [
    "# 교차검증\n",
    "result_voting = cross_val_score(voting_model, X_train_one_hot, y_train, cv = 5)\n",
    "result_voting"
   ]
  },
  {
   "cell_type": "code",
   "execution_count": 120,
   "id": "eb50cefd-41a7-4c50-b226-75f10351648c",
   "metadata": {},
   "outputs": [
    {
     "data": {
      "text/plain": [
       "0.8193082669010107"
      ]
     },
     "execution_count": 120,
     "metadata": {},
     "output_type": "execute_result"
    }
   ],
   "source": [
    "result_voting.mean()"
   ]
  },
  {
   "cell_type": "code",
   "execution_count": null,
   "id": "8d636a1e-4f82-42a9-bc83-68ba9d26395d",
   "metadata": {},
   "outputs": [],
   "source": []
  },
  {
   "cell_type": "markdown",
   "id": "4f7d2690-17a7-4a66-9bb8-688153a068d7",
   "metadata": {},
   "source": [
    "### xgboost, lightgbm"
   ]
  },
  {
   "cell_type": "code",
   "execution_count": 121,
   "id": "7e0b5874-55ba-47eb-910a-f36df0828151",
   "metadata": {},
   "outputs": [
    {
     "name": "stdout",
     "output_type": "stream",
     "text": [
      "Collecting xgboost\n",
      "  Downloading xgboost-3.0.2-py3-none-win_amd64.whl.metadata (2.1 kB)\n",
      "Requirement already satisfied: numpy in c:\\users\\smhrd\\anaconda3\\lib\\site-packages (from xgboost) (1.26.4)\n",
      "Requirement already satisfied: scipy in c:\\users\\smhrd\\anaconda3\\lib\\site-packages (from xgboost) (1.13.1)\n",
      "Downloading xgboost-3.0.2-py3-none-win_amd64.whl (150.0 MB)\n",
      "   ---------------------------------------- 0.0/150.0 MB ? eta -:--:--\n",
      "    --------------------------------------- 3.4/150.0 MB 18.3 MB/s eta 0:00:09\n",
      "   --- ------------------------------------ 13.6/150.0 MB 35.7 MB/s eta 0:00:04\n",
      "   ------ --------------------------------- 22.8/150.0 MB 38.9 MB/s eta 0:00:04\n",
      "   -------- ------------------------------- 32.2/150.0 MB 40.1 MB/s eta 0:00:03\n",
      "   ------------ --------------------------- 45.4/150.0 MB 45.1 MB/s eta 0:00:03\n",
      "   --------------- ------------------------ 59.5/150.0 MB 48.6 MB/s eta 0:00:02\n",
      "   ------------------- -------------------- 73.7/150.0 MB 51.0 MB/s eta 0:00:02\n",
      "   ----------------------- ---------------- 86.8/150.0 MB 52.7 MB/s eta 0:00:02\n",
      "   -------------------------- ------------ 100.7/150.0 MB 54.4 MB/s eta 0:00:01\n",
      "   ----------------------------- --------- 115.1/150.0 MB 55.7 MB/s eta 0:00:01\n",
      "   -------------------------------- ------ 123.7/150.0 MB 56.0 MB/s eta 0:00:01\n",
      "   ----------------------------------- --- 135.8/150.0 MB 54.5 MB/s eta 0:00:01\n",
      "   --------------------------------------  149.9/150.0 MB 56.0 MB/s eta 0:00:01\n",
      "   --------------------------------------  149.9/150.0 MB 56.0 MB/s eta 0:00:01\n",
      "   --------------------------------------- 150.0/150.0 MB 48.9 MB/s eta 0:00:00\n",
      "Installing collected packages: xgboost\n",
      "Successfully installed xgboost-3.0.2\n"
     ]
    }
   ],
   "source": [
    "# xgboost 설치\n",
    "!pip install xgboost"
   ]
  },
  {
   "cell_type": "code",
   "execution_count": 122,
   "id": "9a6a8a2d-09bc-4c48-9857-98351fa2182b",
   "metadata": {},
   "outputs": [
    {
     "name": "stdout",
     "output_type": "stream",
     "text": [
      "Collecting lightgbm\n",
      "  Downloading lightgbm-4.6.0-py3-none-win_amd64.whl.metadata (17 kB)\n",
      "Requirement already satisfied: numpy>=1.17.0 in c:\\users\\smhrd\\anaconda3\\lib\\site-packages (from lightgbm) (1.26.4)\n",
      "Requirement already satisfied: scipy in c:\\users\\smhrd\\anaconda3\\lib\\site-packages (from lightgbm) (1.13.1)\n",
      "Downloading lightgbm-4.6.0-py3-none-win_amd64.whl (1.5 MB)\n",
      "   ---------------------------------------- 0.0/1.5 MB ? eta -:--:--\n",
      "   ---------------------------------------- 1.5/1.5 MB 38.4 MB/s eta 0:00:00\n",
      "Installing collected packages: lightgbm\n",
      "Successfully installed lightgbm-4.6.0\n"
     ]
    }
   ],
   "source": [
    "# light gbm 설치\n",
    "!pip install lightgbm"
   ]
  },
  {
   "cell_type": "code",
   "execution_count": 123,
   "id": "d7085b6a-1676-45d9-bb7a-73dad2597aa8",
   "metadata": {},
   "outputs": [],
   "source": [
    "from xgboost import XGBClassifier\n",
    "from lightgbm import LGBMClassifier"
   ]
  },
  {
   "cell_type": "code",
   "execution_count": 124,
   "id": "e3b69e70-aa92-4b4b-84d4-c8c7399cf222",
   "metadata": {},
   "outputs": [],
   "source": [
    "# 숫자형 데이터 인지 확인 필수\n",
    "xg_model = XGBClassifier(n_estimators = 100, random_state = 13)"
   ]
  },
  {
   "cell_type": "code",
   "execution_count": 129,
   "id": "dcc9391d-87d9-4b15-80c3-837d2d4af8cd",
   "metadata": {},
   "outputs": [
    {
     "name": "stdout",
     "output_type": "stream",
     "text": [
      "<class 'pandas.core.series.Series'>\n",
      "Index: 891 entries, 1 to 891\n",
      "Series name: Survived\n",
      "Non-Null Count  Dtype \n",
      "--------------  ----- \n",
      "891 non-null    object\n",
      "dtypes: object(1)\n",
      "memory usage: 13.9+ KB\n"
     ]
    }
   ],
   "source": [
    "y_train.info()"
   ]
  },
  {
   "cell_type": "code",
   "execution_count": 132,
   "id": "088c7ecb-fa52-4bb1-87bc-d1751ade77cc",
   "metadata": {},
   "outputs": [],
   "source": [
    "y_train = y_train.astype('int64')"
   ]
  },
  {
   "cell_type": "code",
   "execution_count": 133,
   "id": "3608a314-85a5-4d80-be78-973cf3e51cf4",
   "metadata": {},
   "outputs": [
    {
     "data": {
      "text/plain": [
       "array([0.79329609, 0.80898876, 0.84831461, 0.79775281, 0.85393258])"
      ]
     },
     "execution_count": 133,
     "metadata": {},
     "output_type": "execute_result"
    }
   ],
   "source": [
    "result_xg = cross_val_score(xg_model,\n",
    "                           X_train_one_hot,\n",
    "                           y_train,\n",
    "                           cv = 5)\n",
    "result_xg"
   ]
  },
  {
   "cell_type": "code",
   "execution_count": 187,
   "id": "6951cb58-9274-452c-8e04-ae0007720165",
   "metadata": {},
   "outputs": [
    {
     "data": {
      "text/plain": [
       "0.8204569706860838"
      ]
     },
     "execution_count": 187,
     "metadata": {},
     "output_type": "execute_result"
    }
   ],
   "source": [
    "result_xg.mean()"
   ]
  },
  {
   "cell_type": "code",
   "execution_count": null,
   "id": "7ee4bbb8-4315-4b06-b570-6f25c9253c75",
   "metadata": {},
   "outputs": [],
   "source": []
  },
  {
   "cell_type": "markdown",
   "id": "3bf77d93-0378-45b6-b95e-631cf6a3ccc6",
   "metadata": {},
   "source": [
    "#### LightBGM"
   ]
  },
  {
   "cell_type": "code",
   "execution_count": 188,
   "id": "307b8fad-2e59-420d-84d7-e73cb087daa5",
   "metadata": {},
   "outputs": [],
   "source": [
    "lgb_model = LGBMClassifier(n_estimators = 100, random_state = 55)"
   ]
  },
  {
   "cell_type": "code",
   "execution_count": 192,
   "id": "9cee5944-1b14-4d66-8e17-4f4d80bcff58",
   "metadata": {
    "scrolled": true
   },
   "outputs": [
    {
     "name": "stdout",
     "output_type": "stream",
     "text": [
      "[LightGBM] [Info] Number of positive: 273, number of negative: 439\n",
      "[LightGBM] [Info] Auto-choosing row-wise multi-threading, the overhead of testing was 0.000645 seconds.\n",
      "You can set `force_row_wise=true` to remove the overhead.\n",
      "And if memory is not enough, you can set `force_col_wise=true`.\n",
      "[LightGBM] [Info] Total Bins 207\n",
      "[LightGBM] [Info] Number of data points in the train set: 712, number of used features: 16\n",
      "[LightGBM] [Info] [binary:BoostFromScore]: pavg=0.383427 -> initscore=-0.475028\n",
      "[LightGBM] [Info] Start training from score -0.475028\n",
      "[LightGBM] [Warning] No further splits with positive gain, best gain: -inf\n",
      "[LightGBM] [Warning] No further splits with positive gain, best gain: -inf\n",
      "[LightGBM] [Warning] No further splits with positive gain, best gain: -inf\n",
      "[LightGBM] [Warning] No further splits with positive gain, best gain: -inf\n",
      "[LightGBM] [Warning] No further splits with positive gain, best gain: -inf\n",
      "[LightGBM] [Warning] No further splits with positive gain, best gain: -inf\n",
      "[LightGBM] [Warning] No further splits with positive gain, best gain: -inf\n",
      "[LightGBM] [Warning] No further splits with positive gain, best gain: -inf\n",
      "[LightGBM] [Warning] No further splits with positive gain, best gain: -inf\n",
      "[LightGBM] [Warning] No further splits with positive gain, best gain: -inf\n",
      "[LightGBM] [Warning] No further splits with positive gain, best gain: -inf\n",
      "[LightGBM] [Warning] No further splits with positive gain, best gain: -inf\n",
      "[LightGBM] [Warning] No further splits with positive gain, best gain: -inf\n",
      "[LightGBM] [Warning] No further splits with positive gain, best gain: -inf\n",
      "[LightGBM] [Warning] No further splits with positive gain, best gain: -inf\n",
      "[LightGBM] [Warning] No further splits with positive gain, best gain: -inf\n",
      "[LightGBM] [Warning] No further splits with positive gain, best gain: -inf\n",
      "[LightGBM] [Warning] No further splits with positive gain, best gain: -inf\n",
      "[LightGBM] [Warning] No further splits with positive gain, best gain: -inf\n",
      "[LightGBM] [Warning] No further splits with positive gain, best gain: -inf\n",
      "[LightGBM] [Warning] No further splits with positive gain, best gain: -inf\n",
      "[LightGBM] [Warning] No further splits with positive gain, best gain: -inf\n",
      "[LightGBM] [Warning] No further splits with positive gain, best gain: -inf\n",
      "[LightGBM] [Warning] No further splits with positive gain, best gain: -inf\n",
      "[LightGBM] [Warning] No further splits with positive gain, best gain: -inf\n",
      "[LightGBM] [Warning] No further splits with positive gain, best gain: -inf\n",
      "[LightGBM] [Warning] No further splits with positive gain, best gain: -inf\n",
      "[LightGBM] [Warning] No further splits with positive gain, best gain: -inf\n",
      "[LightGBM] [Warning] No further splits with positive gain, best gain: -inf\n",
      "[LightGBM] [Warning] No further splits with positive gain, best gain: -inf\n",
      "[LightGBM] [Warning] No further splits with positive gain, best gain: -inf\n",
      "[LightGBM] [Warning] No further splits with positive gain, best gain: -inf\n",
      "[LightGBM] [Warning] No further splits with positive gain, best gain: -inf\n",
      "[LightGBM] [Warning] No further splits with positive gain, best gain: -inf\n",
      "[LightGBM] [Warning] No further splits with positive gain, best gain: -inf\n",
      "[LightGBM] [Warning] No further splits with positive gain, best gain: -inf\n",
      "[LightGBM] [Warning] No further splits with positive gain, best gain: -inf\n",
      "[LightGBM] [Warning] No further splits with positive gain, best gain: -inf\n",
      "[LightGBM] [Warning] No further splits with positive gain, best gain: -inf\n",
      "[LightGBM] [Warning] No further splits with positive gain, best gain: -inf\n",
      "[LightGBM] [Warning] No further splits with positive gain, best gain: -inf\n",
      "[LightGBM] [Warning] No further splits with positive gain, best gain: -inf\n",
      "[LightGBM] [Warning] No further splits with positive gain, best gain: -inf\n",
      "[LightGBM] [Warning] No further splits with positive gain, best gain: -inf\n",
      "[LightGBM] [Warning] No further splits with positive gain, best gain: -inf\n",
      "[LightGBM] [Warning] No further splits with positive gain, best gain: -inf\n",
      "[LightGBM] [Warning] No further splits with positive gain, best gain: -inf\n",
      "[LightGBM] [Warning] No further splits with positive gain, best gain: -inf\n",
      "[LightGBM] [Warning] No further splits with positive gain, best gain: -inf\n",
      "[LightGBM] [Warning] No further splits with positive gain, best gain: -inf\n",
      "[LightGBM] [Warning] No further splits with positive gain, best gain: -inf\n",
      "[LightGBM] [Warning] No further splits with positive gain, best gain: -inf\n",
      "[LightGBM] [Warning] No further splits with positive gain, best gain: -inf\n",
      "[LightGBM] [Warning] No further splits with positive gain, best gain: -inf\n",
      "[LightGBM] [Warning] No further splits with positive gain, best gain: -inf\n",
      "[LightGBM] [Warning] No further splits with positive gain, best gain: -inf\n",
      "[LightGBM] [Warning] No further splits with positive gain, best gain: -inf\n",
      "[LightGBM] [Warning] No further splits with positive gain, best gain: -inf\n",
      "[LightGBM] [Warning] No further splits with positive gain, best gain: -inf\n",
      "[LightGBM] [Warning] No further splits with positive gain, best gain: -inf\n",
      "[LightGBM] [Warning] No further splits with positive gain, best gain: -inf\n",
      "[LightGBM] [Warning] No further splits with positive gain, best gain: -inf\n",
      "[LightGBM] [Warning] No further splits with positive gain, best gain: -inf\n",
      "[LightGBM] [Warning] No further splits with positive gain, best gain: -inf\n",
      "[LightGBM] [Warning] No further splits with positive gain, best gain: -inf\n",
      "[LightGBM] [Warning] No further splits with positive gain, best gain: -inf\n",
      "[LightGBM] [Warning] No further splits with positive gain, best gain: -inf\n",
      "[LightGBM] [Warning] No further splits with positive gain, best gain: -inf\n",
      "[LightGBM] [Warning] No further splits with positive gain, best gain: -inf\n",
      "[LightGBM] [Warning] No further splits with positive gain, best gain: -inf\n",
      "[LightGBM] [Warning] No further splits with positive gain, best gain: -inf\n",
      "[LightGBM] [Warning] No further splits with positive gain, best gain: -inf\n",
      "[LightGBM] [Warning] No further splits with positive gain, best gain: -inf\n",
      "[LightGBM] [Warning] No further splits with positive gain, best gain: -inf\n",
      "[LightGBM] [Warning] No further splits with positive gain, best gain: -inf\n",
      "[LightGBM] [Warning] No further splits with positive gain, best gain: -inf\n",
      "[LightGBM] [Warning] No further splits with positive gain, best gain: -inf\n",
      "[LightGBM] [Warning] No further splits with positive gain, best gain: -inf\n",
      "[LightGBM] [Warning] No further splits with positive gain, best gain: -inf\n",
      "[LightGBM] [Warning] No further splits with positive gain, best gain: -inf\n",
      "[LightGBM] [Warning] No further splits with positive gain, best gain: -inf\n",
      "[LightGBM] [Warning] No further splits with positive gain, best gain: -inf\n",
      "[LightGBM] [Warning] No further splits with positive gain, best gain: -inf\n",
      "[LightGBM] [Warning] No further splits with positive gain, best gain: -inf\n",
      "[LightGBM] [Warning] No further splits with positive gain, best gain: -inf\n",
      "[LightGBM] [Warning] No further splits with positive gain, best gain: -inf\n",
      "[LightGBM] [Warning] No further splits with positive gain, best gain: -inf\n",
      "[LightGBM] [Warning] No further splits with positive gain, best gain: -inf\n",
      "[LightGBM] [Warning] No further splits with positive gain, best gain: -inf\n",
      "[LightGBM] [Warning] No further splits with positive gain, best gain: -inf\n",
      "[LightGBM] [Warning] No further splits with positive gain, best gain: -inf\n",
      "[LightGBM] [Warning] No further splits with positive gain, best gain: -inf\n",
      "[LightGBM] [Warning] No further splits with positive gain, best gain: -inf\n",
      "[LightGBM] [Warning] No further splits with positive gain, best gain: -inf\n",
      "[LightGBM] [Warning] No further splits with positive gain, best gain: -inf\n",
      "[LightGBM] [Warning] No further splits with positive gain, best gain: -inf\n",
      "[LightGBM] [Warning] No further splits with positive gain, best gain: -inf\n",
      "[LightGBM] [Info] Number of positive: 274, number of negative: 439\n",
      "[LightGBM] [Info] Auto-choosing row-wise multi-threading, the overhead of testing was 0.000589 seconds.\n",
      "You can set `force_row_wise=true` to remove the overhead.\n",
      "And if memory is not enough, you can set `force_col_wise=true`.\n",
      "[LightGBM] [Info] Total Bins 206\n",
      "[LightGBM] [Info] Number of data points in the train set: 713, number of used features: 16\n",
      "[LightGBM] [Info] [binary:BoostFromScore]: pavg=0.384292 -> initscore=-0.471371\n",
      "[LightGBM] [Info] Start training from score -0.471371\n",
      "[LightGBM] [Warning] No further splits with positive gain, best gain: -inf\n",
      "[LightGBM] [Warning] No further splits with positive gain, best gain: -inf\n",
      "[LightGBM] [Warning] No further splits with positive gain, best gain: -inf\n",
      "[LightGBM] [Warning] No further splits with positive gain, best gain: -inf\n",
      "[LightGBM] [Warning] No further splits with positive gain, best gain: -inf\n",
      "[LightGBM] [Warning] No further splits with positive gain, best gain: -inf\n",
      "[LightGBM] [Warning] No further splits with positive gain, best gain: -inf\n",
      "[LightGBM] [Warning] No further splits with positive gain, best gain: -inf\n",
      "[LightGBM] [Warning] No further splits with positive gain, best gain: -inf\n",
      "[LightGBM] [Warning] No further splits with positive gain, best gain: -inf\n",
      "[LightGBM] [Warning] No further splits with positive gain, best gain: -inf\n",
      "[LightGBM] [Warning] No further splits with positive gain, best gain: -inf\n",
      "[LightGBM] [Warning] No further splits with positive gain, best gain: -inf\n",
      "[LightGBM] [Warning] No further splits with positive gain, best gain: -inf\n",
      "[LightGBM] [Warning] No further splits with positive gain, best gain: -inf\n",
      "[LightGBM] [Warning] No further splits with positive gain, best gain: -inf\n",
      "[LightGBM] [Warning] No further splits with positive gain, best gain: -inf\n",
      "[LightGBM] [Warning] No further splits with positive gain, best gain: -inf\n",
      "[LightGBM] [Warning] No further splits with positive gain, best gain: -inf\n",
      "[LightGBM] [Warning] No further splits with positive gain, best gain: -inf\n",
      "[LightGBM] [Warning] No further splits with positive gain, best gain: -inf\n",
      "[LightGBM] [Warning] No further splits with positive gain, best gain: -inf\n",
      "[LightGBM] [Warning] No further splits with positive gain, best gain: -inf\n",
      "[LightGBM] [Warning] No further splits with positive gain, best gain: -inf\n",
      "[LightGBM] [Warning] No further splits with positive gain, best gain: -inf\n",
      "[LightGBM] [Warning] No further splits with positive gain, best gain: -inf\n",
      "[LightGBM] [Warning] No further splits with positive gain, best gain: -inf\n",
      "[LightGBM] [Warning] No further splits with positive gain, best gain: -inf\n",
      "[LightGBM] [Warning] No further splits with positive gain, best gain: -inf\n",
      "[LightGBM] [Warning] No further splits with positive gain, best gain: -inf\n",
      "[LightGBM] [Warning] No further splits with positive gain, best gain: -inf\n",
      "[LightGBM] [Warning] No further splits with positive gain, best gain: -inf\n",
      "[LightGBM] [Warning] No further splits with positive gain, best gain: -inf\n",
      "[LightGBM] [Warning] No further splits with positive gain, best gain: -inf\n",
      "[LightGBM] [Warning] No further splits with positive gain, best gain: -inf\n",
      "[LightGBM] [Warning] No further splits with positive gain, best gain: -inf\n",
      "[LightGBM] [Warning] No further splits with positive gain, best gain: -inf\n",
      "[LightGBM] [Warning] No further splits with positive gain, best gain: -inf\n",
      "[LightGBM] [Warning] No further splits with positive gain, best gain: -inf\n",
      "[LightGBM] [Warning] No further splits with positive gain, best gain: -inf\n",
      "[LightGBM] [Warning] No further splits with positive gain, best gain: -inf\n",
      "[LightGBM] [Warning] No further splits with positive gain, best gain: -inf\n",
      "[LightGBM] [Warning] No further splits with positive gain, best gain: -inf\n",
      "[LightGBM] [Warning] No further splits with positive gain, best gain: -inf\n",
      "[LightGBM] [Warning] No further splits with positive gain, best gain: -inf\n",
      "[LightGBM] [Warning] No further splits with positive gain, best gain: -inf\n",
      "[LightGBM] [Warning] No further splits with positive gain, best gain: -inf\n",
      "[LightGBM] [Warning] No further splits with positive gain, best gain: -inf\n",
      "[LightGBM] [Warning] No further splits with positive gain, best gain: -inf\n",
      "[LightGBM] [Warning] No further splits with positive gain, best gain: -inf\n",
      "[LightGBM] [Warning] No further splits with positive gain, best gain: -inf\n",
      "[LightGBM] [Warning] No further splits with positive gain, best gain: -inf\n",
      "[LightGBM] [Warning] No further splits with positive gain, best gain: -inf\n",
      "[LightGBM] [Warning] No further splits with positive gain, best gain: -inf\n",
      "[LightGBM] [Warning] No further splits with positive gain, best gain: -inf\n",
      "[LightGBM] [Warning] No further splits with positive gain, best gain: -inf\n",
      "[LightGBM] [Warning] No further splits with positive gain, best gain: -inf\n",
      "[LightGBM] [Warning] No further splits with positive gain, best gain: -inf\n",
      "[LightGBM] [Warning] No further splits with positive gain, best gain: -inf\n",
      "[LightGBM] [Warning] No further splits with positive gain, best gain: -inf\n",
      "[LightGBM] [Warning] No further splits with positive gain, best gain: -inf\n",
      "[LightGBM] [Warning] No further splits with positive gain, best gain: -inf\n",
      "[LightGBM] [Warning] No further splits with positive gain, best gain: -inf\n",
      "[LightGBM] [Warning] No further splits with positive gain, best gain: -inf\n",
      "[LightGBM] [Warning] No further splits with positive gain, best gain: -inf\n",
      "[LightGBM] [Warning] No further splits with positive gain, best gain: -inf\n",
      "[LightGBM] [Warning] No further splits with positive gain, best gain: -inf\n",
      "[LightGBM] [Warning] No further splits with positive gain, best gain: -inf\n",
      "[LightGBM] [Warning] No further splits with positive gain, best gain: -inf\n",
      "[LightGBM] [Warning] No further splits with positive gain, best gain: -inf\n",
      "[LightGBM] [Warning] No further splits with positive gain, best gain: -inf\n",
      "[LightGBM] [Warning] No further splits with positive gain, best gain: -inf\n",
      "[LightGBM] [Warning] No further splits with positive gain, best gain: -inf\n",
      "[LightGBM] [Warning] No further splits with positive gain, best gain: -inf\n",
      "[LightGBM] [Warning] No further splits with positive gain, best gain: -inf\n",
      "[LightGBM] [Warning] No further splits with positive gain, best gain: -inf\n",
      "[LightGBM] [Warning] No further splits with positive gain, best gain: -inf\n",
      "[LightGBM] [Warning] No further splits with positive gain, best gain: -inf\n",
      "[LightGBM] [Warning] No further splits with positive gain, best gain: -inf\n",
      "[LightGBM] [Warning] No further splits with positive gain, best gain: -inf\n",
      "[LightGBM] [Warning] No further splits with positive gain, best gain: -inf\n",
      "[LightGBM] [Warning] No further splits with positive gain, best gain: -inf\n",
      "[LightGBM] [Warning] No further splits with positive gain, best gain: -inf\n",
      "[LightGBM] [Warning] No further splits with positive gain, best gain: -inf\n",
      "[LightGBM] [Warning] No further splits with positive gain, best gain: -inf\n",
      "[LightGBM] [Warning] No further splits with positive gain, best gain: -inf\n",
      "[LightGBM] [Warning] No further splits with positive gain, best gain: -inf\n",
      "[LightGBM] [Warning] No further splits with positive gain, best gain: -inf\n",
      "[LightGBM] [Warning] No further splits with positive gain, best gain: -inf\n",
      "[LightGBM] [Warning] No further splits with positive gain, best gain: -inf\n",
      "[LightGBM] [Info] Number of positive: 274, number of negative: 439\n",
      "[LightGBM] [Info] Auto-choosing row-wise multi-threading, the overhead of testing was 0.001115 seconds.\n",
      "You can set `force_row_wise=true` to remove the overhead.\n",
      "And if memory is not enough, you can set `force_col_wise=true`.\n",
      "[LightGBM] [Info] Total Bins 207\n",
      "[LightGBM] [Info] Number of data points in the train set: 713, number of used features: 16\n",
      "[LightGBM] [Info] [binary:BoostFromScore]: pavg=0.384292 -> initscore=-0.471371\n",
      "[LightGBM] [Info] Start training from score -0.471371\n",
      "[LightGBM] [Warning] No further splits with positive gain, best gain: -inf\n",
      "[LightGBM] [Warning] No further splits with positive gain, best gain: -inf\n",
      "[LightGBM] [Warning] No further splits with positive gain, best gain: -inf\n",
      "[LightGBM] [Warning] No further splits with positive gain, best gain: -inf\n",
      "[LightGBM] [Warning] No further splits with positive gain, best gain: -inf\n",
      "[LightGBM] [Warning] No further splits with positive gain, best gain: -inf\n",
      "[LightGBM] [Warning] No further splits with positive gain, best gain: -inf\n",
      "[LightGBM] [Warning] No further splits with positive gain, best gain: -inf\n",
      "[LightGBM] [Warning] No further splits with positive gain, best gain: -inf\n",
      "[LightGBM] [Warning] No further splits with positive gain, best gain: -inf\n",
      "[LightGBM] [Warning] No further splits with positive gain, best gain: -inf\n",
      "[LightGBM] [Warning] No further splits with positive gain, best gain: -inf\n",
      "[LightGBM] [Warning] No further splits with positive gain, best gain: -inf\n",
      "[LightGBM] [Warning] No further splits with positive gain, best gain: -inf\n",
      "[LightGBM] [Warning] No further splits with positive gain, best gain: -inf\n",
      "[LightGBM] [Warning] No further splits with positive gain, best gain: -inf\n",
      "[LightGBM] [Warning] No further splits with positive gain, best gain: -inf\n",
      "[LightGBM] [Warning] No further splits with positive gain, best gain: -inf\n",
      "[LightGBM] [Warning] No further splits with positive gain, best gain: -inf\n",
      "[LightGBM] [Warning] No further splits with positive gain, best gain: -inf\n",
      "[LightGBM] [Warning] No further splits with positive gain, best gain: -inf\n",
      "[LightGBM] [Warning] No further splits with positive gain, best gain: -inf\n",
      "[LightGBM] [Warning] No further splits with positive gain, best gain: -inf\n",
      "[LightGBM] [Warning] No further splits with positive gain, best gain: -inf\n",
      "[LightGBM] [Warning] No further splits with positive gain, best gain: -inf\n",
      "[LightGBM] [Warning] No further splits with positive gain, best gain: -inf\n",
      "[LightGBM] [Warning] No further splits with positive gain, best gain: -inf\n",
      "[LightGBM] [Warning] No further splits with positive gain, best gain: -inf\n",
      "[LightGBM] [Warning] No further splits with positive gain, best gain: -inf\n",
      "[LightGBM] [Warning] No further splits with positive gain, best gain: -inf\n",
      "[LightGBM] [Warning] No further splits with positive gain, best gain: -inf\n",
      "[LightGBM] [Warning] No further splits with positive gain, best gain: -inf\n",
      "[LightGBM] [Warning] No further splits with positive gain, best gain: -inf\n",
      "[LightGBM] [Warning] No further splits with positive gain, best gain: -inf\n",
      "[LightGBM] [Warning] No further splits with positive gain, best gain: -inf\n",
      "[LightGBM] [Warning] No further splits with positive gain, best gain: -inf\n",
      "[LightGBM] [Warning] No further splits with positive gain, best gain: -inf\n",
      "[LightGBM] [Warning] No further splits with positive gain, best gain: -inf\n",
      "[LightGBM] [Warning] No further splits with positive gain, best gain: -inf\n",
      "[LightGBM] [Warning] No further splits with positive gain, best gain: -inf\n",
      "[LightGBM] [Warning] No further splits with positive gain, best gain: -inf\n",
      "[LightGBM] [Warning] No further splits with positive gain, best gain: -inf\n",
      "[LightGBM] [Warning] No further splits with positive gain, best gain: -inf\n",
      "[LightGBM] [Warning] No further splits with positive gain, best gain: -inf\n",
      "[LightGBM] [Warning] No further splits with positive gain, best gain: -inf\n",
      "[LightGBM] [Warning] No further splits with positive gain, best gain: -inf\n",
      "[LightGBM] [Warning] No further splits with positive gain, best gain: -inf\n",
      "[LightGBM] [Warning] No further splits with positive gain, best gain: -inf\n",
      "[LightGBM] [Warning] No further splits with positive gain, best gain: -inf\n",
      "[LightGBM] [Warning] No further splits with positive gain, best gain: -inf\n",
      "[LightGBM] [Warning] No further splits with positive gain, best gain: -inf\n",
      "[LightGBM] [Warning] No further splits with positive gain, best gain: -inf\n",
      "[LightGBM] [Warning] No further splits with positive gain, best gain: -inf\n",
      "[LightGBM] [Warning] No further splits with positive gain, best gain: -inf\n",
      "[LightGBM] [Warning] No further splits with positive gain, best gain: -inf\n",
      "[LightGBM] [Warning] No further splits with positive gain, best gain: -inf\n",
      "[LightGBM] [Warning] No further splits with positive gain, best gain: -inf\n",
      "[LightGBM] [Warning] No further splits with positive gain, best gain: -inf\n",
      "[LightGBM] [Warning] No further splits with positive gain, best gain: -inf\n",
      "[LightGBM] [Warning] No further splits with positive gain, best gain: -inf\n",
      "[LightGBM] [Warning] No further splits with positive gain, best gain: -inf\n",
      "[LightGBM] [Warning] No further splits with positive gain, best gain: -inf\n",
      "[LightGBM] [Warning] No further splits with positive gain, best gain: -inf\n",
      "[LightGBM] [Warning] No further splits with positive gain, best gain: -inf\n",
      "[LightGBM] [Warning] No further splits with positive gain, best gain: -inf\n",
      "[LightGBM] [Warning] No further splits with positive gain, best gain: -inf\n",
      "[LightGBM] [Warning] No further splits with positive gain, best gain: -inf\n",
      "[LightGBM] [Warning] No further splits with positive gain, best gain: -inf\n",
      "[LightGBM] [Warning] No further splits with positive gain, best gain: -inf\n",
      "[LightGBM] [Warning] No further splits with positive gain, best gain: -inf\n",
      "[LightGBM] [Warning] No further splits with positive gain, best gain: -inf\n",
      "[LightGBM] [Warning] No further splits with positive gain, best gain: -inf\n",
      "[LightGBM] [Warning] No further splits with positive gain, best gain: -inf\n",
      "[LightGBM] [Warning] No further splits with positive gain, best gain: -inf\n",
      "[LightGBM] [Warning] No further splits with positive gain, best gain: -inf\n",
      "[LightGBM] [Warning] No further splits with positive gain, best gain: -inf\n",
      "[LightGBM] [Warning] No further splits with positive gain, best gain: -inf\n",
      "[LightGBM] [Warning] No further splits with positive gain, best gain: -inf\n",
      "[LightGBM] [Warning] No further splits with positive gain, best gain: -inf\n",
      "[LightGBM] [Warning] No further splits with positive gain, best gain: -inf\n",
      "[LightGBM] [Warning] No further splits with positive gain, best gain: -inf\n",
      "[LightGBM] [Warning] No further splits with positive gain, best gain: -inf\n",
      "[LightGBM] [Warning] No further splits with positive gain, best gain: -inf\n",
      "[LightGBM] [Warning] No further splits with positive gain, best gain: -inf\n",
      "[LightGBM] [Warning] No further splits with positive gain, best gain: -inf\n",
      "[LightGBM] [Warning] No further splits with positive gain, best gain: -inf\n",
      "[LightGBM] [Warning] No further splits with positive gain, best gain: -inf\n",
      "[LightGBM] [Warning] No further splits with positive gain, best gain: -inf\n",
      "[LightGBM] [Warning] No further splits with positive gain, best gain: -inf\n",
      "[LightGBM] [Warning] No further splits with positive gain, best gain: -inf\n",
      "[LightGBM] [Info] Number of positive: 274, number of negative: 439\n",
      "[LightGBM] [Info] Auto-choosing row-wise multi-threading, the overhead of testing was 0.000846 seconds.\n",
      "You can set `force_row_wise=true` to remove the overhead.\n",
      "And if memory is not enough, you can set `force_col_wise=true`.\n",
      "[LightGBM] [Info] Total Bins 207\n",
      "[LightGBM] [Info] Number of data points in the train set: 713, number of used features: 16\n",
      "[LightGBM] [Info] [binary:BoostFromScore]: pavg=0.384292 -> initscore=-0.471371\n",
      "[LightGBM] [Info] Start training from score -0.471371\n",
      "[LightGBM] [Warning] No further splits with positive gain, best gain: -inf\n",
      "[LightGBM] [Warning] No further splits with positive gain, best gain: -inf\n",
      "[LightGBM] [Warning] No further splits with positive gain, best gain: -inf\n",
      "[LightGBM] [Warning] No further splits with positive gain, best gain: -inf\n",
      "[LightGBM] [Warning] No further splits with positive gain, best gain: -inf\n",
      "[LightGBM] [Warning] No further splits with positive gain, best gain: -inf\n",
      "[LightGBM] [Warning] No further splits with positive gain, best gain: -inf\n",
      "[LightGBM] [Warning] No further splits with positive gain, best gain: -inf\n",
      "[LightGBM] [Warning] No further splits with positive gain, best gain: -inf\n",
      "[LightGBM] [Warning] No further splits with positive gain, best gain: -inf\n",
      "[LightGBM] [Warning] No further splits with positive gain, best gain: -inf\n",
      "[LightGBM] [Warning] No further splits with positive gain, best gain: -inf\n",
      "[LightGBM] [Warning] No further splits with positive gain, best gain: -inf\n",
      "[LightGBM] [Warning] No further splits with positive gain, best gain: -inf\n",
      "[LightGBM] [Warning] No further splits with positive gain, best gain: -inf\n",
      "[LightGBM] [Warning] No further splits with positive gain, best gain: -inf\n",
      "[LightGBM] [Warning] No further splits with positive gain, best gain: -inf\n",
      "[LightGBM] [Warning] No further splits with positive gain, best gain: -inf\n",
      "[LightGBM] [Warning] No further splits with positive gain, best gain: -inf\n",
      "[LightGBM] [Warning] No further splits with positive gain, best gain: -inf\n",
      "[LightGBM] [Warning] No further splits with positive gain, best gain: -inf\n",
      "[LightGBM] [Warning] No further splits with positive gain, best gain: -inf\n",
      "[LightGBM] [Warning] No further splits with positive gain, best gain: -inf\n",
      "[LightGBM] [Warning] No further splits with positive gain, best gain: -inf\n",
      "[LightGBM] [Warning] No further splits with positive gain, best gain: -inf\n",
      "[LightGBM] [Warning] No further splits with positive gain, best gain: -inf\n",
      "[LightGBM] [Warning] No further splits with positive gain, best gain: -inf\n",
      "[LightGBM] [Warning] No further splits with positive gain, best gain: -inf\n",
      "[LightGBM] [Warning] No further splits with positive gain, best gain: -inf\n",
      "[LightGBM] [Warning] No further splits with positive gain, best gain: -inf\n",
      "[LightGBM] [Warning] No further splits with positive gain, best gain: -inf\n",
      "[LightGBM] [Warning] No further splits with positive gain, best gain: -inf\n",
      "[LightGBM] [Warning] No further splits with positive gain, best gain: -inf\n",
      "[LightGBM] [Warning] No further splits with positive gain, best gain: -inf\n",
      "[LightGBM] [Warning] No further splits with positive gain, best gain: -inf\n",
      "[LightGBM] [Warning] No further splits with positive gain, best gain: -inf\n",
      "[LightGBM] [Warning] No further splits with positive gain, best gain: -inf\n",
      "[LightGBM] [Warning] No further splits with positive gain, best gain: -inf\n",
      "[LightGBM] [Warning] No further splits with positive gain, best gain: -inf\n",
      "[LightGBM] [Warning] No further splits with positive gain, best gain: -inf\n",
      "[LightGBM] [Warning] No further splits with positive gain, best gain: -inf\n",
      "[LightGBM] [Warning] No further splits with positive gain, best gain: -inf\n",
      "[LightGBM] [Warning] No further splits with positive gain, best gain: -inf\n",
      "[LightGBM] [Warning] No further splits with positive gain, best gain: -inf\n",
      "[LightGBM] [Warning] No further splits with positive gain, best gain: -inf\n",
      "[LightGBM] [Warning] No further splits with positive gain, best gain: -inf\n",
      "[LightGBM] [Warning] No further splits with positive gain, best gain: -inf\n",
      "[LightGBM] [Warning] No further splits with positive gain, best gain: -inf\n",
      "[LightGBM] [Warning] No further splits with positive gain, best gain: -inf\n",
      "[LightGBM] [Warning] No further splits with positive gain, best gain: -inf\n",
      "[LightGBM] [Warning] No further splits with positive gain, best gain: -inf\n",
      "[LightGBM] [Warning] No further splits with positive gain, best gain: -inf\n",
      "[LightGBM] [Warning] No further splits with positive gain, best gain: -inf\n",
      "[LightGBM] [Warning] No further splits with positive gain, best gain: -inf\n",
      "[LightGBM] [Warning] No further splits with positive gain, best gain: -inf\n",
      "[LightGBM] [Warning] No further splits with positive gain, best gain: -inf\n",
      "[LightGBM] [Warning] No further splits with positive gain, best gain: -inf\n",
      "[LightGBM] [Warning] No further splits with positive gain, best gain: -inf\n",
      "[LightGBM] [Warning] No further splits with positive gain, best gain: -inf\n",
      "[LightGBM] [Warning] No further splits with positive gain, best gain: -inf\n",
      "[LightGBM] [Warning] No further splits with positive gain, best gain: -inf\n",
      "[LightGBM] [Warning] No further splits with positive gain, best gain: -inf\n",
      "[LightGBM] [Warning] No further splits with positive gain, best gain: -inf\n",
      "[LightGBM] [Warning] No further splits with positive gain, best gain: -inf\n",
      "[LightGBM] [Warning] No further splits with positive gain, best gain: -inf\n",
      "[LightGBM] [Warning] No further splits with positive gain, best gain: -inf\n",
      "[LightGBM] [Warning] No further splits with positive gain, best gain: -inf\n",
      "[LightGBM] [Warning] No further splits with positive gain, best gain: -inf\n",
      "[LightGBM] [Warning] No further splits with positive gain, best gain: -inf\n",
      "[LightGBM] [Warning] No further splits with positive gain, best gain: -inf\n",
      "[LightGBM] [Warning] No further splits with positive gain, best gain: -inf\n",
      "[LightGBM] [Warning] No further splits with positive gain, best gain: -inf\n",
      "[LightGBM] [Warning] No further splits with positive gain, best gain: -inf\n",
      "[LightGBM] [Warning] No further splits with positive gain, best gain: -inf\n",
      "[LightGBM] [Warning] No further splits with positive gain, best gain: -inf\n",
      "[LightGBM] [Warning] No further splits with positive gain, best gain: -inf\n",
      "[LightGBM] [Warning] No further splits with positive gain, best gain: -inf\n",
      "[LightGBM] [Warning] No further splits with positive gain, best gain: -inf\n",
      "[LightGBM] [Warning] No further splits with positive gain, best gain: -inf\n",
      "[LightGBM] [Warning] No further splits with positive gain, best gain: -inf\n",
      "[LightGBM] [Warning] No further splits with positive gain, best gain: -inf\n",
      "[LightGBM] [Warning] No further splits with positive gain, best gain: -inf\n",
      "[LightGBM] [Warning] No further splits with positive gain, best gain: -inf\n",
      "[LightGBM] [Warning] No further splits with positive gain, best gain: -inf\n",
      "[LightGBM] [Warning] No further splits with positive gain, best gain: -inf\n",
      "[LightGBM] [Warning] No further splits with positive gain, best gain: -inf\n",
      "[LightGBM] [Warning] No further splits with positive gain, best gain: -inf\n",
      "[LightGBM] [Warning] No further splits with positive gain, best gain: -inf\n",
      "[LightGBM] [Warning] No further splits with positive gain, best gain: -inf\n",
      "[LightGBM] [Warning] No further splits with positive gain, best gain: -inf\n",
      "[LightGBM] [Warning] No further splits with positive gain, best gain: -inf\n",
      "[LightGBM] [Warning] No further splits with positive gain, best gain: -inf\n",
      "[LightGBM] [Warning] No further splits with positive gain, best gain: -inf\n",
      "[LightGBM] [Warning] No further splits with positive gain, best gain: -inf\n",
      "[LightGBM] [Warning] No further splits with positive gain, best gain: -inf\n",
      "[LightGBM] [Warning] No further splits with positive gain, best gain: -inf\n",
      "[LightGBM] [Info] Number of positive: 273, number of negative: 440\n",
      "[LightGBM] [Info] Auto-choosing row-wise multi-threading, the overhead of testing was 0.001092 seconds.\n",
      "You can set `force_row_wise=true` to remove the overhead.\n",
      "And if memory is not enough, you can set `force_col_wise=true`.\n",
      "[LightGBM] [Info] Total Bins 207\n",
      "[LightGBM] [Info] Number of data points in the train set: 713, number of used features: 16\n",
      "[LightGBM] [Info] [binary:BoostFromScore]: pavg=0.382889 -> initscore=-0.477303\n",
      "[LightGBM] [Info] Start training from score -0.477303\n",
      "[LightGBM] [Warning] No further splits with positive gain, best gain: -inf\n",
      "[LightGBM] [Warning] No further splits with positive gain, best gain: -inf\n",
      "[LightGBM] [Warning] No further splits with positive gain, best gain: -inf\n",
      "[LightGBM] [Warning] No further splits with positive gain, best gain: -inf\n",
      "[LightGBM] [Warning] No further splits with positive gain, best gain: -inf\n",
      "[LightGBM] [Warning] No further splits with positive gain, best gain: -inf\n",
      "[LightGBM] [Warning] No further splits with positive gain, best gain: -inf\n",
      "[LightGBM] [Warning] No further splits with positive gain, best gain: -inf\n",
      "[LightGBM] [Warning] No further splits with positive gain, best gain: -inf\n",
      "[LightGBM] [Warning] No further splits with positive gain, best gain: -inf\n",
      "[LightGBM] [Warning] No further splits with positive gain, best gain: -inf\n",
      "[LightGBM] [Warning] No further splits with positive gain, best gain: -inf\n",
      "[LightGBM] [Warning] No further splits with positive gain, best gain: -inf\n",
      "[LightGBM] [Warning] No further splits with positive gain, best gain: -inf\n",
      "[LightGBM] [Warning] No further splits with positive gain, best gain: -inf\n",
      "[LightGBM] [Warning] No further splits with positive gain, best gain: -inf\n",
      "[LightGBM] [Warning] No further splits with positive gain, best gain: -inf\n",
      "[LightGBM] [Warning] No further splits with positive gain, best gain: -inf\n",
      "[LightGBM] [Warning] No further splits with positive gain, best gain: -inf\n",
      "[LightGBM] [Warning] No further splits with positive gain, best gain: -inf\n",
      "[LightGBM] [Warning] No further splits with positive gain, best gain: -inf\n",
      "[LightGBM] [Warning] No further splits with positive gain, best gain: -inf\n",
      "[LightGBM] [Warning] No further splits with positive gain, best gain: -inf\n",
      "[LightGBM] [Warning] No further splits with positive gain, best gain: -inf\n",
      "[LightGBM] [Warning] No further splits with positive gain, best gain: -inf\n",
      "[LightGBM] [Warning] No further splits with positive gain, best gain: -inf\n",
      "[LightGBM] [Warning] No further splits with positive gain, best gain: -inf\n",
      "[LightGBM] [Warning] No further splits with positive gain, best gain: -inf\n",
      "[LightGBM] [Warning] No further splits with positive gain, best gain: -inf\n",
      "[LightGBM] [Warning] No further splits with positive gain, best gain: -inf\n",
      "[LightGBM] [Warning] No further splits with positive gain, best gain: -inf\n",
      "[LightGBM] [Warning] No further splits with positive gain, best gain: -inf\n",
      "[LightGBM] [Warning] No further splits with positive gain, best gain: -inf\n",
      "[LightGBM] [Warning] No further splits with positive gain, best gain: -inf\n",
      "[LightGBM] [Warning] No further splits with positive gain, best gain: -inf\n",
      "[LightGBM] [Warning] No further splits with positive gain, best gain: -inf\n",
      "[LightGBM] [Warning] No further splits with positive gain, best gain: -inf\n",
      "[LightGBM] [Warning] No further splits with positive gain, best gain: -inf\n",
      "[LightGBM] [Warning] No further splits with positive gain, best gain: -inf\n",
      "[LightGBM] [Warning] No further splits with positive gain, best gain: -inf\n",
      "[LightGBM] [Warning] No further splits with positive gain, best gain: -inf\n",
      "[LightGBM] [Warning] No further splits with positive gain, best gain: -inf\n",
      "[LightGBM] [Warning] No further splits with positive gain, best gain: -inf\n",
      "[LightGBM] [Warning] No further splits with positive gain, best gain: -inf\n",
      "[LightGBM] [Warning] No further splits with positive gain, best gain: -inf\n",
      "[LightGBM] [Warning] No further splits with positive gain, best gain: -inf\n",
      "[LightGBM] [Warning] No further splits with positive gain, best gain: -inf\n",
      "[LightGBM] [Warning] No further splits with positive gain, best gain: -inf\n",
      "[LightGBM] [Warning] No further splits with positive gain, best gain: -inf\n",
      "[LightGBM] [Warning] No further splits with positive gain, best gain: -inf\n",
      "[LightGBM] [Warning] No further splits with positive gain, best gain: -inf\n",
      "[LightGBM] [Warning] No further splits with positive gain, best gain: -inf\n",
      "[LightGBM] [Warning] No further splits with positive gain, best gain: -inf\n",
      "[LightGBM] [Warning] No further splits with positive gain, best gain: -inf\n",
      "[LightGBM] [Warning] No further splits with positive gain, best gain: -inf\n",
      "[LightGBM] [Warning] No further splits with positive gain, best gain: -inf\n",
      "[LightGBM] [Warning] No further splits with positive gain, best gain: -inf\n",
      "[LightGBM] [Warning] No further splits with positive gain, best gain: -inf\n",
      "[LightGBM] [Warning] No further splits with positive gain, best gain: -inf\n",
      "[LightGBM] [Warning] No further splits with positive gain, best gain: -inf\n",
      "[LightGBM] [Warning] No further splits with positive gain, best gain: -inf\n",
      "[LightGBM] [Warning] No further splits with positive gain, best gain: -inf\n",
      "[LightGBM] [Warning] No further splits with positive gain, best gain: -inf\n",
      "[LightGBM] [Warning] No further splits with positive gain, best gain: -inf\n",
      "[LightGBM] [Warning] No further splits with positive gain, best gain: -inf\n",
      "[LightGBM] [Warning] No further splits with positive gain, best gain: -inf\n",
      "[LightGBM] [Warning] No further splits with positive gain, best gain: -inf\n",
      "[LightGBM] [Warning] No further splits with positive gain, best gain: -inf\n",
      "[LightGBM] [Warning] No further splits with positive gain, best gain: -inf\n",
      "[LightGBM] [Warning] No further splits with positive gain, best gain: -inf\n",
      "[LightGBM] [Warning] No further splits with positive gain, best gain: -inf\n",
      "[LightGBM] [Warning] No further splits with positive gain, best gain: -inf\n",
      "[LightGBM] [Warning] No further splits with positive gain, best gain: -inf\n",
      "[LightGBM] [Warning] No further splits with positive gain, best gain: -inf\n",
      "[LightGBM] [Warning] No further splits with positive gain, best gain: -inf\n",
      "[LightGBM] [Warning] No further splits with positive gain, best gain: -inf\n",
      "[LightGBM] [Warning] No further splits with positive gain, best gain: -inf\n",
      "[LightGBM] [Warning] No further splits with positive gain, best gain: -inf\n",
      "[LightGBM] [Warning] No further splits with positive gain, best gain: -inf\n",
      "[LightGBM] [Warning] No further splits with positive gain, best gain: -inf\n",
      "[LightGBM] [Warning] No further splits with positive gain, best gain: -inf\n",
      "[LightGBM] [Warning] No further splits with positive gain, best gain: -inf\n",
      "[LightGBM] [Warning] No further splits with positive gain, best gain: -inf\n",
      "[LightGBM] [Warning] No further splits with positive gain, best gain: -inf\n",
      "[LightGBM] [Warning] No further splits with positive gain, best gain: -inf\n",
      "[LightGBM] [Warning] No further splits with positive gain, best gain: -inf\n",
      "[LightGBM] [Warning] No further splits with positive gain, best gain: -inf\n",
      "[LightGBM] [Warning] No further splits with positive gain, best gain: -inf\n",
      "[LightGBM] [Warning] No further splits with positive gain, best gain: -inf\n",
      "[LightGBM] [Warning] No further splits with positive gain, best gain: -inf\n",
      "[LightGBM] [Warning] No further splits with positive gain, best gain: -inf\n",
      "[LightGBM] [Warning] No further splits with positive gain, best gain: -inf\n",
      "[LightGBM] [Warning] No further splits with positive gain, best gain: -inf\n",
      "[LightGBM] [Warning] No further splits with positive gain, best gain: -inf\n",
      "[LightGBM] [Warning] No further splits with positive gain, best gain: -inf\n",
      "[LightGBM] [Warning] No further splits with positive gain, best gain: -inf\n",
      "[LightGBM] [Warning] No further splits with positive gain, best gain: -inf\n",
      "[LightGBM] [Warning] No further splits with positive gain, best gain: -inf\n"
     ]
    },
    {
     "data": {
      "text/plain": [
       "array([0.79888268, 0.81460674, 0.86516854, 0.80337079, 0.87078652])"
      ]
     },
     "execution_count": 192,
     "metadata": {},
     "output_type": "execute_result"
    }
   ],
   "source": [
    "result_lgb = cross_val_score(lgb_model,\n",
    "                           X_train_one_hot,\n",
    "                           y_train,\n",
    "                           cv = 5)\n",
    "result_lgb"
   ]
  },
  {
   "cell_type": "code",
   "execution_count": 193,
   "id": "e8823dbe-512f-482f-8236-747cc5ba1d26",
   "metadata": {},
   "outputs": [
    {
     "data": {
      "text/plain": [
       "0.8305630531667818"
      ]
     },
     "execution_count": 193,
     "metadata": {},
     "output_type": "execute_result"
    }
   ],
   "source": [
    "result_lgb.mean()"
   ]
  },
  {
   "cell_type": "code",
   "execution_count": null,
   "id": "fe9bac8d-3965-44a4-a247-ba051f0123a8",
   "metadata": {},
   "outputs": [],
   "source": [
    "result_lgb = cross_val_score(lgb_model,\n",
    "                           X_train_one_hot,\n",
    "                           y_train,\n",
    "                           cv = 5)\n",
    "result_lgb"
   ]
  },
  {
   "cell_type": "code",
   "execution_count": null,
   "id": "e475d709-a379-4d81-b9ff-1061e5af26c5",
   "metadata": {},
   "outputs": [],
   "source": []
  },
  {
   "cell_type": "code",
   "execution_count": 205,
   "id": "f1b395fd-9f74-4a9e-b48b-6633309d9855",
   "metadata": {},
   "outputs": [],
   "source": [
    "# 모델 학습\n",
    "xg_model = XGBClassifier(n_estimators = 100, random_state = 13)\n",
    "xg_model.fit(X_train_one_hot1, y_train)\n",
    "\n",
    "# 예측값\n",
    "pre_xgb= lgb_model.predict(X_test_one_hot)\n",
    "\n",
    "# 모델 답안지 작성\n",
    "result_lgb = pd.read_csv('./data/gender_submission.csv')\n",
    "result_lgb['Survived'] = pre_xgb\n",
    "result_lgb.to_csv('data/model_05.csv', index=False)"
   ]
  },
  {
   "cell_type": "code",
   "execution_count": 201,
   "id": "2573b2c8-b1eb-4d0d-bef4-0ac16fb5c421",
   "metadata": {},
   "outputs": [
    {
     "name": "stdout",
     "output_type": "stream",
     "text": [
      "<class 'pandas.core.frame.DataFrame'>\n",
      "Index: 891 entries, 1 to 891\n",
      "Data columns (total 20 columns):\n",
      " #   Column              Non-Null Count  Dtype  \n",
      "---  ------              --------------  -----  \n",
      " 0   Pclass              891 non-null    int64  \n",
      " 1   Age                 891 non-null    int64  \n",
      " 2   Fare                891 non-null    float64\n",
      " 3   Sex_female          891 non-null    bool   \n",
      " 4   Sex_male            891 non-null    bool   \n",
      " 5   Embarked_C          891 non-null    bool   \n",
      " 6   Embarked_Q          891 non-null    bool   \n",
      " 7   Embarked_S          891 non-null    bool   \n",
      " 8   Deck_A              891 non-null    bool   \n",
      " 9   Deck_B              891 non-null    bool   \n",
      " 10  Deck_C              891 non-null    bool   \n",
      " 11  Deck_D              891 non-null    bool   \n",
      " 12  Deck_E              891 non-null    bool   \n",
      " 13  Deck_F              891 non-null    bool   \n",
      " 14  Deck_G              891 non-null    bool   \n",
      " 15  Deck_M              891 non-null    bool   \n",
      " 16  Deck_T              891 non-null    bool   \n",
      " 17  Family_group_Alone  891 non-null    bool   \n",
      " 18  Family_group_Small  891 non-null    bool   \n",
      " 19  Family_group_Large  891 non-null    bool   \n",
      "dtypes: bool(17), float64(1), int64(2)\n",
      "memory usage: 42.6 KB\n"
     ]
    }
   ],
   "source": [
    "X_train_one_hot.info()"
   ]
  },
  {
   "cell_type": "code",
   "execution_count": 204,
   "id": "a5ad2fc6-5c7c-4716-869c-9c3d4a279bac",
   "metadata": {},
   "outputs": [],
   "source": [
    "group_surv = train.groupby(['Embarked','Pclass'])['Survived'].mean()\n",
    "X_train_one_hot1 = X_train_one_hot.assign(\n",
    "    Emb_Pclass_SurvRate = train.apply(lambda r: group_surv.loc[(r['Embarked'], r['Pclass'])], axis=1),\n",
    "    Age_Fare            = lambda df: df['Age'] * df['Fare']\n",
    ")"
   ]
  },
  {
   "cell_type": "code",
   "execution_count": 206,
   "id": "36df9034-c4fd-4d33-863c-52e0fb310394",
   "metadata": {},
   "outputs": [
    {
     "name": "stdout",
     "output_type": "stream",
     "text": [
      "Best params: {'subsample': 0.6, 'n_estimators': 100, 'max_depth': 5, 'learning_rate': 0.1, 'colsample_bytree': 1.0}\n",
      "Best CV accuracy: 0.8440085368150146\n"
     ]
    }
   ],
   "source": [
    "# 1) 그룹별 생존율 매핑 + Age×Fare 추가\n",
    "group_surv = train.groupby(['Embarked','Pclass'])['Survived'].mean()\n",
    "X_train_one_hot1 = X_train_one_hot.assign(\n",
    "    Emb_Pclass_SurvRate = train.apply(lambda r: group_surv.loc[(r['Embarked'], r['Pclass'])], axis=1),\n",
    "    Age_Fare            = lambda df: df['Age'] * df['Fare']\n",
    ")\n",
    "\n",
    "# 2) 랜덤 서치로 XGB 하이퍼파라미터 최적화\n",
    "from sklearn.model_selection import RandomizedSearchCV\n",
    "from xgboost import XGBClassifier\n",
    "\n",
    "param_dist = {\n",
    "    'n_estimators':     [50,100,200,300],\n",
    "    'max_depth':        [3,4,5,6,8],\n",
    "    'learning_rate':    [0.01,0.05,0.1,0.2],\n",
    "    'subsample':        [0.6,0.8,1.0],\n",
    "    'colsample_bytree': [0.6,0.8,1.0]\n",
    "}\n",
    "\n",
    "rs = RandomizedSearchCV(\n",
    "    XGBClassifier(random_state=42),\n",
    "    param_distributions=param_dist,\n",
    "    n_iter=50, cv=5, scoring='accuracy', n_jobs=-1, random_state=42\n",
    ")\n",
    "\n",
    "# **여기서** X_train_one_hot1 을 넣습니다\n",
    "rs.fit(X_train_one_hot1, y_train)\n",
    "\n",
    "print(\"Best params:\", rs.best_params_)\n",
    "print(\"Best CV accuracy:\", rs.best_score_)\n"
   ]
  },
  {
   "cell_type": "code",
   "execution_count": 211,
   "id": "3677535c-0860-4803-b186-685542678a8b",
   "metadata": {},
   "outputs": [],
   "source": [
    "# 1) train에서 만든 group_surv 같은 코드 블록이 필요합니다.\n",
    "group_surv = train.groupby(['Embarked','Pclass'])['Survived'].mean()\n",
    "\n",
    "# 2) 테스트 데이터에도 동일 피처 추가\n",
    "X_test_one_hot1 = X_test_one_hot.assign(\n",
    "    Emb_Pclass_SurvRate = test.apply(lambda r: group_surv.loc[(r['Embarked'], r['Pclass'])], axis=1),\n",
    "    Age_Fare            = lambda df: df['Age'] * df['Fare']\n",
    ")\n",
    "\n",
    "best_xgb.fit(X_train_one_hot1, y_train)\n",
    "pre_xgb = best_xgb.predict(X_test_one_hot1)\n",
    "\n",
    "\n",
    "# 4) 결과 파일 저장\n",
    "submission = pd.read_csv('./data/gender_submission.csv')\n",
    "submission['Survived'] = pre_xgb\n",
    "submission.to_csv('data/model_06.csv', index=False)\n"
   ]
  },
  {
   "cell_type": "code",
   "execution_count": 240,
   "id": "b502a386-da05-4675-9f41-591ac8565faf",
   "metadata": {},
   "outputs": [],
   "source": [
    "import numpy as np\n",
    "import pandas as pd\n",
    "\n",
    "# 데이터 로드\n",
    "train = pd.read_csv('./data/train.csv', index_col='PassengerId')\n",
    "test = pd.read_csv('./data/test.csv', index_col='PassengerId')\n",
    "\n",
    "# 이미 Name, Ticket, SibSp, Parch 삭제되었다고 가정!\n",
    "# 그렇지 않다면 다음 한 줄을 먼저 실행\n",
    "# for df in [train, test]: df.drop(['Name','Ticket','SibSp','Parch'], axis=1, inplace=True, errors='ignore')\n",
    "\n",
    "# 데이터 합치기\n",
    "all_data = pd.concat([train, test], sort=False)\n",
    "\n",
    "# (1) Family_Size, FamilyGroup\n",
    "if 'Family_Size' not in all_data.columns:\n",
    "    all_data['Family_Size'] = 1  # 이미 삭제된 경우 기본값 1\n",
    "all_data['FamilyGroup'] = pd.cut(all_data['Family_Size'], bins=[0,1,4,20], labels=['Alone','Small','Large'])\n",
    "\n",
    "# (2) Age, Fare 결측치 Pclass+Sex별 중앙값으로 보완\n",
    "for col in ['Age', 'Fare']:\n",
    "    all_data[col] = all_data.groupby(['Pclass', 'Sex'])[col].transform(\n",
    "        lambda x: x.fillna(x.median())\n",
    "    )\n",
    "\n",
    "# (3) AgeGroup, FareGroup\n",
    "all_data['AgeGroup'] = pd.cut(all_data['Age'], [0, 10, 18, 25, 35, 60, 100],\n",
    "                             labels=['Child','Teen','Youth','YoungAdult','Adult','Senior'])\n",
    "all_data['FareGroup'] = pd.qcut(all_data['Fare'], 4, labels=['Low','MidLow','MidHigh','High'])\n",
    "\n",
    "# (4) Deck(=Cabin 첫글자), 결측치 대체\n",
    "if 'Cabin' in all_data.columns:\n",
    "    all_data['Cabin'] = all_data['Cabin'].fillna('M')\n",
    "    all_data['Deck'] = all_data['Cabin'].str[0]\n",
    "    drop_deck_col = ['Cabin']\n",
    "else:\n",
    "    all_data['Deck'] = 'M'\n",
    "    drop_deck_col = []\n",
    "\n",
    "# (5) 교호작용 특성 (Sex_Pclass, Embarked_Sex)\n",
    "all_data['Sex_Pclass'] = all_data['Sex'] + '_' + all_data['Pclass'].astype(str)\n",
    "all_data['Embarked_Sex'] = all_data['Embarked'].astype(str) + '_' + all_data['Sex']\n",
    "\n",
    "# (6) 불필요 컬럼 삭제\n",
    "drop_cols = ['Family_Size'] + drop_deck_col\n",
    "if 'Survived' in all_data.columns:\n",
    "    features = [c for c in all_data.columns if c not in drop_cols + ['Survived']]\n",
    "else:\n",
    "    features = [c for c in all_data.columns if c not in drop_cols]\n",
    "\n",
    "all_data = pd.get_dummies(all_data[features], drop_first=True)\n",
    "\n",
    "# train/test 다시 분할\n",
    "train_X = all_data.iloc[:len(train), :]\n",
    "train_y = train['Survived']\n",
    "test_X  = all_data.iloc[len(train):, :]\n",
    "\n",
    "# XGBoost 모델 학습 및 예측\n",
    "from xgboost import XGBClassifier\n",
    "model = XGBClassifier(\n",
    "    n_estimators=500, max_depth=4,\n",
    "    learning_rate=0.02, subsample=0.9, colsample_bytree=0.7, random_state=42\n",
    ")\n",
    "model.fit(train_X, train_y)\n",
    "pred = model.predict(test_X)\n",
    "\n",
    "# 제출\n",
    "submission = pd.read_csv('./data/gender_submission.csv', index_col='PassengerId')\n",
    "submission['Survived'] = pred\n",
    "submission.to_csv('data/titanic_final.csv')\n"
   ]
  },
  {
   "cell_type": "code",
   "execution_count": null,
   "id": "a001aefc-70a8-434b-840a-77ab29685a5e",
   "metadata": {},
   "outputs": [],
   "source": []
  },
  {
   "cell_type": "code",
   "execution_count": null,
   "id": "9119df25-d1ed-414e-94fb-33c02dd7934b",
   "metadata": {},
   "outputs": [],
   "source": []
  },
  {
   "cell_type": "code",
   "execution_count": 239,
   "id": "4fd218fc-f2ca-4871-9b91-c7ac9f87273c",
   "metadata": {},
   "outputs": [
    {
     "name": "stdout",
     "output_type": "stream",
     "text": [
      "랜덤 포레스트 모델의 예측이 완료되었습니다.\n"
     ]
    }
   ],
   "source": [
    "# 타이타닉 랜덤 포레스트 모델\n",
    "\n",
    "\n",
    "# 필요한 라이브러리 임포트\n",
    "import numpy as np\n",
    "import pandas as pd\n",
    "from sklearn.ensemble import RandomForestClassifier\n",
    "\n",
    "# 데이터 로드\n",
    "train_data = pd.read_csv(\"./data/train.csv\")\n",
    "test_data = pd.read_csv(\"./data/test.csv\")\n",
    "\n",
    "# 특성 선택\n",
    "features = [\"Pclass\", \"Sex\", \"SibSp\", \"Parch\"]\n",
    "X = pd.get_dummies(train_data[features])\n",
    "X_test = pd.get_dummies(test_data[features])\n",
    "\n",
    "# 타겟 변수\n",
    "y = train_data[\"Survived\"]\n",
    "\n",
    "# 랜덤 포레스트 모델 생성 및 학습\n",
    "rf_model = RandomForestClassifier(n_estimators=100, max_depth=5, random_state=1)\n",
    "rf_model.fit(X, y)\n",
    "\n",
    "# 예측\n",
    "predictions = rf_model.predict(X_test)\n",
    "\n",
    "# 제출 파일 생성\n",
    "result_rf = pd.read_csv('./data/gender_submission.csv')\n",
    "result_rf['Survived'] = predictions\n",
    "result_rf.to_csv('data/random_forest_submission.csv', index=False)\n",
    "\n",
    "print(\"랜덤 포레스트 모델의 예측이 완료되었습니다.\")\n"
   ]
  },
  {
   "cell_type": "code",
   "execution_count": 243,
   "id": "7c790d4f-9315-4f85-8cfc-9bd50d416fa9",
   "metadata": {},
   "outputs": [],
   "source": [
    "# 파생변수/조합을 최대한 늘려서 get_dummies 후 스태킹 앙상블\n",
    "# 위의 예시 피처 다 만든 후...\n",
    "\n",
    "from sklearn.ensemble import StackingClassifier, RandomForestClassifier, GradientBoostingClassifier\n",
    "from xgboost import XGBClassifier\n",
    "from lightgbm import LGBMClassifier\n",
    "\n",
    "all_X = pd.concat([train_X, test_X])\n",
    "all_X = pd.get_dummies(all_X, drop_first=True)\n",
    "train_X = all_X.iloc[:len(train), :]\n",
    "test_X = all_X.iloc[len(train):, :]\n",
    "\n",
    "stack = StackingClassifier(\n",
    "    estimators=[\n",
    "        ('rf', RandomForestClassifier(n_estimators=400, max_depth=7, random_state=42)),\n",
    "        ('gb', GradientBoostingClassifier(n_estimators=200, learning_rate=0.05, random_state=42)),\n",
    "        ('xgb', XGBClassifier(n_estimators=400, learning_rate=0.02, max_depth=5, random_state=42)),\n",
    "        ('lgb', LGBMClassifier(n_estimators=300, learning_rate=0.03, num_leaves=15, random_state=42))\n",
    "    ],\n",
    "    final_estimator=RandomForestClassifier(n_estimators=100, random_state=42),\n",
    "    n_jobs=-1\n",
    ")\n",
    "stack.fit(train_X, train['Survived'])\n",
    "pred = stack.predict(test_X)\n",
    "\n",
    "# 제출\n",
    "submission = pd.read_csv('./data/gender_submission.csv')\n",
    "submission['Survived'] = pred\n",
    "submission.to_csv('data/titanic_stack_final.csv', index=False)\n"
   ]
  },
  {
   "cell_type": "code",
   "execution_count": 253,
   "id": "ddc6ae56-ec31-4430-965d-aac5244fcb40",
   "metadata": {},
   "outputs": [
    {
     "name": "stderr",
     "output_type": "stream",
     "text": [
      "C:\\Users\\smhrd\\anaconda3\\Lib\\site-packages\\sklearn\\base.py:486: UserWarning: X has feature names, but SelectFromModel was fitted without feature names\n",
      "  warnings.warn(\n",
      "C:\\Users\\smhrd\\anaconda3\\Lib\\site-packages\\sklearn\\base.py:486: UserWarning: X has feature names, but SelectFromModel was fitted without feature names\n",
      "  warnings.warn(\n"
     ]
    },
    {
     "name": "stdout",
     "output_type": "stream",
     "text": [
      "Fitting 5 folds for each of 324 candidates, totalling 1620 fits\n"
     ]
    },
    {
     "name": "stderr",
     "output_type": "stream",
     "text": [
      "C:\\Users\\smhrd\\anaconda3\\Lib\\site-packages\\sklearn\\model_selection\\_validation.py:540: FitFailedWarning: \n",
      "540 fits failed out of a total of 1620.\n",
      "The score on these train-test partitions for these parameters will be set to nan.\n",
      "If these failures are not expected, you can try to debug them by setting error_score='raise'.\n",
      "\n",
      "Below are more details about the failures:\n",
      "--------------------------------------------------------------------------------\n",
      "540 fits failed with the following error:\n",
      "Traceback (most recent call last):\n",
      "  File \"C:\\Users\\smhrd\\anaconda3\\Lib\\site-packages\\sklearn\\model_selection\\_validation.py\", line 888, in _fit_and_score\n",
      "    estimator.fit(X_train, y_train, **fit_params)\n",
      "  File \"C:\\Users\\smhrd\\anaconda3\\Lib\\site-packages\\sklearn\\base.py\", line 1466, in wrapper\n",
      "    estimator._validate_params()\n",
      "  File \"C:\\Users\\smhrd\\anaconda3\\Lib\\site-packages\\sklearn\\base.py\", line 666, in _validate_params\n",
      "    validate_parameter_constraints(\n",
      "  File \"C:\\Users\\smhrd\\anaconda3\\Lib\\site-packages\\sklearn\\utils\\_param_validation.py\", line 95, in validate_parameter_constraints\n",
      "    raise InvalidParameterError(\n",
      "sklearn.utils._param_validation.InvalidParameterError: The 'max_features' parameter of RandomForestClassifier must be an int in the range [1, inf), a float in the range (0.0, 1.0], a str among {'sqrt', 'log2'} or None. Got 'auto' instead.\n",
      "\n",
      "  warnings.warn(some_fits_failed_message, FitFailedWarning)\n",
      "C:\\Users\\smhrd\\anaconda3\\Lib\\site-packages\\numpy\\ma\\core.py:2820: RuntimeWarning: invalid value encountered in cast\n",
      "  _data = np.array(data, dtype=dtype, copy=copy,\n",
      "C:\\Users\\smhrd\\anaconda3\\Lib\\site-packages\\sklearn\\model_selection\\_search.py:1102: UserWarning: One or more of the test scores are non-finite: [0.80473919 0.80359048 0.80807859 0.80025108 0.80360304 0.79799761\n",
      " 0.79801017 0.79797251 0.80023853 0.80696127 0.79802272 0.8058314\n",
      " 0.80023225 0.7912686  0.79464566 0.79351579 0.79127487 0.79350951\n",
      "        nan        nan        nan        nan        nan        nan\n",
      "        nan        nan        nan        nan        nan        nan\n",
      "        nan        nan        nan        nan        nan        nan\n",
      " 0.80248572 0.80136212 0.80471408 0.80021342 0.79577553 0.80809114\n",
      " 0.7957567  0.79801645 0.79801645 0.80246061 0.80360304 0.79240475\n",
      " 0.79462683 0.80134329 0.79127487 0.8047078  0.79910866 0.80472036\n",
      " 0.78678677 0.78566317 0.79015755 0.78566317 0.79352834 0.79577553\n",
      " 0.79689285 0.79463938 0.79351579 0.7845333  0.79688657 0.79576925\n",
      " 0.79127487 0.79573159 0.79015128 0.79236081 0.78902768 0.79574415\n",
      "        nan        nan        nan        nan        nan        nan\n",
      "        nan        nan        nan        nan        nan        nan\n",
      "        nan        nan        nan        nan        nan        nan\n",
      " 0.79127487 0.79237964 0.78678677 0.79015755 0.79464566 0.78791036\n",
      " 0.79352206 0.79463938 0.79351579 0.78903396 0.79576298 0.79015128\n",
      " 0.79127487 0.79463938 0.79015128 0.80135585 0.79127487 0.78121273\n",
      " 0.78791036 0.78679305 0.78791036 0.79239847 0.78902768 0.79127487\n",
      " 0.79576925 0.79015128 0.78790409 0.78566945 0.78902768 0.79801017\n",
      " 0.80245433 0.79464566 0.78902768 0.79576298 0.79352206 0.79239219\n",
      "        nan        nan        nan        nan        nan        nan\n",
      "        nan        nan        nan        nan        nan        nan\n",
      "        nan        nan        nan        nan        nan        nan\n",
      " 0.78903396 0.78566945 0.78903396 0.78791036 0.78902768 0.78789781\n",
      " 0.790145   0.7856569  0.79128115 0.79239847 0.79576298 0.79239219\n",
      " 0.79015128 0.79351579 0.79015128 0.80024481 0.78902768 0.80246689\n",
      " 0.80361559 0.78570083 0.80137468 0.80473291 0.8013684  0.80023853\n",
      " 0.8047078  0.8058314  0.80695499 0.80360932 0.80024481 0.80025108\n",
      " 0.79912121 0.79689285 0.79687402 0.79352206 0.80695499 0.79800389\n",
      "        nan        nan        nan        nan        nan        nan\n",
      "        nan        nan        nan        nan        nan        nan\n",
      "        nan        nan        nan        nan        nan        nan\n",
      " 0.80023853 0.80137468 0.802492   0.80248572 0.80025108 0.79576925\n",
      " 0.80359048 0.80471408 0.79800389 0.80137468 0.79912749 0.80585023\n",
      " 0.79912121 0.79799761 0.80024481 0.79465821 0.79912121 0.80358421\n",
      " 0.79128115 0.79127487 0.79465194 0.79463311 0.79352834 0.79576925\n",
      " 0.79015755 0.79352834 0.79353462 0.79240475 0.79689913 0.79576925\n",
      " 0.79239847 0.79688657 0.79127487 0.7968803  0.79239847 0.79575042\n",
      "        nan        nan        nan        nan        nan        nan\n",
      "        nan        nan        nan        nan        nan        nan\n",
      "        nan        nan        nan        nan        nan        nan\n",
      " 0.79239847 0.79688657 0.79239847 0.79127487 0.79576925 0.79465194\n",
      " 0.79689913 0.78903396 0.79577553 0.79017011 0.79241102 0.79127487\n",
      " 0.79239847 0.79127487 0.79239847 0.79352206 0.79464566 0.79015755\n",
      " 0.78678049 0.78790409 0.78678049 0.78678677 0.79015128 0.79015128\n",
      " 0.79240475 0.79015128 0.79465194 0.7856569  0.79015128 0.79128115\n",
      " 0.79352206 0.79238591 0.79352206 0.78791036 0.79127487 0.79015128\n",
      "        nan        nan        nan        nan        nan        nan\n",
      "        nan        nan        nan        nan        nan        nan\n",
      "        nan        nan        nan        nan        nan        nan\n",
      " 0.78566317 0.78790409 0.78566317 0.78678677 0.78791664 0.78902768\n",
      " 0.79240475 0.79240475 0.78678677 0.78679305 0.79015755 0.79239847\n",
      " 0.79464566 0.79239847 0.79352206 0.79239847 0.79239847 0.79351579]\n",
      "  warnings.warn(\n"
     ]
    }
   ],
   "source": [
    "# 타이타닉 예측 모델 - 고급 기법\n",
    "\n",
    "\n",
    "# 필요한 라이브러리 임포트\n",
    "\n",
    "from sklearn.pipeline import make_pipeline\n",
    "from sklearn.ensemble import RandomForestClassifier\n",
    "\n",
    "from sklearn.feature_selection import SelectKBest, SelectFromModel\n",
    "from sklearn.model_selection import StratifiedKFold, GridSearchCV, cross_val_score\n",
    "from sklearn.linear_model import LogisticRegression, LogisticRegressionCV\n",
    "import pandas as pd\n",
    "import numpy as np\n",
    "from sklearn.ensemble import GradientBoostingClassifier\n",
    "\n",
    "# 교차 검증 점수 계산 함수\n",
    "def compute_score(clf, X, y, scoring='accuracy'):\n",
    "    xval = cross_val_score(clf, X, y, cv=5, scoring=scoring)\n",
    "    return np.mean(xval)\n",
    "\n",
    "\n",
    "# 데이터 준비\n",
    "train_data = pd.read_csv('./data/train.csv')\n",
    "test_data = pd.read_csv('./data/test.csv')\n",
    "\n",
    "# 타겟 변수 정의\n",
    "targets = train_data['Survived']\n",
    "\n",
    "# 특성 선택\n",
    "features = [\"Pclass\", \"Sex\", \"SibSp\", \"Parch\"]\n",
    "train = pd.get_dummies(train_data[features])\n",
    "test = pd.get_dummies(test_data[features])\n",
    "\n",
    "# 특성 선택을 위한 랜덤 포레스트\n",
    "clf = RandomForestClassifier(n_estimators=50, max_features='sqrt')\n",
    "clf.fit(train, targets)\n",
    "\n",
    "# 데이터 준비\n",
    "train_data = pd.read_csv('./data/train.csv')\n",
    "test_data = pd.read_csv('./data/test.csv')\n",
    "\n",
    "# 특성 선택을 위한 랜덤 포레스트\n",
    "clf = RandomForestClassifier(n_estimators=50, max_features='sqrt')\n",
    "clf.fit(train, targets)\n",
    "\n",
    "# 특성 중요도 기반 특성 선택\n",
    "model = SelectFromModel(clf, prefit=True)\n",
    "train_reduced = model.transform(train)\n",
    "test_reduced = model.transform(test)\n",
    "\n",
    "# 그리드서치를 통한 하이퍼파라미터 최적화\n",
    "parameter_grid = {\n",
    "    'max_depth': [4, 6, 8],\n",
    "    'n_estimators': [50, 10],\n",
    "    'max_features': ['sqrt', 'auto', 'log2'],\n",
    "    'min_samples_split': [2, 3, 10],\n",
    "    'min_samples_leaf': [1, 3, 10],\n",
    "    'bootstrap': [True, False]\n",
    "}\n",
    "\n",
    "forest = RandomForestClassifier()\n",
    "cross_validation = StratifiedKFold(n_splits=5)\n",
    "\n",
    "grid_search = GridSearchCV(\n",
    "    forest,\n",
    "    scoring='accuracy',\n",
    "    param_grid=parameter_grid,\n",
    "    cv=cross_validation,\n",
    "    verbose=1\n",
    ")\n",
    "\n",
    "grid_search.fit(train, targets)\n",
    "model = grid_search\n",
    "\n",
    "# 최종 예측 및 결과 저장\n",
    "output = model.predict(test).astype(int)\n",
    "df_output = pd.DataFrame()\n",
    "df_output['PassengerId'] = test_data['PassengerId']\n",
    "df_output['Survived'] = output\n",
    "df_output.to_csv('./data/blended_models.csv', index=False)\n",
    "\n",
    "# 모델 블렌딩\n",
    "models = [\n",
    "    LogisticRegression(),\n",
    "    LogisticRegressionCV(),\n",
    "    RandomForestClassifier(),\n",
    "    GradientBoostingClassifier()\n",
    "]\n",
    "\n",
    "trained_models = []\n",
    "for model in models:\n",
    "    model.fit(train, targets)\n",
    "    trained_models.append(model)\n",
    "\n",
    "predictions = []\n",
    "for model in trained_models:\n",
    "    predictions.append(model.predict_proba(test)[:, 1])\n",
    "\n",
    "predictions_df = pd.DataFrame(predictions).T\n",
    "predictions_df['out'] = predictions_df.mean(axis=1)\n",
    "predictions_df['PassengerId'] = test_data['PassengerId']\n",
    "predictions_df['out'] = predictions_df['out'].map(lambda s: 1 if s >= 0.5 else 0)\n",
    "\n",
    "predictions_df = predictions_df[['PassengerId', 'out']]\n",
    "predictions_df.columns = ['PassengerId', 'Survived']\n",
    "predictions_df.to_csv('./data/blended_models.csv', index=False)\n"
   ]
  },
  {
   "cell_type": "code",
   "execution_count": null,
   "id": "4f7052c5-ef71-405c-bff5-d46e3b18e452",
   "metadata": {},
   "outputs": [],
   "source": []
  }
 ],
 "metadata": {
  "kernelspec": {
   "display_name": "Python 3 (ipykernel)",
   "language": "python",
   "name": "python3"
  },
  "language_info": {
   "codemirror_mode": {
    "name": "ipython",
    "version": 3
   },
   "file_extension": ".py",
   "mimetype": "text/x-python",
   "name": "python",
   "nbconvert_exporter": "python",
   "pygments_lexer": "ipython3",
   "version": "3.12.7"
  }
 },
 "nbformat": 4,
 "nbformat_minor": 5
}
