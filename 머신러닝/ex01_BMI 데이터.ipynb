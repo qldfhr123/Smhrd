{
 "cells": [
  {
   "cell_type": "markdown",
   "id": "c2ab4b6a-51bf-48ce-a219-9aa098f32d73",
   "metadata": {},
   "source": [
    "## BMI 데이터 활용 머신러닝의 전체 과정 이해"
   ]
  },
  {
   "cell_type": "markdown",
   "id": "a6f22560-8df1-40d0-94e8-18f21e694343",
   "metadata": {},
   "source": [
    "#### 7과정\n",
    "1. 정의\n",
    "2. 수집\n",
    "3. 전처리(결측지, 이상치, 특성공학)\n",
    "4. 탬색적 분석\n",
    "5. Model 선택 Hyper Parameter 조정\n",
    "6. 학습\n",
    "7. 평가"
   ]
  },
  {
   "cell_type": "markdown",
   "id": "d41e7b74-f50e-43ad-8673-73107bc0d399",
   "metadata": {},
   "source": [
    "### 1.문제 정의 (목표)\n",
    "- 500명의 키 몸무게 비만도 레이블 이용 비만정도 판단하는 모델"
   ]
  },
  {
   "cell_type": "markdown",
   "id": "5813122b-9cea-45bd-b52b-2b0e595c1658",
   "metadata": {},
   "source": [
    "### 2. 데이터 수집\n",
    "- 데이터 파일 로드"
   ]
  },
  {
   "cell_type": "code",
   "execution_count": null,
   "id": "b4af3681-a901-427e-92c2-f71e2d96d7ea",
   "metadata": {},
   "outputs": [],
   "source": [
    "# 필요한 모듈 import\n",
    "import pandas as pd\n",
    "import matplotlib.pyplot as plt\n",
    "\n",
    "import sklearn.neighbors import KNeighborsClassifier # 모델\n",
    "import sklearn import metrices # 평가"
   ]
  },
  {
   "cell_type": "code",
   "execution_count": null,
   "id": "c6d6dd91-b3cc-4fe9-bc76-d15ab034b0e9",
   "metadata": {},
   "outputs": [],
   "source": [
    "# 데이터 불러오기 \n",
    "\n",
    "tb1 = pd.read.csv('./data/bmi_500.csv', index_col = 'Label' )"
   ]
  },
  {
   "cell_type": "markdown",
   "id": "7aebe4ab-f673-4084-aa4e-1eb201b4576c",
   "metadata": {},
   "source": [
    "### 3. 데이터 전처리\n",
    "- 전처리 필요없는 학습용 데이터"
   ]
  },
  {
   "cell_type": "markdown",
   "id": "9430ad4a-043e-4546-b0f5-a596ed1bfb76",
   "metadata": {},
   "source": [
    "### 4. 탐색적 데이터 분석\n",
    "- 데이터의 특성 파악"
   ]
  },
  {
   "cell_type": "code",
   "execution_count": null,
   "id": "ca9ea597-e9da-4f3b-866c-e62f6d978237",
   "metadata": {},
   "outputs": [],
   "source": [
    "tb1.info"
   ]
  },
  {
   "cell_type": "code",
   "execution_count": null,
   "id": "446dbdf2-f70b-4d94-9d84-0205d072e3e0",
   "metadata": {},
   "outputs": [],
   "source": [
    "tb1['Height'].value_counts()"
   ]
  },
  {
   "cell_type": "code",
   "execution_count": null,
   "id": "5495533d-fe42-42da-b674-6fb223e7fb69",
   "metadata": {},
   "outputs": [],
   "source": [
    "# 기술 통계치 확인\n",
    "# 데이터가 섞여있을 경우 수치형 데이터에서만 출력\n",
    "tb1.describe()\n",
    "\n",
    "# 전부\n",
    "# tb1.describe( include='all')"
   ]
  },
  {
   "cell_type": "code",
   "execution_count": null,
   "id": "29c62cfb-e5e5-4b07-98ef-a959684f46c0",
   "metadata": {},
   "outputs": [],
   "source": [
    "# 레이블 종류 확인\n",
    "tb1.index.unique()"
   ]
  },
  {
   "cell_type": "code",
   "execution_count": null,
   "id": "01acd508-56bd-48a6-95d5-d57e9f4f63ca",
   "metadata": {},
   "outputs": [],
   "source": [
    "# Extreme Obesity 인 사람들은 몇명?\n",
    "\n",
    "######\n",
    "tb1.loc['Extreme Obesity']\n",
    "######\n",
    "tb1.loc['Extreme Obesity'].shape\n",
    "######\n",
    "tb1['Extreme Obesity'].value_counts()"
   ]
  },
  {
   "cell_type": "code",
   "execution_count": null,
   "id": "74ae33ba-4f00-4202-9725-fe31202e9356",
   "metadata": {},
   "outputs": [],
   "source": [
    "#데이터 시각화 \n",
    "# 산점도 그래프로 전체 데이터 시각화\n",
    "plt.scatter(tb1['Weight'], # x 키\n",
    "           tb1['Height'], # y 키\n",
    "           )\n",
    "plt.show()"
   ]
  },
  {
   "cell_type": "markdown",
   "id": "9178c020-4143-48cc-8877-ba05214724ff",
   "metadata": {},
   "source": [
    "### 각 비만도 등급(6개)별로 시각화"
   ]
  },
  {
   "cell_type": "code",
   "execution_count": null,
   "id": "6925ff60-bb2e-42e3-a8f9-0a0b23162ecd",
   "metadata": {},
   "outputs": [],
   "source": [
    "# 키와 몸무게 데이터를 등급별로 구분 산점도 표시 함수 만들기\n",
    "def myScatter(class_name, color):\n",
    "    # 입력하 클래스 명칭에 대한 데이터 출력\n",
    "    tmp = tb1.loc[class_name]\n",
    "\n",
    "    # 산점도 출력\n",
    "    plt.scatter(tmp['Weight'],\n",
    "               tmp['Height'],\n",
    "                c = color,\n",
    "               label = class_name) # 범례 출력시 텍스트\n",
    "    plt.show()"
   ]
  },
  {
   "cell_type": "code",
   "execution_count": null,
   "id": "b64c7d01-80ec-4e11-9a67-b21a0bc78150",
   "metadata": {},
   "outputs": [],
   "source": [
    "tbl.index.unique()"
   ]
  },
  {
   "cell_type": "code",
   "execution_count": null,
   "id": "c2370950-356d-4b69-9cbc-2e80a4bb187a",
   "metadata": {},
   "outputs": [],
   "source": [
    "myScatter('Obesity', 'black')"
   ]
  },
  {
   "cell_type": "code",
   "execution_count": null,
   "id": "30d5ef11-9a2b-4bf4-9060-f037afef317a",
   "metadata": {},
   "outputs": [],
   "source": [
    "plt.figure(figsize=(5,5))\n",
    "\n",
    "# 선언된 함수에 클래스명과 색상 입력\n",
    "myScatter('Obesity', 'black')\n",
    "myScatter('Normal', 'blue')\n",
    "myScatter('Overweight', 'green')\n",
    "myScatter('Extreme Obesity', 'pink')\n",
    "myScatter('Weak', 'purple')\n",
    "myScatter('Extremely Weak', 'red')\n",
    "\n",
    "plt.legend() # 범례\n",
    "plt.xlabel('Weight')\n",
    "plt.ylabel('Height')\n",
    "\n",
    "# 산점도를 통해 모무게 키 에 따른 데이터의 분포를 직관적으로 확인 가능"
   ]
  },
  {
   "cell_type": "markdown",
   "id": "e5f346d2-b4bf-485b-8fb7-7386fe45fef0",
   "metadata": {},
   "source": [
    "#### 5. 모델링(선택 학습)\n",
    "- 1. 문제 정답 분리\n",
    "- 2. train, test,\n",
    "- 3. 모델 생성\n",
    "- 4. 학습 및 평가\n",
    "- 5. 하이퍼 파리미터 조정"
   ]
  },
  {
   "cell_type": "code",
   "execution_count": null,
   "id": "cc920687-40e2-40f5-8f33-597c6f9addff",
   "metadata": {},
   "outputs": [],
   "source": [
    "data = pd.read_csv('./data/bmi_500.csv')"
   ]
  },
  {
   "cell_type": "code",
   "execution_count": null,
   "id": "7294b240-45a7-411f-912b-e67d913edc67",
   "metadata": {},
   "outputs": [],
   "source": [
    "# x 문제, y 정답\n",
    "X = data.loc[:, 'Height':'Weight']\n",
    "Y = data.loc[:, 'Label']"
   ]
  },
  {
   "cell_type": "code",
   "execution_count": null,
   "id": "9643218b-b112-47ca-8885-103b718bfd0a",
   "metadata": {},
   "outputs": [],
   "source": [
    "print(X.shape())\n",
    "print(Y.shape())"
   ]
  },
  {
   "attachments": {
    "ff511cb1-d2ba-46a6-b3ae-1ee7ef1bc1b5.png": {
     "image/png": "[encoded data removed]"
    }
   },
   "cell_type": "markdown",
   "id": "55d64a74-97e0-4a1c-a500-210020caecb9",
   "metadata": {},
   "source": [
    "![image.png](attachment:ff511cb1-d2ba-46a6-b3ae-1ee7ef1bc1b5.png)"
   ]
  },
  {
   "cell_type": "code",
   "execution_count": null,
   "id": "f01aab42-2ad3-44c0-85ef-25bdfe8d7bd8",
   "metadata": {},
   "outputs": [],
   "source": [
    "# 문제와 정답, 학습 평가 데이터로 분리 7:3 비율\n",
    "\n",
    "# x 문제, y 정답\n",
    "# X = data.loc[:, 'Height':'Weight']\n",
    "# Y = data.loc[:, 'Label']\n",
    "\n",
    "\n",
    "X_train = data.iloc[:350, 1:3 ]\n",
    "x_test = data.iloc[350:, 1:3]\n",
    "Y_train = data.iloc[350:, 3]\n",
    "y_test = data.iloc[350:, 3]\n",
    "\n",
    "\n",
    "'''\n",
    "from sklearn.model_selection import train_test_split\n",
    "\n",
    "X_train, X_test, y_train, y_test = train_test_split(\n",
    "    X, \n",
    "    y,\n",
    "    test_size=0.3,  # 30%가 테스트 데이터\n",
    "    random_state=42\n",
    ")\n",
    "\n",
    "'''"
   ]
  },
  {
   "cell_type": "code",
   "execution_count": null,
   "id": "aec38813-b448-44d1-b4f6-924d0f8ca4fb",
   "metadata": {},
   "outputs": [],
   "source": [
    "knn_model = KNeighborsClassifier(n_neighbors=18)"
   ]
  },
  {
   "cell_type": "code",
   "execution_count": null,
   "id": "843f1922-44cd-4a9a-9834-fda37a0c5a2b",
   "metadata": {},
   "outputs": [],
   "source": [
    "# 모델 학습\n",
    "knn_model.fit(X_train, Y_train)"
   ]
  },
  {
   "cell_type": "code",
   "execution_count": null,
   "id": "37a87f7a-4cc7-4604-9178-ff490e0cb8cf",
   "metadata": {},
   "outputs": [],
   "source": [
    "# 예측 값 변수에 저장 및 출력\n",
    "pred = knn_model.predict(x_test)\n",
    "pred"
   ]
  },
  {
   "cell_type": "code",
   "execution_count": null,
   "id": "60bd5b6f-71bb-47c3-b728-924de7a99f9d",
   "metadata": {},
   "outputs": [],
   "source": [
    "# 모델이 예측한 결과값과 실제 정답을 넣고 정확도 평가\n",
    "metrics.accuracy_score(pred, y_test)"
   ]
  },
  {
   "cell_type": "code",
   "execution_count": null,
   "id": "ab1fe7d8-78d7-4dd5-8cc6-4081f25f7afe",
   "metadata": {},
   "outputs": [],
   "source": [
    "knn_model.scroe(x_test, y_test)"
   ]
  },
  {
   "cell_type": "code",
   "execution_count": null,
   "id": "22e0b10a-a95d-4d29-872c-a90e2022ac77",
   "metadata": {},
   "outputs": [],
   "source": [
    "# 정확도 이외\n",
    "import sklearn.metrices import classification_report"
   ]
  },
  {
   "cell_type": "code",
   "execution_count": null,
   "id": "aa591efd-74c8-4935-82fa-ee93c0a773b5",
   "metadata": {},
   "outputs": [],
   "source": [
    "print(classification_report(pred, y_test))\n",
    "# precision 정밀도 (모델 기준), 모델이 ~ 라고 예측한것 실제로도 데이터가 ~ 인 비율\n",
    "# recall : 재현율(데이터 기준), 실제 데이터 중에서 모델이 ~ 예측한 비율\n",
    "# f1-score : 정밀도와 재현율의 조화 평균"
   ]
  },
  {
   "cell_type": "code",
   "execution_count": null,
   "id": "67e1354f-2fd2-4769-9c3e-2cba956d4345",
   "metadata": {},
   "outputs": [],
   "source": [
    "# 입력한 값으로 결과값 출력 (feature_name 입력)\n",
    "knn_model.predict([[,]])"
   ]
  },
  {
   "cell_type": "code",
   "execution_count": null,
   "id": "42d7afed-d590-426d-acba-5130211f9fa7",
   "metadata": {},
   "outputs": [],
   "source": [
    "# 정석 방법\n",
    "my_info = pd.DatFrame([[,]], colums = ['Height','Weight'])\n",
    "knn_model.predict(my_info)"
   ]
  },
  {
   "cell_type": "code",
   "execution_count": null,
   "id": "ead29461-f146-4eba-a1b9-10616b13ca99",
   "metadata": {},
   "outputs": [],
   "source": []
  },
  {
   "cell_type": "code",
   "execution_count": null,
   "id": "15a06557-921c-438f-8c37-4604e89659c2",
   "metadata": {},
   "outputs": [],
   "source": []
  },
  {
   "cell_type": "code",
   "execution_count": null,
   "id": "3687d1f5-37a7-459a-82c3-bce00bdf9eaa",
   "metadata": {},
   "outputs": [],
   "source": []
  },
  {
   "cell_type": "code",
   "execution_count": null,
   "id": "c79bb313-2a06-4507-a6b9-c84d6bbbccc8",
   "metadata": {},
   "outputs": [],
   "source": []
  },
  {
   "cell_type": "code",
   "execution_count": null,
   "id": "7579b010-bd34-4d73-94e7-9946ab916597",
   "metadata": {},
   "outputs": [],
   "source": []
  },
  {
   "cell_type": "code",
   "execution_count": null,
   "id": "7c90de4f-2601-412a-85bc-1fc95f97a894",
   "metadata": {},
   "outputs": [],
   "source": []
  },
  {
   "cell_type": "code",
   "execution_count": null,
   "id": "056d6211-4e99-4046-9b80-b43977671488",
   "metadata": {},
   "outputs": [],
   "source": []
  },
  {
   "cell_type": "code",
   "execution_count": null,
   "id": "39be7597-efe6-44a0-a844-652f81a3e6f7",
   "metadata": {},
   "outputs": [],
   "source": []
  },
  {
   "cell_type": "code",
   "execution_count": null,
   "id": "03ca55b5-29bf-4f7c-b695-f912703e731e",
   "metadata": {},
   "outputs": [],
   "source": []
  },
  {
   "cell_type": "code",
   "execution_count": null,
   "id": "d802dbc0-c904-49f0-a2de-b935b12a4070",
   "metadata": {},
   "outputs": [],
   "source": []
  },
  {
   "cell_type": "code",
   "execution_count": null,
   "id": "75a194d1-986f-4d33-bc6d-7b801c727752",
   "metadata": {},
   "outputs": [],
   "source": []
  },
  {
   "cell_type": "code",
   "execution_count": null,
   "id": "8d09b50d-a00c-4f2e-8e42-ca04ff13933c",
   "metadata": {},
   "outputs": [],
   "source": []
  },
  {
   "cell_type": "code",
   "execution_count": null,
   "id": "89123759-432b-4781-b8c5-8a89f2e310f3",
   "metadata": {},
   "outputs": [],
   "source": []
  },
  {
   "cell_type": "code",
   "execution_count": null,
   "id": "06f55589-f848-432f-bdcc-166043979f52",
   "metadata": {},
   "outputs": [],
   "source": []
  },
  {
   "cell_type": "code",
   "execution_count": null,
   "id": "7c91fab7-5d41-426c-b7b5-e26502a2f13e",
   "metadata": {},
   "outputs": [],
   "source": []
  },
  {
   "cell_type": "code",
   "execution_count": null,
   "id": "89bca1fa-1de6-403b-8c1c-d2a31ecd322d",
   "metadata": {},
   "outputs": [],
   "source": []
  },
  {
   "cell_type": "code",
   "execution_count": null,
   "id": "430ee987-16ec-4d53-895f-9870a8db3ef7",
   "metadata": {},
   "outputs": [],
   "source": []
  },
  {
   "cell_type": "code",
   "execution_count": null,
   "id": "c3cdd6d5-75da-47c4-a226-1fb03f2fafeb",
   "metadata": {},
   "outputs": [],
   "source": []
  },
  {
   "cell_type": "code",
   "execution_count": null,
   "id": "39b00c4e-8011-4756-a043-f5d6a2e0dc46",
   "metadata": {},
   "outputs": [],
   "source": []
  },
  {
   "cell_type": "code",
   "execution_count": null,
   "id": "8184a7b4-cd0d-431a-8356-e3164cfc59e2",
   "metadata": {},
   "outputs": [],
   "source": []
  },
  {
   "cell_type": "code",
   "execution_count": null,
   "id": "0d9fd455-052f-4b30-9871-a3011941909d",
   "metadata": {},
   "outputs": [],
   "source": []
  },
  {
   "cell_type": "code",
   "execution_count": null,
   "id": "6d43af78-ae46-4621-81ce-69bd2b08ca98",
   "metadata": {},
   "outputs": [],
   "source": []
  },
  {
   "cell_type": "code",
   "execution_count": null,
   "id": "1c24b6e0-f2d8-4f06-a7d5-694cee57ae94",
   "metadata": {},
   "outputs": [],
   "source": []
  },
  {
   "cell_type": "code",
   "execution_count": null,
   "id": "729c8fd3-9070-48e5-9b40-e1bc27745771",
   "metadata": {},
   "outputs": [],
   "source": []
  },
  {
   "cell_type": "code",
   "execution_count": null,
   "id": "eacc0b2f-ce0b-4309-828b-0d1d2ab485b0",
   "metadata": {},
   "outputs": [],
   "source": []
  },
  {
   "cell_type": "code",
   "execution_count": null,
   "id": "13b255c5-927c-4170-8377-51f40b036394",
   "metadata": {},
   "outputs": [],
   "source": []
  },
  {
   "cell_type": "code",
   "execution_count": null,
   "id": "ea8a742f-5b7a-4533-8660-3efa2cf3b9bd",
   "metadata": {},
   "outputs": [],
   "source": []
  },
  {
   "cell_type": "code",
   "execution_count": null,
   "id": "d10e0f94-9853-41b0-812e-c8fbba58ce81",
   "metadata": {},
   "outputs": [],
   "source": []
  },
  {
   "cell_type": "code",
   "execution_count": null,
   "id": "2f4efa3e-a81e-4b80-b9ff-a2c9d71da85a",
   "metadata": {},
   "outputs": [],
   "source": []
  },
  {
   "cell_type": "code",
   "execution_count": null,
   "id": "f98611bc-82e0-4540-bcbc-d2901a7ad703",
   "metadata": {},
   "outputs": [],
   "source": []
  },
  {
   "cell_type": "code",
   "execution_count": null,
   "id": "c7cd0953-6b18-4639-8d8a-de4835ca13b2",
   "metadata": {},
   "outputs": [],
   "source": []
  },
  {
   "cell_type": "code",
   "execution_count": null,
   "id": "ff8258b2-694d-41af-8254-30610a1d53f8",
   "metadata": {},
   "outputs": [],
   "source": []
  },
  {
   "cell_type": "code",
   "execution_count": null,
   "id": "7afd6178-a4e0-4cb4-9354-c0cc7be35bc1",
   "metadata": {},
   "outputs": [],
   "source": []
  },
  {
   "cell_type": "code",
   "execution_count": null,
   "id": "85ffee58-5563-4593-997f-20eadc22c9e6",
   "metadata": {},
   "outputs": [],
   "source": []
  },
  {
   "cell_type": "code",
   "execution_count": null,
   "id": "11c57e10-c9ad-41ff-967e-8a1c39371cb3",
   "metadata": {},
   "outputs": [],
   "source": []
  },
  {
   "cell_type": "code",
   "execution_count": null,
   "id": "038def0f-7ebe-4c36-9657-e212e6aa6b93",
   "metadata": {},
   "outputs": [],
   "source": []
  },
  {
   "cell_type": "code",
   "execution_count": null,
   "id": "51524e81-9d27-482f-9b63-4e6fa8bac3c5",
   "metadata": {},
   "outputs": [],
   "source": []
  }
 ],
 "metadata": {
  "kernelspec": {
   "display_name": "Python 3 (ipykernel)",
   "language": "python",
   "name": "python3"
  },
  "language_info": {
   "codemirror_mode": {
    "name": "ipython",
    "version": 3
   },
   "file_extension": ".py",
   "mimetype": "text/x-python",
   "name": "python",
   "nbconvert_exporter": "python",
   "pygments_lexer": "ipython3",
   "version": "3.12.7"
  }
 },
 "nbformat": 4,
 "nbformat_minor": 5
}
